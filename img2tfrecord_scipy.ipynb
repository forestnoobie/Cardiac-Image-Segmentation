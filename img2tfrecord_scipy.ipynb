{
 "cells": [
  {
   "cell_type": "code",
   "execution_count": 1,
   "metadata": {},
   "outputs": [
    {
     "name": "stderr",
     "output_type": "stream",
     "text": [
      "C:\\Users\\Nakyilkim\\Anaconda3\\lib\\site-packages\\h5py\\__init__.py:36: FutureWarning: Conversion of the second argument of issubdtype from `float` to `np.floating` is deprecated. In future, it will be treated as `np.float64 == np.dtype(float).type`.\n",
      "  from ._conv import register_converters as _register_converters\n",
      "Using TensorFlow backend.\n"
     ]
    }
   ],
   "source": [
    "### img -> tf record withot pickling\n",
    "\n",
    "import nibabel as nib\n",
    "import numpy as np\n",
    "import matplotlib.pyplot as plt\n",
    "import os\n",
    "\n",
    "from keras.utils import to_categorical\n",
    "from sklearn import preprocessing\n",
    "\n",
    "from PIL import Image\n",
    "import itertools\n",
    "from tqdm import tqdm\n",
    "\n",
    "import numpy as np\n",
    "import skimage.io as io\n",
    "import tensorflow as tf\n",
    "\n",
    "from tqdm import tqdm\n",
    "from dltk.io.preprocessing import *\n",
    "import scipy.ndimage\n",
    "\n",
    "\n",
    "import pickle\n",
    "\n",
    "root = 'D:\\segmentiation/'\n",
    "ct_set = os.path.join(root,'ct_train_test/ct_train/')\n",
    "mr_set = os.path.join(root,'mr_train_test/mr_train/')\n",
    "filenames = os.listdir(ct_set)\n",
    "\n"
   ]
  },
  {
   "cell_type": "code",
   "execution_count": 21,
   "metadata": {},
   "outputs": [],
   "source": [
    "def pickle_iter(path):\n",
    "    f = open(path, 'rb')\n",
    "    unpickler = pickle.Unpickler(f)\n",
    "    try:\n",
    "        for i in range(9999999999):\n",
    "            yield unpickler.load()\n",
    "    except:\n",
    "        f.close()\n",
    "        print('pickle generator created')\n",
    "\n",
    "        \n",
    "def pad3d(array):\n",
    "    height = array.shape[0]\n",
    "    depth = array.shape[2]\n",
    "    \n",
    "    if (height - depth) % 2 :\n",
    "        pad_front = int((height + 1 - depth) / 2)\n",
    "        pad_back = int((height - 1 - depth) / 2)\n",
    "    else:\n",
    "        pad_front = pad_back = int((height - depth) / 2)\n",
    "    \n",
    "    npad = ((0,0),(0,0),(pad_front,pad_back))\n",
    "    array_padding = np.pad(array, npad, 'constant', constant_values=(0))\n",
    "    array_padding[array_padding<0] = 0\n",
    "    \n",
    "    return array_padding\n",
    "\n",
    "\n",
    "def image_preprocess(image, new_size, mask=False):\n",
    "    assert np.sum(image.shape==image.shape[0])!=3    \n",
    "    \n",
    "    ratio = new_size / image.shape[0]\n",
    "    \n",
    "    image = scipy.ndimage.zoom(image, zoom=ratio, order=0)\n",
    "\n",
    "    if mask:\n",
    "        channel = 7 + 1 #background\n",
    "        image = image.reshape(-1)\n",
    "        \n",
    "        \n",
    "        image = label_encoder.fit_transform(image)\n",
    "        \n",
    "        \n",
    "        \n",
    "        \n",
    "        print(\"annotation shape\",image.shape)\n",
    "        print(\"unique value\", np.unique(image))\n",
    "        \n",
    "        \n",
    "        image = to_categorical(image, class_num)\n",
    "        print(\"processed mask shape\",image.shape)\n",
    "\n",
    "        \n",
    "    else:\n",
    "        channel = 1\n",
    "    # reshape to raw shape\n",
    "    image = image.reshape((new_size,)*3 + (channel,))\n",
    "    print(\"Reshaped shape\",image.shape)\n",
    "    \n",
    "    return image\n",
    "\n",
    "def nii_loader(path,file_name):\n",
    "    file_path =  os.path.join(path,file_name)\n",
    "    fn = os.listdir(file_path)\n",
    "    image = (nib.load(file_path + '/' + fn[0]))\n",
    "    return image\n",
    "\n",
    "\n",
    "def _bytes_feature(value):\n",
    "    return tf.train.Feature(bytes_list=tf.train.BytesList(value=[value]))\n",
    "\n",
    "\n",
    "def _int64_feature(value):\n",
    "    return tf.train.Feature(int64_list=tf.train.Int64List(value=[value]))\n",
    "\n",
    "def write_image_annotation_pairs_to_tfrecord_from_gen(generator, tfrecords_filename, test=False):\n",
    "    \"\"\"Writes given image/annotation pairs to the tfrecords file.\n",
    "    The function reads each image/anno'tation pair given filenames\n",
    "    of image and respective annotation and writes it to the tfrecord\n",
    "    file.\n",
    "    Parameters\n",
    "    ----------\n",
    "    filename_pairs : array of tuples (img_filepath, annotation_filepath)\n",
    "        Array of tuples of image/annotation filenames\n",
    "    tfrecords_filename : string\n",
    "        Tfrecords filename to write the image/annotation pairs\n",
    "    \"\"\"\n",
    "    options = tf.python_io.TFRecordOptions(tf.python_io.TFRecordCompressionType.GZIP)\n",
    "    writer = tf.python_io.TFRecordWriter(tfrecords_filename,options=options)\n",
    "    \n",
    "    print(\"Start writing tfrecord\")\n",
    "\n",
    "\n",
    "    #for img_path, annotation_path in filename_pairs:\n",
    "\n",
    "\n",
    "\n",
    "    for i, record in enumerate(generator):\n",
    "        print(i)\n",
    "\n",
    "\n",
    "\n",
    "        #img = np.array(Image.open(img_path))\n",
    "\n",
    "        #annotation = np.array(Image.open(annotation_path))\n",
    "\n",
    "        # Unomment this one when working with surgical data\n",
    "        # annotation = annotation[:, :, 0]\n",
    "\n",
    "        # The reason to store image sizes was demonstrated\n",
    "        # in the previous example -- we have to know sizes\n",
    "        # of images to later read raw serialized string,\n",
    "        \n",
    "        # convert to 1d array and convert to respective\n",
    "        # shape that image used to have.\n",
    "        #height = img.shape[0] \n",
    "    \n",
    "        img = record[0]\n",
    "        if test :\n",
    "            pass\n",
    "        else:\n",
    "            annotation = record[1]\n",
    "\n",
    "        height = img.shape[0] \n",
    "\n",
    "        #width = img.shape[1]\n",
    "        width = img.shape[1] \n",
    "\n",
    "\n",
    "        #add depth \n",
    "        depth = img.shape[2]\n",
    "        #print(depth)\n",
    "        #print(img[0].shape) #288,288,140 \n",
    "\n",
    "\n",
    "        #img_raw = img.tostring()\n",
    "        img_raw=img.tostring()\n",
    "\n",
    "        ## 여기서 에러\n",
    "        print(\"img shape: {}, img_raw shape: {}\".format(img.shape,len(img_raw)))\n",
    "\n",
    "        ## 여기서 에러\n",
    "        \n",
    "        if test == False:\n",
    "            annotation_raw = annotation.tostring()\n",
    "            print(\"annotation_ shape: {}, annotation_raw shape: {}\".format(annotation.shape,len(annotation_raw)))\n",
    "\n",
    "        #print(annotation[1].shape)\n",
    "        #print(annotation[2].shape)\n",
    "\n",
    "\n",
    "        #print(annotation_raw)\n",
    "        #annotation_raw = annotation.tostring()\n",
    "\n",
    "        if test == False :\n",
    "            example = tf.train.Example(features=tf.train.Features(feature={\n",
    "                'height': _int64_feature(height),\n",
    "                'width': _int64_feature(width),\n",
    "                'depth': _int64_feature(depth), \n",
    "                'image_raw': _bytes_feature(img_raw),\n",
    "                'mask_raw': _bytes_feature(annotation_raw)}))\n",
    "        else:\n",
    "            example = tf.train.Example(features=tf.train.Features(feature={\n",
    "                'height': _int64_feature(height),\n",
    "                'width': _int64_feature(width),\n",
    "                'depth': _int64_feature(depth), \n",
    "                'image_raw': _bytes_feature(img_raw)\n",
    "                }))\n",
    "            \n",
    "\n",
    "        writer.write(example.SerializeToString())\n",
    "\n",
    "    writer.close()\n",
    "    \n",
    "def write_image_annotation_pairs_to_tfrecord_from_listitr(pickle_itr_list, tfrecords_filename):\n",
    "    \"\"\"Writes given image/annotation pairs to the tfrecords file.\n",
    "    The function reads each image/anno'tation pair given filenames\n",
    "    of image and respective annotation and writes it to the tfrecord\n",
    "    file.\n",
    "    Parameters\n",
    "    ----------\n",
    "    filename_pairs : array of tuples (img_filepath, annotation_filepath)\n",
    "        Array of tuples of image/annotation filenames\n",
    "    tfrecords_filename : string\n",
    "        Tfrecords filename to write the image/annotation pairs\n",
    "    \"\"\"\n",
    "    \n",
    "    print(\"Start writing tfrecord\")\n",
    "    options = tf.python_io.TFRecordOptions(tf.python_io.TFRecordCompressionType.GZIP)\n",
    "    writer = tf.python_io.TFRecordWriter(tfrecords_filename,options=options)\n",
    "\n",
    "    #for img_path, annotation_path in filename_pairs:\n",
    "    \n",
    "    \n",
    "    for pickle_itr in pickle_itr_list:\n",
    "\n",
    "        for i,record in enumerate(pickle_itr):\n",
    "            print(i)\n",
    "            print(record.keys())\n",
    "\n",
    "            img = record['image']\n",
    "            annotation = record['label']\n",
    "\n",
    "            #img = np.array(Image.open(img_path))\n",
    "\n",
    "            #annotation = np.array(Image.open(annotation_path))\n",
    "\n",
    "            # Unomment this one when working with surgical data\n",
    "            # annotation = annotation[:, :, 0]\n",
    "\n",
    "            # The reason to store image sizes was demonstrated\n",
    "            # in the previous example -- we have to know sizes\n",
    "            # of images to later read raw serialized string,\n",
    "            # convert to 1d array and convert to respective\n",
    "            # shape that image used to have.\n",
    "            #height = img.shape[0] \n",
    "\n",
    "            print(img.shape)\n",
    "            ##### img = img.reshape()\n",
    "            \n",
    "            \n",
    "            height = img.shape[0] \n",
    "\n",
    "            #width = img.shape[1]\n",
    "            width = img.shape[1] \n",
    "\n",
    "\n",
    "            #add depth \n",
    "            depth = img.shape[2]\n",
    "            #print(depth)\n",
    "            #print(img[0].shape) #288,288,140 \n",
    "\n",
    "\n",
    "            #img_raw = img.tostring()\n",
    "            img_raw=img.tostring()\n",
    "\n",
    "            ## 여기서 에러\n",
    "            print(\"img shape: {}, img_raw shape: {}\".format(img.shape,len(img_raw)))\n",
    "\n",
    "            ## 여기서 에러\n",
    "            annotation_raw = annotation.tostring()\n",
    "            print(\"annotation_ shape: {}, annotation_raw shape: {}\".format(annotation.shape,len(annotation_raw)))\n",
    "\n",
    "            #print(annotation[1].shape)\n",
    "            #print(annotation[2].shape)\n",
    "\n",
    "\n",
    "            #print(annotation_raw)\n",
    "            #annotation_raw = annotation.tostring()\n",
    "\n",
    "            example = tf.train.Example(features=tf.train.Features(feature={\n",
    "                'height': _int64_feature(height),\n",
    "                'width': _int64_feature(width),\n",
    "                'depth': _int64_feature(depth), \n",
    "                'image_raw': _bytes_feature(img_raw),\n",
    "                'mask_raw': _bytes_feature(annotation_raw)}))\n",
    "\n",
    "            writer.write(example.SerializeToString())\n",
    "\n",
    "    writer.close()\n",
    "    \n",
    "def read_image_annotation_pairs_from_tfrecord_itr_from_compressed(tfrecords_filename):\n",
    "    \"\"\"Return image/annotation pairs from the tfrecords file.\n",
    "    The function reads the tfrecords file and returns image\n",
    "    and respective annotation matrices pairs.\n",
    "    Parameters\n",
    "    ----------\n",
    "    tfrecords_filename : string\n",
    "        filename of .tfrecords file to read from\n",
    "    \n",
    "    Returns\n",
    "    -------\n",
    "    image_annotation_pairs : array of tuples (img, annotation)\n",
    "        The image and annotation that were read from the file\n",
    "    \"\"\"\n",
    "    image_annotation_pairs = []\n",
    "    \n",
    "    ## option...\n",
    "    options = tf.python_io.TFRecordOptions(tf.python_io.TFRecordCompressionType.GZIP)\n",
    "\n",
    "    record_iterator = tf.python_io.tf_record_iterator(path=tfrecords_filename,options=options)\n",
    "\n",
    "    for string_record in record_iterator:\n",
    "\n",
    "        example = tf.train.Example()\n",
    "        example.ParseFromString(string_record)\n",
    "\n",
    "        height = int(example.features.feature['height']\n",
    "                                     .int64_list\n",
    "                                     .value[0])\n",
    "\n",
    "        width = int(example.features.feature['width']\n",
    "                                    .int64_list\n",
    "                                    .value[0])\n",
    "        \n",
    "        depth = int(example.features.feature['depth']\n",
    "                                    .int64_list\n",
    "                                    .value[0])\n",
    "\n",
    "        img_string = (example.features.feature['image_raw']\n",
    "                                      .bytes_list\n",
    "                                      .value[0])\n",
    "        \n",
    "\n",
    "        annotation_string = (example.features.feature['mask_raw']\n",
    "                                    .bytes_list\n",
    "                                    .value[0])\n",
    "        \n",
    "        # img_1d = np.fromstring(img_string, dtype=np.uint8)\n",
    "        img_1d = np.fromstring(img_string)\n",
    "                               \n",
    "        print(\"img_string shape\",img_1d.shape)\n",
    "        print(\"image :  {}, annotation length : {}\".format(len(img_string),len(annotation_string)))\n",
    "\n",
    "        #        img = img_1d.reshape((height, width, depth, -1))\n",
    "\n",
    "        img = img_1d.reshape((height, width, depth,1))\n",
    "\n",
    "        annotation_1d = np.fromstring(annotation_string, dtype=np.float32)\n",
    "#        annotation_1d = np.fromstring(annotation_string)\n",
    "\n",
    "        # Annotations don't have depth (3rd dimension)\n",
    "        # TODO: check if it works for other datasets\n",
    "        #  annotation = annotation_1d.reshape((height, width, depth,-1))\n",
    "\n",
    "        annotation = annotation_1d.reshape((height, width, depth, 8))\n",
    "        \n",
    "        yield img, annotation"
   ]
  },
  {
   "cell_type": "code",
   "execution_count": 31,
   "metadata": {},
   "outputs": [],
   "source": [
    "def pre_process_tfrecord_write_itr(path,itr,new_size, test=False):\n",
    "    for record in tqdm(itr):\n",
    "        file_name = record['name']\n",
    "        img_fname = record['image']\n",
    "        \n",
    "        print(path,img_fname)\n",
    "        \n",
    "        ## nii 데이터 불러오기\n",
    "        img = nii_loader(path,img_fname)\n",
    "        if test :\n",
    "            pass\n",
    "        else:\n",
    "            label_fname = record['label']\n",
    "            lab = nii_loader(path, label_fname)\n",
    "        \n",
    "        print(\"loaded Image Shape\",img.get_data().shape,)\n",
    "        \n",
    "        ## 이미지 padding + resizing\n",
    "        img = pad3d(img.get_data())\n",
    "        img = image_preprocess(img,new_size=new_size)\n",
    "        \n",
    "        ## 레이블 padding + resizing\n",
    "        if test :\n",
    "            pass\n",
    "        else:\n",
    "            \n",
    "            lab = pad3d(lab.get_data())\n",
    "            lab = image_preprocess(lab,new_size=new_size,mask=True)\n",
    "\n",
    "            print(\"Mask shape when preproceesing ends\",lab.shape)\n",
    "            \n",
    "            yield img, lab\n",
    "        \n",
    "        yield img\n",
    "\n",
    "        \n"
   ]
  },
  {
   "cell_type": "markdown",
   "metadata": {},
   "source": [
    "## TF record Encoding"
   ]
  },
  {
   "cell_type": "code",
   "execution_count": null,
   "metadata": {
    "scrolled": true
   },
   "outputs": [],
   "source": [
    "\n",
    "ct_set = os.path.join(root,'ct_train_test/ct_train/')\n",
    "ct_set_test = os.path.join(root,'ct_train_test/ct_test/')\n",
    "mr_set = os.path.join(root,'mr_train_test/mr_train/')\n",
    "mr_set_test =  os.path.join(root,'ct_train_test/mr_test/')\n",
    "\n",
    "## 여기 바꾸면서 ct, mr 파일 만들기\n",
    "temp_path = ct_set\n",
    "\n",
    "name_list = []\n",
    "filenames = os.listdir(temp_path)\n",
    "\n",
    "for i in filenames:\n",
    "    if i[:13] not in name_list:\n",
    "        name_list.append(i[:13])\n",
    "        \n",
    "total_list = []\n",
    "for i in name_list:\n",
    "    temp_name = i\n",
    "    temp_image = i+'_image.nii'\n",
    "    temp_label = i+'_label.nii'\n",
    "    total_list.append({'name' : temp_name,'image':temp_image,'label':temp_label})\n",
    "\n",
    "label_encoder = preprocessing.LabelEncoder()\n",
    "class_num=7+1\n",
    "print(\"starting gen\")\n",
    "\n",
    "\n",
    "## 전처리 Generator\n",
    "preprocess_gen = pre_process_tfrecord_write_itr(temp_path,total_list,new_size=256)\n",
    "\n",
    "\n",
    "out_file = temp_path.split('/')[-2] + '_tfrecord'\n",
    "tfrecords_filename =os.path.join(root, out_file)\n",
    "\n",
    "## Tf Record 형식으로 저장\n",
    "write_image_annotation_pairs_to_tfrecord_from_gen(preprocess_gen,tfrecords_filename)"
   ]
  },
  {
   "cell_type": "markdown",
   "metadata": {},
   "source": [
    "## Decoding test"
   ]
  },
  {
   "cell_type": "code",
   "execution_count": 12,
   "metadata": {},
   "outputs": [],
   "source": [
    "tfr_itr = read_image_annotation_pairs_from_tfrecord_itr_from_compressed(tfrecords_filename)"
   ]
  },
  {
   "cell_type": "code",
   "execution_count": 13,
   "metadata": {
    "scrolled": true
   },
   "outputs": [
    {
     "name": "stderr",
     "output_type": "stream",
     "text": [
      "C:\\Users\\Nakyilkim\\Anaconda3\\lib\\site-packages\\ipykernel_launcher.py:292: DeprecationWarning: The binary mode of fromstring is deprecated, as it behaves surprisingly on unicode inputs. Use frombuffer instead\n"
     ]
    },
    {
     "name": "stdout",
     "output_type": "stream",
     "text": [
      "img_string shape (16777216,)\n",
      "image :  134217728, annotation length : 536870912\n"
     ]
    },
    {
     "name": "stderr",
     "output_type": "stream",
     "text": [
      "C:\\Users\\Nakyilkim\\Anaconda3\\lib\\site-packages\\ipykernel_launcher.py:301: DeprecationWarning: The binary mode of fromstring is deprecated, as it behaves surprisingly on unicode inputs. Use frombuffer instead\n",
      "  0%|                                                                                           | 0/20 [00:00<?, ?it/s]"
     ]
    },
    {
     "name": "stdout",
     "output_type": "stream",
     "text": [
      "loaded Image Shape (512, 512, 363)\n",
      "Reshaped shape (256, 256, 256, 1)\n",
      "annotation shape (16777216,)\n",
      "unique value [0 1 2 3 4 5 6 7]\n",
      "processed mask shape (16777216, 8)\n",
      "Reshaped shape (256, 256, 256, 8)\n",
      "Mask shape when preproceesing ends (256, 256, 256, 8)\n"
     ]
    },
    {
     "ename": "NameError",
     "evalue": "name 'decoded_annoatation' is not defined",
     "output_type": "error",
     "traceback": [
      "\u001b[1;31m---------------------------------------------------------------------------\u001b[0m",
      "\u001b[1;31mNameError\u001b[0m                                 Traceback (most recent call last)",
      "\u001b[1;32m<ipython-input-13-38441407e12e>\u001b[0m in \u001b[0;36m<module>\u001b[1;34m()\u001b[0m\n\u001b[0;32m     12\u001b[0m \u001b[1;33m\u001b[0m\u001b[0m\n\u001b[0;32m     13\u001b[0m \u001b[0mdecoded_image\u001b[0m \u001b[1;33m==\u001b[0m  \u001b[0ma\u001b[0m\u001b[1;33m\u001b[0m\u001b[0m\n\u001b[1;32m---> 14\u001b[1;33m \u001b[0mdecoded_annoatation\u001b[0m \u001b[1;33m==\u001b[0m \u001b[0mannotation\u001b[0m\u001b[1;33m\u001b[0m\u001b[0m\n\u001b[0m",
      "\u001b[1;31mNameError\u001b[0m: name 'decoded_annoatation' is not defined"
     ]
    }
   ],
   "source": [
    "for i,j in tfr_itr:\n",
    "    decoded_image = i\n",
    "    decoded_annotation = j\n",
    "    break\n",
    "\n",
    "preprocess_gen = pre_process_tfrecord_write_itr(temp_path,total_list,new_size=256)\n",
    "\n",
    "for a,b in preprocess_gen:\n",
    "    image = a\n",
    "    annotation = b\n",
    "    break"
   ]
  },
  {
   "cell_type": "code",
   "execution_count": 14,
   "metadata": {},
   "outputs": [
    {
     "data": {
      "text/plain": [
       "array([[[[ True,  True,  True, ...,  True,  True,  True],\n",
       "         [ True,  True,  True, ...,  True,  True,  True],\n",
       "         [ True,  True,  True, ...,  True,  True,  True],\n",
       "         ...,\n",
       "         [ True,  True,  True, ...,  True,  True,  True],\n",
       "         [ True,  True,  True, ...,  True,  True,  True],\n",
       "         [ True,  True,  True, ...,  True,  True,  True]],\n",
       "\n",
       "        [[ True,  True,  True, ...,  True,  True,  True],\n",
       "         [ True,  True,  True, ...,  True,  True,  True],\n",
       "         [ True,  True,  True, ...,  True,  True,  True],\n",
       "         ...,\n",
       "         [ True,  True,  True, ...,  True,  True,  True],\n",
       "         [ True,  True,  True, ...,  True,  True,  True],\n",
       "         [ True,  True,  True, ...,  True,  True,  True]],\n",
       "\n",
       "        [[ True,  True,  True, ...,  True,  True,  True],\n",
       "         [ True,  True,  True, ...,  True,  True,  True],\n",
       "         [ True,  True,  True, ...,  True,  True,  True],\n",
       "         ...,\n",
       "         [ True,  True,  True, ...,  True,  True,  True],\n",
       "         [ True,  True,  True, ...,  True,  True,  True],\n",
       "         [ True,  True,  True, ...,  True,  True,  True]],\n",
       "\n",
       "        ...,\n",
       "\n",
       "        [[ True,  True,  True, ...,  True,  True,  True],\n",
       "         [ True,  True,  True, ...,  True,  True,  True],\n",
       "         [ True,  True,  True, ...,  True,  True,  True],\n",
       "         ...,\n",
       "         [ True,  True,  True, ...,  True,  True,  True],\n",
       "         [ True,  True,  True, ...,  True,  True,  True],\n",
       "         [ True,  True,  True, ...,  True,  True,  True]],\n",
       "\n",
       "        [[ True,  True,  True, ...,  True,  True,  True],\n",
       "         [ True,  True,  True, ...,  True,  True,  True],\n",
       "         [ True,  True,  True, ...,  True,  True,  True],\n",
       "         ...,\n",
       "         [ True,  True,  True, ...,  True,  True,  True],\n",
       "         [ True,  True,  True, ...,  True,  True,  True],\n",
       "         [ True,  True,  True, ...,  True,  True,  True]],\n",
       "\n",
       "        [[ True,  True,  True, ...,  True,  True,  True],\n",
       "         [ True,  True,  True, ...,  True,  True,  True],\n",
       "         [ True,  True,  True, ...,  True,  True,  True],\n",
       "         ...,\n",
       "         [ True,  True,  True, ...,  True,  True,  True],\n",
       "         [ True,  True,  True, ...,  True,  True,  True],\n",
       "         [ True,  True,  True, ...,  True,  True,  True]]],\n",
       "\n",
       "\n",
       "       [[[ True,  True,  True, ...,  True,  True,  True],\n",
       "         [ True,  True,  True, ...,  True,  True,  True],\n",
       "         [ True,  True,  True, ...,  True,  True,  True],\n",
       "         ...,\n",
       "         [ True,  True,  True, ...,  True,  True,  True],\n",
       "         [ True,  True,  True, ...,  True,  True,  True],\n",
       "         [ True,  True,  True, ...,  True,  True,  True]],\n",
       "\n",
       "        [[ True,  True,  True, ...,  True,  True,  True],\n",
       "         [ True,  True,  True, ...,  True,  True,  True],\n",
       "         [ True,  True,  True, ...,  True,  True,  True],\n",
       "         ...,\n",
       "         [ True,  True,  True, ...,  True,  True,  True],\n",
       "         [ True,  True,  True, ...,  True,  True,  True],\n",
       "         [ True,  True,  True, ...,  True,  True,  True]],\n",
       "\n",
       "        [[ True,  True,  True, ...,  True,  True,  True],\n",
       "         [ True,  True,  True, ...,  True,  True,  True],\n",
       "         [ True,  True,  True, ...,  True,  True,  True],\n",
       "         ...,\n",
       "         [ True,  True,  True, ...,  True,  True,  True],\n",
       "         [ True,  True,  True, ...,  True,  True,  True],\n",
       "         [ True,  True,  True, ...,  True,  True,  True]],\n",
       "\n",
       "        ...,\n",
       "\n",
       "        [[ True,  True,  True, ...,  True,  True,  True],\n",
       "         [ True,  True,  True, ...,  True,  True,  True],\n",
       "         [ True,  True,  True, ...,  True,  True,  True],\n",
       "         ...,\n",
       "         [ True,  True,  True, ...,  True,  True,  True],\n",
       "         [ True,  True,  True, ...,  True,  True,  True],\n",
       "         [ True,  True,  True, ...,  True,  True,  True]],\n",
       "\n",
       "        [[ True,  True,  True, ...,  True,  True,  True],\n",
       "         [ True,  True,  True, ...,  True,  True,  True],\n",
       "         [ True,  True,  True, ...,  True,  True,  True],\n",
       "         ...,\n",
       "         [ True,  True,  True, ...,  True,  True,  True],\n",
       "         [ True,  True,  True, ...,  True,  True,  True],\n",
       "         [ True,  True,  True, ...,  True,  True,  True]],\n",
       "\n",
       "        [[ True,  True,  True, ...,  True,  True,  True],\n",
       "         [ True,  True,  True, ...,  True,  True,  True],\n",
       "         [ True,  True,  True, ...,  True,  True,  True],\n",
       "         ...,\n",
       "         [ True,  True,  True, ...,  True,  True,  True],\n",
       "         [ True,  True,  True, ...,  True,  True,  True],\n",
       "         [ True,  True,  True, ...,  True,  True,  True]]],\n",
       "\n",
       "\n",
       "       [[[ True,  True,  True, ...,  True,  True,  True],\n",
       "         [ True,  True,  True, ...,  True,  True,  True],\n",
       "         [ True,  True,  True, ...,  True,  True,  True],\n",
       "         ...,\n",
       "         [ True,  True,  True, ...,  True,  True,  True],\n",
       "         [ True,  True,  True, ...,  True,  True,  True],\n",
       "         [ True,  True,  True, ...,  True,  True,  True]],\n",
       "\n",
       "        [[ True,  True,  True, ...,  True,  True,  True],\n",
       "         [ True,  True,  True, ...,  True,  True,  True],\n",
       "         [ True,  True,  True, ...,  True,  True,  True],\n",
       "         ...,\n",
       "         [ True,  True,  True, ...,  True,  True,  True],\n",
       "         [ True,  True,  True, ...,  True,  True,  True],\n",
       "         [ True,  True,  True, ...,  True,  True,  True]],\n",
       "\n",
       "        [[ True,  True,  True, ...,  True,  True,  True],\n",
       "         [ True,  True,  True, ...,  True,  True,  True],\n",
       "         [ True,  True,  True, ...,  True,  True,  True],\n",
       "         ...,\n",
       "         [ True,  True,  True, ...,  True,  True,  True],\n",
       "         [ True,  True,  True, ...,  True,  True,  True],\n",
       "         [ True,  True,  True, ...,  True,  True,  True]],\n",
       "\n",
       "        ...,\n",
       "\n",
       "        [[ True,  True,  True, ...,  True,  True,  True],\n",
       "         [ True,  True,  True, ...,  True,  True,  True],\n",
       "         [ True,  True,  True, ...,  True,  True,  True],\n",
       "         ...,\n",
       "         [ True,  True,  True, ...,  True,  True,  True],\n",
       "         [ True,  True,  True, ...,  True,  True,  True],\n",
       "         [ True,  True,  True, ...,  True,  True,  True]],\n",
       "\n",
       "        [[ True,  True,  True, ...,  True,  True,  True],\n",
       "         [ True,  True,  True, ...,  True,  True,  True],\n",
       "         [ True,  True,  True, ...,  True,  True,  True],\n",
       "         ...,\n",
       "         [ True,  True,  True, ...,  True,  True,  True],\n",
       "         [ True,  True,  True, ...,  True,  True,  True],\n",
       "         [ True,  True,  True, ...,  True,  True,  True]],\n",
       "\n",
       "        [[ True,  True,  True, ...,  True,  True,  True],\n",
       "         [ True,  True,  True, ...,  True,  True,  True],\n",
       "         [ True,  True,  True, ...,  True,  True,  True],\n",
       "         ...,\n",
       "         [ True,  True,  True, ...,  True,  True,  True],\n",
       "         [ True,  True,  True, ...,  True,  True,  True],\n",
       "         [ True,  True,  True, ...,  True,  True,  True]]],\n",
       "\n",
       "\n",
       "       ...,\n",
       "\n",
       "\n",
       "       [[[ True,  True,  True, ...,  True,  True,  True],\n",
       "         [ True,  True,  True, ...,  True,  True,  True],\n",
       "         [ True,  True,  True, ...,  True,  True,  True],\n",
       "         ...,\n",
       "         [ True,  True,  True, ...,  True,  True,  True],\n",
       "         [ True,  True,  True, ...,  True,  True,  True],\n",
       "         [ True,  True,  True, ...,  True,  True,  True]],\n",
       "\n",
       "        [[ True,  True,  True, ...,  True,  True,  True],\n",
       "         [ True,  True,  True, ...,  True,  True,  True],\n",
       "         [ True,  True,  True, ...,  True,  True,  True],\n",
       "         ...,\n",
       "         [ True,  True,  True, ...,  True,  True,  True],\n",
       "         [ True,  True,  True, ...,  True,  True,  True],\n",
       "         [ True,  True,  True, ...,  True,  True,  True]],\n",
       "\n",
       "        [[ True,  True,  True, ...,  True,  True,  True],\n",
       "         [ True,  True,  True, ...,  True,  True,  True],\n",
       "         [ True,  True,  True, ...,  True,  True,  True],\n",
       "         ...,\n",
       "         [ True,  True,  True, ...,  True,  True,  True],\n",
       "         [ True,  True,  True, ...,  True,  True,  True],\n",
       "         [ True,  True,  True, ...,  True,  True,  True]],\n",
       "\n",
       "        ...,\n",
       "\n",
       "        [[ True,  True,  True, ...,  True,  True,  True],\n",
       "         [ True,  True,  True, ...,  True,  True,  True],\n",
       "         [ True,  True,  True, ...,  True,  True,  True],\n",
       "         ...,\n",
       "         [ True,  True,  True, ...,  True,  True,  True],\n",
       "         [ True,  True,  True, ...,  True,  True,  True],\n",
       "         [ True,  True,  True, ...,  True,  True,  True]],\n",
       "\n",
       "        [[ True,  True,  True, ...,  True,  True,  True],\n",
       "         [ True,  True,  True, ...,  True,  True,  True],\n",
       "         [ True,  True,  True, ...,  True,  True,  True],\n",
       "         ...,\n",
       "         [ True,  True,  True, ...,  True,  True,  True],\n",
       "         [ True,  True,  True, ...,  True,  True,  True],\n",
       "         [ True,  True,  True, ...,  True,  True,  True]],\n",
       "\n",
       "        [[ True,  True,  True, ...,  True,  True,  True],\n",
       "         [ True,  True,  True, ...,  True,  True,  True],\n",
       "         [ True,  True,  True, ...,  True,  True,  True],\n",
       "         ...,\n",
       "         [ True,  True,  True, ...,  True,  True,  True],\n",
       "         [ True,  True,  True, ...,  True,  True,  True],\n",
       "         [ True,  True,  True, ...,  True,  True,  True]]],\n",
       "\n",
       "\n",
       "       [[[ True,  True,  True, ...,  True,  True,  True],\n",
       "         [ True,  True,  True, ...,  True,  True,  True],\n",
       "         [ True,  True,  True, ...,  True,  True,  True],\n",
       "         ...,\n",
       "         [ True,  True,  True, ...,  True,  True,  True],\n",
       "         [ True,  True,  True, ...,  True,  True,  True],\n",
       "         [ True,  True,  True, ...,  True,  True,  True]],\n",
       "\n",
       "        [[ True,  True,  True, ...,  True,  True,  True],\n",
       "         [ True,  True,  True, ...,  True,  True,  True],\n",
       "         [ True,  True,  True, ...,  True,  True,  True],\n",
       "         ...,\n",
       "         [ True,  True,  True, ...,  True,  True,  True],\n",
       "         [ True,  True,  True, ...,  True,  True,  True],\n",
       "         [ True,  True,  True, ...,  True,  True,  True]],\n",
       "\n",
       "        [[ True,  True,  True, ...,  True,  True,  True],\n",
       "         [ True,  True,  True, ...,  True,  True,  True],\n",
       "         [ True,  True,  True, ...,  True,  True,  True],\n",
       "         ...,\n",
       "         [ True,  True,  True, ...,  True,  True,  True],\n",
       "         [ True,  True,  True, ...,  True,  True,  True],\n",
       "         [ True,  True,  True, ...,  True,  True,  True]],\n",
       "\n",
       "        ...,\n",
       "\n",
       "        [[ True,  True,  True, ...,  True,  True,  True],\n",
       "         [ True,  True,  True, ...,  True,  True,  True],\n",
       "         [ True,  True,  True, ...,  True,  True,  True],\n",
       "         ...,\n",
       "         [ True,  True,  True, ...,  True,  True,  True],\n",
       "         [ True,  True,  True, ...,  True,  True,  True],\n",
       "         [ True,  True,  True, ...,  True,  True,  True]],\n",
       "\n",
       "        [[ True,  True,  True, ...,  True,  True,  True],\n",
       "         [ True,  True,  True, ...,  True,  True,  True],\n",
       "         [ True,  True,  True, ...,  True,  True,  True],\n",
       "         ...,\n",
       "         [ True,  True,  True, ...,  True,  True,  True],\n",
       "         [ True,  True,  True, ...,  True,  True,  True],\n",
       "         [ True,  True,  True, ...,  True,  True,  True]],\n",
       "\n",
       "        [[ True,  True,  True, ...,  True,  True,  True],\n",
       "         [ True,  True,  True, ...,  True,  True,  True],\n",
       "         [ True,  True,  True, ...,  True,  True,  True],\n",
       "         ...,\n",
       "         [ True,  True,  True, ...,  True,  True,  True],\n",
       "         [ True,  True,  True, ...,  True,  True,  True],\n",
       "         [ True,  True,  True, ...,  True,  True,  True]]],\n",
       "\n",
       "\n",
       "       [[[ True,  True,  True, ...,  True,  True,  True],\n",
       "         [ True,  True,  True, ...,  True,  True,  True],\n",
       "         [ True,  True,  True, ...,  True,  True,  True],\n",
       "         ...,\n",
       "         [ True,  True,  True, ...,  True,  True,  True],\n",
       "         [ True,  True,  True, ...,  True,  True,  True],\n",
       "         [ True,  True,  True, ...,  True,  True,  True]],\n",
       "\n",
       "        [[ True,  True,  True, ...,  True,  True,  True],\n",
       "         [ True,  True,  True, ...,  True,  True,  True],\n",
       "         [ True,  True,  True, ...,  True,  True,  True],\n",
       "         ...,\n",
       "         [ True,  True,  True, ...,  True,  True,  True],\n",
       "         [ True,  True,  True, ...,  True,  True,  True],\n",
       "         [ True,  True,  True, ...,  True,  True,  True]],\n",
       "\n",
       "        [[ True,  True,  True, ...,  True,  True,  True],\n",
       "         [ True,  True,  True, ...,  True,  True,  True],\n",
       "         [ True,  True,  True, ...,  True,  True,  True],\n",
       "         ...,\n",
       "         [ True,  True,  True, ...,  True,  True,  True],\n",
       "         [ True,  True,  True, ...,  True,  True,  True],\n",
       "         [ True,  True,  True, ...,  True,  True,  True]],\n",
       "\n",
       "        ...,\n",
       "\n",
       "        [[ True,  True,  True, ...,  True,  True,  True],\n",
       "         [ True,  True,  True, ...,  True,  True,  True],\n",
       "         [ True,  True,  True, ...,  True,  True,  True],\n",
       "         ...,\n",
       "         [ True,  True,  True, ...,  True,  True,  True],\n",
       "         [ True,  True,  True, ...,  True,  True,  True],\n",
       "         [ True,  True,  True, ...,  True,  True,  True]],\n",
       "\n",
       "        [[ True,  True,  True, ...,  True,  True,  True],\n",
       "         [ True,  True,  True, ...,  True,  True,  True],\n",
       "         [ True,  True,  True, ...,  True,  True,  True],\n",
       "         ...,\n",
       "         [ True,  True,  True, ...,  True,  True,  True],\n",
       "         [ True,  True,  True, ...,  True,  True,  True],\n",
       "         [ True,  True,  True, ...,  True,  True,  True]],\n",
       "\n",
       "        [[ True,  True,  True, ...,  True,  True,  True],\n",
       "         [ True,  True,  True, ...,  True,  True,  True],\n",
       "         [ True,  True,  True, ...,  True,  True,  True],\n",
       "         ...,\n",
       "         [ True,  True,  True, ...,  True,  True,  True],\n",
       "         [ True,  True,  True, ...,  True,  True,  True],\n",
       "         [ True,  True,  True, ...,  True,  True,  True]]]])"
      ]
     },
     "execution_count": 14,
     "metadata": {},
     "output_type": "execute_result"
    }
   ],
   "source": [
    "decoded_image ==  image\n",
    "decoded_annotation == annotation\n"
   ]
  },
  {
   "cell_type": "markdown",
   "metadata": {},
   "source": [
    "### ct label ,mr image , mr label 2 tfrecord"
   ]
  },
  {
   "cell_type": "code",
   "execution_count": 15,
   "metadata": {},
   "outputs": [
    {
     "name": "stdout",
     "output_type": "stream",
     "text": [
      "starting gen\n",
      "Start writing tfrecord\n"
     ]
    },
    {
     "name": "stderr",
     "output_type": "stream",
     "text": [
      "\r",
      "  0%|                                                                                           | 0/20 [00:00<?, ?it/s]"
     ]
    },
    {
     "name": "stdout",
     "output_type": "stream",
     "text": [
      "D:\\segmentiation/mr_train_test/mr_train/ mr_train_1001_image.nii\n",
      "loaded Image Shape (512, 512, 160)\n",
      "Reshaped shape (256, 256, 256, 1)\n",
      "annotation shape (16777216,)\n",
      "unique value [0 1 2 3 4 5 6 7]\n",
      "processed mask shape (16777216, 8)\n",
      "Reshaped shape (256, 256, 256, 8)\n",
      "Mask shape when preproceesing ends (256, 256, 256, 8)\n",
      "0\n",
      "img shape: (256, 256, 256, 1), img_raw shape: 33554432\n",
      "annotation_ shape: (256, 256, 256, 8), annotation_raw shape: 536870912\n"
     ]
    },
    {
     "name": "stderr",
     "output_type": "stream",
     "text": [
      "\r",
      "  5%|████▏                                                                              | 1/20 [00:23<07:19, 23.12s/it]"
     ]
    },
    {
     "name": "stdout",
     "output_type": "stream",
     "text": [
      "D:\\segmentiation/mr_train_test/mr_train/ mr_train_1002_image.nii\n",
      "loaded Image Shape (512, 512, 128)\n",
      "Reshaped shape (256, 256, 256, 1)\n",
      "annotation shape (16777216,)\n",
      "unique value [0 1 2 3 4 5 6 7]\n",
      "processed mask shape (16777216, 8)\n",
      "Reshaped shape (256, 256, 256, 8)\n",
      "Mask shape when preproceesing ends (256, 256, 256, 8)\n",
      "1\n",
      "img shape: (256, 256, 256, 1), img_raw shape: 33554432\n",
      "annotation_ shape: (256, 256, 256, 8), annotation_raw shape: 536870912\n"
     ]
    },
    {
     "name": "stderr",
     "output_type": "stream",
     "text": [
      "\r",
      " 10%|████████▎                                                                          | 2/20 [00:45<06:51, 22.84s/it]"
     ]
    },
    {
     "name": "stdout",
     "output_type": "stream",
     "text": [
      "D:\\segmentiation/mr_train_test/mr_train/ mr_train_1003_image.nii\n",
      "loaded Image Shape (288, 288, 160)\n",
      "Reshaped shape (256, 256, 256, 1)\n",
      "annotation shape (16777216,)\n",
      "unique value [0 1 2 3 4 5 6 7]\n",
      "processed mask shape (16777216, 8)\n",
      "Reshaped shape (256, 256, 256, 8)\n",
      "Mask shape when preproceesing ends (256, 256, 256, 8)\n",
      "2\n",
      "img shape: (256, 256, 256, 1), img_raw shape: 33554432\n",
      "annotation_ shape: (256, 256, 256, 8), annotation_raw shape: 536870912\n"
     ]
    },
    {
     "name": "stderr",
     "output_type": "stream",
     "text": [
      "\r",
      " 15%|████████████▍                                                                      | 3/20 [01:02<05:57, 21.01s/it]"
     ]
    },
    {
     "name": "stdout",
     "output_type": "stream",
     "text": [
      "D:\\segmentiation/mr_train_test/mr_train/ mr_train_1004_image.nii\n",
      "loaded Image Shape (288, 288, 120)\n",
      "Reshaped shape (256, 256, 256, 1)\n",
      "annotation shape (16777216,)\n",
      "unique value [0 1 2 3 4 5 6 7]\n",
      "processed mask shape (16777216, 8)\n",
      "Reshaped shape (256, 256, 256, 8)\n",
      "Mask shape when preproceesing ends (256, 256, 256, 8)\n",
      "3\n",
      "img shape: (256, 256, 256, 1), img_raw shape: 33554432\n",
      "annotation_ shape: (256, 256, 256, 8), annotation_raw shape: 536870912\n"
     ]
    },
    {
     "name": "stderr",
     "output_type": "stream",
     "text": [
      "\r",
      " 20%|████████████████▌                                                                  | 4/20 [01:17<05:11, 19.49s/it]"
     ]
    },
    {
     "name": "stdout",
     "output_type": "stream",
     "text": [
      "D:\\segmentiation/mr_train_test/mr_train/ mr_train_1005_image.nii\n",
      "loaded Image Shape (288, 288, 130)\n",
      "Reshaped shape (256, 256, 256, 1)\n",
      "annotation shape (16777216,)\n",
      "unique value [0 1 2 3 4 5 6 7]\n",
      "processed mask shape (16777216, 8)\n",
      "Reshaped shape (256, 256, 256, 8)\n",
      "Mask shape when preproceesing ends (256, 256, 256, 8)\n",
      "4\n",
      "img shape: (256, 256, 256, 1), img_raw shape: 33554432\n",
      "annotation_ shape: (256, 256, 256, 8), annotation_raw shape: 536870912\n"
     ]
    },
    {
     "name": "stderr",
     "output_type": "stream",
     "text": [
      "\r",
      " 25%|████████████████████▊                                                              | 5/20 [01:34<04:36, 18.45s/it]"
     ]
    },
    {
     "name": "stdout",
     "output_type": "stream",
     "text": [
      "D:\\segmentiation/mr_train_test/mr_train/ mr_train_1006_image.nii\n",
      "loaded Image Shape (256, 256, 160)\n",
      "Reshaped shape (256, 256, 256, 1)\n",
      "annotation shape (16777216,)\n",
      "unique value [0 1 2 3 4 5 6 7]\n",
      "processed mask shape (16777216, 8)\n",
      "Reshaped shape (256, 256, 256, 8)\n",
      "Mask shape when preproceesing ends (256, 256, 256, 8)\n",
      "5\n",
      "img shape: (256, 256, 256, 1), img_raw shape: 33554432\n",
      "annotation_ shape: (256, 256, 256, 8), annotation_raw shape: 536870912\n"
     ]
    },
    {
     "name": "stderr",
     "output_type": "stream",
     "text": [
      "\r",
      " 30%|████████████████████████▉                                                          | 6/20 [01:50<04:10, 17.92s/it]"
     ]
    },
    {
     "name": "stdout",
     "output_type": "stream",
     "text": [
      "D:\\segmentiation/mr_train_test/mr_train/ mr_train_1007_image.nii\n",
      "loaded Image Shape (288, 288, 180)\n",
      "Reshaped shape (256, 256, 256, 1)\n",
      "annotation shape (16777216,)\n",
      "unique value [0 1 2 3 4 5 6 7]\n",
      "processed mask shape (16777216, 8)\n",
      "Reshaped shape (256, 256, 256, 8)\n",
      "Mask shape when preproceesing ends (256, 256, 256, 8)\n",
      "6\n",
      "img shape: (256, 256, 256, 1), img_raw shape: 33554432\n",
      "annotation_ shape: (256, 256, 256, 8), annotation_raw shape: 536870912\n"
     ]
    },
    {
     "name": "stderr",
     "output_type": "stream",
     "text": [
      "\r",
      " 35%|█████████████████████████████                                                      | 7/20 [02:08<03:53, 17.93s/it]"
     ]
    },
    {
     "name": "stdout",
     "output_type": "stream",
     "text": [
      "D:\\segmentiation/mr_train_test/mr_train/ mr_train_1008_image.nii\n",
      "loaded Image Shape (288, 288, 130)\n",
      "Reshaped shape (256, 256, 256, 1)\n",
      "annotation shape (16777216,)\n",
      "unique value [0 1 2 3 4 5 6 7]\n",
      "processed mask shape (16777216, 8)\n",
      "Reshaped shape (256, 256, 256, 8)\n",
      "Mask shape when preproceesing ends (256, 256, 256, 8)\n",
      "7\n",
      "img shape: (256, 256, 256, 1), img_raw shape: 33554432\n",
      "annotation_ shape: (256, 256, 256, 8), annotation_raw shape: 536870912\n"
     ]
    },
    {
     "name": "stderr",
     "output_type": "stream",
     "text": [
      "\r",
      " 40%|█████████████████████████████████▏                                                 | 8/20 [02:25<03:31, 17.63s/it]"
     ]
    },
    {
     "name": "stdout",
     "output_type": "stream",
     "text": [
      "D:\\segmentiation/mr_train_test/mr_train/ mr_train_1009_image.nii\n",
      "loaded Image Shape (512, 512, 120)\n",
      "Reshaped shape (256, 256, 256, 1)\n",
      "annotation shape (16777216,)\n",
      "unique value [0 1 2 3 4 5 6 7]\n",
      "processed mask shape (16777216, 8)\n",
      "Reshaped shape (256, 256, 256, 8)\n",
      "Mask shape when preproceesing ends (256, 256, 256, 8)\n",
      "8\n",
      "img shape: (256, 256, 256, 1), img_raw shape: 33554432\n",
      "annotation_ shape: (256, 256, 256, 8), annotation_raw shape: 536870912\n"
     ]
    },
    {
     "name": "stderr",
     "output_type": "stream",
     "text": [
      "\r",
      " 45%|█████████████████████████████████████▎                                             | 9/20 [02:47<03:27, 18.85s/it]"
     ]
    },
    {
     "name": "stdout",
     "output_type": "stream",
     "text": [
      "D:\\segmentiation/mr_train_test/mr_train/ mr_train_1010_image.nii\n",
      "loaded Image Shape (288, 288, 160)\n",
      "Reshaped shape (256, 256, 256, 1)\n",
      "annotation shape (16777216,)\n",
      "unique value [0 1 2 3 4 5 6 7 8]\n"
     ]
    },
    {
     "ename": "IndexError",
     "evalue": "index 8 is out of bounds for axis 1 with size 8",
     "output_type": "error",
     "traceback": [
      "\u001b[1;31m---------------------------------------------------------------------------\u001b[0m",
      "\u001b[1;31mIndexError\u001b[0m                                Traceback (most recent call last)",
      "\u001b[1;32m<ipython-input-15-4752ec7953bc>\u001b[0m in \u001b[0;36m<module>\u001b[1;34m()\u001b[0m\n\u001b[0;32m     35\u001b[0m \u001b[1;33m\u001b[0m\u001b[0m\n\u001b[0;32m     36\u001b[0m \u001b[1;31m## Tf Record 형식으로 저장\u001b[0m\u001b[1;33m\u001b[0m\u001b[1;33m\u001b[0m\u001b[0m\n\u001b[1;32m---> 37\u001b[1;33m \u001b[0mwrite_image_annotation_pairs_to_tfrecord_from_gen\u001b[0m\u001b[1;33m(\u001b[0m\u001b[0mpreprocess_gen\u001b[0m\u001b[1;33m,\u001b[0m\u001b[0mtfrecords_filename\u001b[0m\u001b[1;33m)\u001b[0m\u001b[1;33m\u001b[0m\u001b[0m\n\u001b[0m",
      "\u001b[1;32m<ipython-input-2-f91cf5796916>\u001b[0m in \u001b[0;36mwrite_image_annotation_pairs_to_tfrecord_from_gen\u001b[1;34m(generator, tfrecords_filename)\u001b[0m\n\u001b[0;32m     92\u001b[0m \u001b[1;33m\u001b[0m\u001b[0m\n\u001b[0;32m     93\u001b[0m \u001b[1;33m\u001b[0m\u001b[0m\n\u001b[1;32m---> 94\u001b[1;33m     \u001b[1;32mfor\u001b[0m \u001b[0mi\u001b[0m\u001b[1;33m,\u001b[0m \u001b[0mrecord\u001b[0m \u001b[1;32min\u001b[0m \u001b[0menumerate\u001b[0m\u001b[1;33m(\u001b[0m\u001b[0mgenerator\u001b[0m\u001b[1;33m)\u001b[0m\u001b[1;33m:\u001b[0m\u001b[1;33m\u001b[0m\u001b[0m\n\u001b[0m\u001b[0;32m     95\u001b[0m         \u001b[0mprint\u001b[0m\u001b[1;33m(\u001b[0m\u001b[0mi\u001b[0m\u001b[1;33m)\u001b[0m\u001b[1;33m\u001b[0m\u001b[0m\n\u001b[0;32m     96\u001b[0m \u001b[1;33m\u001b[0m\u001b[0m\n",
      "\u001b[1;32m<ipython-input-12-3ec182339358>\u001b[0m in \u001b[0;36mpre_process_tfrecord_write_itr\u001b[1;34m(path, itr, new_size)\u001b[0m\n\u001b[0;32m     19\u001b[0m         \u001b[1;31m## 레이블 padding + resizing\u001b[0m\u001b[1;33m\u001b[0m\u001b[1;33m\u001b[0m\u001b[0m\n\u001b[0;32m     20\u001b[0m         \u001b[0mlab\u001b[0m \u001b[1;33m=\u001b[0m \u001b[0mpad3d\u001b[0m\u001b[1;33m(\u001b[0m\u001b[0mlab\u001b[0m\u001b[1;33m.\u001b[0m\u001b[0mget_data\u001b[0m\u001b[1;33m(\u001b[0m\u001b[1;33m)\u001b[0m\u001b[1;33m)\u001b[0m\u001b[1;33m\u001b[0m\u001b[0m\n\u001b[1;32m---> 21\u001b[1;33m         \u001b[0mlab\u001b[0m \u001b[1;33m=\u001b[0m \u001b[0mimage_preprocess\u001b[0m\u001b[1;33m(\u001b[0m\u001b[0mlab\u001b[0m\u001b[1;33m,\u001b[0m\u001b[0mnew_size\u001b[0m\u001b[1;33m=\u001b[0m\u001b[0mnew_size\u001b[0m\u001b[1;33m,\u001b[0m\u001b[0mmask\u001b[0m\u001b[1;33m=\u001b[0m\u001b[1;32mTrue\u001b[0m\u001b[1;33m)\u001b[0m\u001b[1;33m\u001b[0m\u001b[0m\n\u001b[0m\u001b[0;32m     22\u001b[0m \u001b[1;33m\u001b[0m\u001b[0m\n\u001b[0;32m     23\u001b[0m         \u001b[0mprint\u001b[0m\u001b[1;33m(\u001b[0m\u001b[1;34m\"Mask shape when preproceesing ends\"\u001b[0m\u001b[1;33m,\u001b[0m\u001b[0mlab\u001b[0m\u001b[1;33m.\u001b[0m\u001b[0mshape\u001b[0m\u001b[1;33m)\u001b[0m\u001b[1;33m\u001b[0m\u001b[0m\n",
      "\u001b[1;32m<ipython-input-2-f91cf5796916>\u001b[0m in \u001b[0;36mimage_preprocess\u001b[1;34m(image, new_size, mask)\u001b[0m\n\u001b[0;32m     44\u001b[0m \u001b[1;33m\u001b[0m\u001b[0m\n\u001b[0;32m     45\u001b[0m \u001b[1;33m\u001b[0m\u001b[0m\n\u001b[1;32m---> 46\u001b[1;33m         \u001b[0mimage\u001b[0m \u001b[1;33m=\u001b[0m \u001b[0mto_categorical\u001b[0m\u001b[1;33m(\u001b[0m\u001b[0mimage\u001b[0m\u001b[1;33m,\u001b[0m \u001b[0mclass_num\u001b[0m\u001b[1;33m)\u001b[0m\u001b[1;33m\u001b[0m\u001b[0m\n\u001b[0m\u001b[0;32m     47\u001b[0m         \u001b[0mprint\u001b[0m\u001b[1;33m(\u001b[0m\u001b[1;34m\"processed mask shape\"\u001b[0m\u001b[1;33m,\u001b[0m\u001b[0mimage\u001b[0m\u001b[1;33m.\u001b[0m\u001b[0mshape\u001b[0m\u001b[1;33m)\u001b[0m\u001b[1;33m\u001b[0m\u001b[0m\n\u001b[0;32m     48\u001b[0m \u001b[1;33m\u001b[0m\u001b[0m\n",
      "\u001b[1;32m~\\Anaconda3\\lib\\site-packages\\keras\\utils\\np_utils.py\u001b[0m in \u001b[0;36mto_categorical\u001b[1;34m(y, num_classes)\u001b[0m\n\u001b[0;32m     30\u001b[0m     \u001b[0mn\u001b[0m \u001b[1;33m=\u001b[0m \u001b[0my\u001b[0m\u001b[1;33m.\u001b[0m\u001b[0mshape\u001b[0m\u001b[1;33m[\u001b[0m\u001b[1;36m0\u001b[0m\u001b[1;33m]\u001b[0m\u001b[1;33m\u001b[0m\u001b[0m\n\u001b[0;32m     31\u001b[0m     \u001b[0mcategorical\u001b[0m \u001b[1;33m=\u001b[0m \u001b[0mnp\u001b[0m\u001b[1;33m.\u001b[0m\u001b[0mzeros\u001b[0m\u001b[1;33m(\u001b[0m\u001b[1;33m(\u001b[0m\u001b[0mn\u001b[0m\u001b[1;33m,\u001b[0m \u001b[0mnum_classes\u001b[0m\u001b[1;33m)\u001b[0m\u001b[1;33m,\u001b[0m \u001b[0mdtype\u001b[0m\u001b[1;33m=\u001b[0m\u001b[0mnp\u001b[0m\u001b[1;33m.\u001b[0m\u001b[0mfloat32\u001b[0m\u001b[1;33m)\u001b[0m\u001b[1;33m\u001b[0m\u001b[0m\n\u001b[1;32m---> 32\u001b[1;33m     \u001b[0mcategorical\u001b[0m\u001b[1;33m[\u001b[0m\u001b[0mnp\u001b[0m\u001b[1;33m.\u001b[0m\u001b[0marange\u001b[0m\u001b[1;33m(\u001b[0m\u001b[0mn\u001b[0m\u001b[1;33m)\u001b[0m\u001b[1;33m,\u001b[0m \u001b[0my\u001b[0m\u001b[1;33m]\u001b[0m \u001b[1;33m=\u001b[0m \u001b[1;36m1\u001b[0m\u001b[1;33m\u001b[0m\u001b[0m\n\u001b[0m\u001b[0;32m     33\u001b[0m     \u001b[0moutput_shape\u001b[0m \u001b[1;33m=\u001b[0m \u001b[0minput_shape\u001b[0m \u001b[1;33m+\u001b[0m \u001b[1;33m(\u001b[0m\u001b[0mnum_classes\u001b[0m\u001b[1;33m,\u001b[0m\u001b[1;33m)\u001b[0m\u001b[1;33m\u001b[0m\u001b[0m\n\u001b[0;32m     34\u001b[0m     \u001b[0mcategorical\u001b[0m \u001b[1;33m=\u001b[0m \u001b[0mnp\u001b[0m\u001b[1;33m.\u001b[0m\u001b[0mreshape\u001b[0m\u001b[1;33m(\u001b[0m\u001b[0mcategorical\u001b[0m\u001b[1;33m,\u001b[0m \u001b[0moutput_shape\u001b[0m\u001b[1;33m)\u001b[0m\u001b[1;33m\u001b[0m\u001b[0m\n",
      "\u001b[1;31mIndexError\u001b[0m: index 8 is out of bounds for axis 1 with size 8"
     ]
    }
   ],
   "source": [
    "\n",
    "ct_set = os.path.join(root,'ct_train_test/ct_train/')\n",
    "ct_set_test = os.path.join(root,'ct_train_test/ct_test/')\n",
    "mr_set = os.path.join(root,'mr_train_test/mr_train/')\n",
    "mr_set_test =  os.path.join(root,'ct_train_test/mr_test/')\n",
    "\n",
    "## 여기 바꾸면서 ct, mr 파일 만들기\n",
    "temp_path = mr_set\n",
    "\n",
    "name_list = []\n",
    "filenames = os.listdir(temp_path)\n",
    "\n",
    "for i in filenames:\n",
    "    if i[:13] not in name_list:\n",
    "        name_list.append(i[:13])\n",
    "        \n",
    "total_list = []\n",
    "for i in name_list:\n",
    "    temp_name = i\n",
    "    temp_image = i+'_image.nii'\n",
    "    temp_label = i+'_label.nii'\n",
    "    total_list.append({'name' : temp_name,'image':temp_image,'label':temp_label})\n",
    "\n",
    "label_encoder = preprocessing.LabelEncoder()\n",
    "class_num=7+1\n",
    "print(\"starting gen\")\n",
    "\n",
    "\n",
    "## 전처리 Generator\n",
    "preprocess_gen = pre_process_tfrecord_write_itr(temp_path,total_list,new_size=256)\n",
    "\n",
    "\n",
    "out_file = temp_path.split('/')[-2] + '_tfrecord'\n",
    "tfrecords_filename =os.path.join(root, out_file)\n",
    "\n",
    "## Tf Record 형식으로 저장\n",
    "write_image_annotation_pairs_to_tfrecord_from_gen(preprocess_gen,tfrecords_filename)"
   ]
  },
  {
   "cell_type": "code",
   "execution_count": 32,
   "metadata": {},
   "outputs": [
    {
     "name": "stdout",
     "output_type": "stream",
     "text": [
      "starting gen\n",
      "Start writing tfrecord\n"
     ]
    },
    {
     "name": "stderr",
     "output_type": "stream",
     "text": [
      "\n",
      "\n",
      "  0%|                                                                                           | 0/40 [00:00<?, ?it/s]"
     ]
    },
    {
     "name": "stdout",
     "output_type": "stream",
     "text": [
      "D:\\segmentiation/ct_train_test/ct_test/ ct_test_2001_image.nii\n",
      "loaded Image Shape (512, 512, 224)\n",
      "Reshaped shape (256, 256, 256, 1)\n",
      "0\n",
      "img shape: (256, 256, 1), img_raw shape: 524288\n"
     ]
    },
    {
     "name": "stderr",
     "output_type": "stream",
     "text": [
      "\n",
      "\n",
      "  2%|██                                                                                 | 1/40 [00:09<05:55,  9.12s/it]"
     ]
    },
    {
     "name": "stdout",
     "output_type": "stream",
     "text": [
      "D:\\segmentiation/ct_train_test/ct_test/ ct_test_2002_image.nii\n",
      "loaded Image Shape (512, 512, 200)\n",
      "Reshaped shape (256, 256, 256, 1)\n",
      "1\n",
      "img shape: (256, 256, 1), img_raw shape: 524288\n"
     ]
    },
    {
     "name": "stderr",
     "output_type": "stream",
     "text": [
      "\n",
      "\n",
      "  5%|████▏                                                                              | 2/40 [00:17<05:37,  8.87s/it]"
     ]
    },
    {
     "name": "stdout",
     "output_type": "stream",
     "text": [
      "D:\\segmentiation/ct_train_test/ct_test/ ct_test_2003_image.nii\n",
      "loaded Image Shape (512, 512, 276)\n",
      "Reshaped shape (256, 256, 256, 1)\n",
      "2\n",
      "img shape: (256, 256, 1), img_raw shape: 524288\n"
     ]
    },
    {
     "name": "stderr",
     "output_type": "stream",
     "text": [
      "\n",
      "\n",
      "  8%|██████▏                                                                            | 3/40 [00:27<05:44,  9.32s/it]"
     ]
    },
    {
     "name": "stdout",
     "output_type": "stream",
     "text": [
      "D:\\segmentiation/ct_train_test/ct_test/ ct_test_2004_image.nii\n",
      "loaded Image Shape (512, 512, 206)\n",
      "Reshaped shape (256, 256, 256, 1)\n",
      "3\n",
      "img shape: (256, 256, 1), img_raw shape: 524288\n"
     ]
    },
    {
     "name": "stderr",
     "output_type": "stream",
     "text": [
      "\n",
      "\n",
      " 10%|████████▎                                                                          | 4/40 [00:36<05:27,  9.10s/it]"
     ]
    },
    {
     "name": "stdout",
     "output_type": "stream",
     "text": [
      "D:\\segmentiation/ct_train_test/ct_test/ ct_test_2005_image.nii\n",
      "loaded Image Shape (512, 512, 271)\n",
      "Reshaped shape (256, 256, 256, 1)\n",
      "4\n",
      "img shape: (256, 256, 1), img_raw shape: 524288\n"
     ]
    },
    {
     "name": "stderr",
     "output_type": "stream",
     "text": [
      "\n",
      "\n",
      " 12%|██████████▍                                                                        | 5/40 [00:46<05:30,  9.44s/it]"
     ]
    },
    {
     "name": "stdout",
     "output_type": "stream",
     "text": [
      "D:\\segmentiation/ct_train_test/ct_test/ ct_test_2006_image.nii\n",
      "loaded Image Shape (512, 512, 271)\n",
      "Reshaped shape (256, 256, 256, 1)\n",
      "5\n",
      "img shape: (256, 256, 1), img_raw shape: 524288\n"
     ]
    },
    {
     "name": "stderr",
     "output_type": "stream",
     "text": [
      "\n",
      "\n",
      " 15%|████████████▍                                                                      | 6/40 [00:56<05:26,  9.62s/it]"
     ]
    },
    {
     "name": "stdout",
     "output_type": "stream",
     "text": [
      "D:\\segmentiation/ct_train_test/ct_test/ ct_test_2007_image.nii\n",
      "loaded Image Shape (512, 512, 288)\n",
      "Reshaped shape (256, 256, 256, 1)\n",
      "6\n",
      "img shape: (256, 256, 1), img_raw shape: 524288\n"
     ]
    },
    {
     "name": "stderr",
     "output_type": "stream",
     "text": [
      "\n",
      "\n",
      " 18%|██████████████▌                                                                    | 7/40 [01:06<05:20,  9.70s/it]"
     ]
    },
    {
     "name": "stdout",
     "output_type": "stream",
     "text": [
      "D:\\segmentiation/ct_train_test/ct_test/ ct_test_2008_image.nii\n",
      "loaded Image Shape (512, 512, 261)\n",
      "Reshaped shape (256, 256, 256, 1)\n",
      "7\n",
      "img shape: (256, 256, 1), img_raw shape: 524288\n"
     ]
    },
    {
     "name": "stderr",
     "output_type": "stream",
     "text": [
      "\n",
      "\n",
      " 20%|████████████████▌                                                                  | 8/40 [01:16<05:12,  9.77s/it]"
     ]
    },
    {
     "name": "stdout",
     "output_type": "stream",
     "text": [
      "D:\\segmentiation/ct_train_test/ct_test/ ct_test_2009_image.nii\n",
      "loaded Image Shape (512, 512, 300)\n",
      "Reshaped shape (256, 256, 256, 1)\n",
      "8\n",
      "img shape: (256, 256, 1), img_raw shape: 524288\n"
     ]
    },
    {
     "name": "stderr",
     "output_type": "stream",
     "text": [
      "\n",
      "\n",
      " 22%|██████████████████▋                                                                | 9/40 [01:27<05:18, 10.28s/it]"
     ]
    },
    {
     "name": "stdout",
     "output_type": "stream",
     "text": [
      "D:\\segmentiation/ct_train_test/ct_test/ ct_test_2010_image.nii\n",
      "loaded Image Shape (512, 512, 274)\n",
      "Reshaped shape (256, 256, 256, 1)\n",
      "9\n",
      "img shape: (256, 256, 1), img_raw shape: 524288\n"
     ]
    },
    {
     "name": "stderr",
     "output_type": "stream",
     "text": [
      "\n",
      "\n",
      " 25%|████████████████████▌                                                             | 10/40 [01:38<05:08, 10.28s/it]"
     ]
    },
    {
     "name": "stdout",
     "output_type": "stream",
     "text": [
      "D:\\segmentiation/ct_train_test/ct_test/ ct_test_2011_image.nii\n",
      "loaded Image Shape (512, 512, 298)\n",
      "Reshaped shape (256, 256, 256, 1)\n",
      "10\n",
      "img shape: (256, 256, 1), img_raw shape: 524288\n"
     ]
    },
    {
     "name": "stderr",
     "output_type": "stream",
     "text": [
      "\n",
      "\n",
      " 28%|██████████████████████▌                                                           | 11/40 [01:49<05:06, 10.57s/it]"
     ]
    },
    {
     "name": "stdout",
     "output_type": "stream",
     "text": [
      "D:\\segmentiation/ct_train_test/ct_test/ ct_test_2012_image.nii\n",
      "loaded Image Shape (512, 512, 256)\n",
      "Reshaped shape (256, 256, 256, 1)\n",
      "11\n",
      "img shape: (256, 256, 1), img_raw shape: 524288\n"
     ]
    },
    {
     "name": "stderr",
     "output_type": "stream",
     "text": [
      "\n",
      "\n",
      " 30%|████████████████████████▌                                                         | 12/40 [01:58<04:47, 10.25s/it]"
     ]
    },
    {
     "name": "stdout",
     "output_type": "stream",
     "text": [
      "D:\\segmentiation/ct_train_test/ct_test/ ct_test_2013_image.nii\n",
      "loaded Image Shape (512, 512, 287)\n",
      "Reshaped shape (256, 256, 256, 1)\n",
      "12\n",
      "img shape: (256, 256, 1), img_raw shape: 524288\n"
     ]
    },
    {
     "name": "stderr",
     "output_type": "stream",
     "text": [
      "\n",
      "\n",
      " 32%|██████████████████████████▋                                                       | 13/40 [02:09<04:41, 10.44s/it]"
     ]
    },
    {
     "name": "stdout",
     "output_type": "stream",
     "text": [
      "D:\\segmentiation/ct_train_test/ct_test/ ct_test_2014_image.nii\n",
      "loaded Image Shape (512, 512, 224)\n",
      "Reshaped shape (256, 256, 256, 1)\n",
      "13\n",
      "img shape: (256, 256, 1), img_raw shape: 524288\n"
     ]
    },
    {
     "name": "stderr",
     "output_type": "stream",
     "text": [
      "\n",
      "\n",
      " 35%|████████████████████████████▋                                                     | 14/40 [02:18<04:18,  9.93s/it]"
     ]
    },
    {
     "name": "stdout",
     "output_type": "stream",
     "text": [
      "D:\\segmentiation/ct_train_test/ct_test/ ct_test_2015_image.nii\n",
      "loaded Image Shape (512, 512, 288)\n",
      "Reshaped shape (256, 256, 256, 1)\n",
      "14\n",
      "img shape: (256, 256, 1), img_raw shape: 524288\n"
     ]
    },
    {
     "name": "stderr",
     "output_type": "stream",
     "text": [
      "\n",
      "\n",
      " 38%|██████████████████████████████▊                                                   | 15/40 [02:29<04:13, 10.15s/it]"
     ]
    },
    {
     "name": "stdout",
     "output_type": "stream",
     "text": [
      "D:\\segmentiation/ct_train_test/ct_test/ ct_test_2016_image.nii\n",
      "loaded Image Shape (512, 512, 243)\n",
      "Reshaped shape (256, 256, 256, 1)\n",
      "15\n",
      "img shape: (256, 256, 1), img_raw shape: 524288\n"
     ]
    },
    {
     "name": "stderr",
     "output_type": "stream",
     "text": [
      "\n",
      "\n",
      " 40%|████████████████████████████████▊                                                 | 16/40 [02:38<03:58,  9.96s/it]"
     ]
    },
    {
     "name": "stdout",
     "output_type": "stream",
     "text": [
      "D:\\segmentiation/ct_train_test/ct_test/ ct_test_2017_image.nii\n",
      "loaded Image Shape (512, 512, 248)\n",
      "Reshaped shape (256, 256, 256, 1)\n",
      "16\n",
      "img shape: (256, 256, 1), img_raw shape: 524288\n"
     ]
    },
    {
     "name": "stderr",
     "output_type": "stream",
     "text": [
      "\n",
      "\n",
      " 42%|██████████████████████████████████▊                                               | 17/40 [02:48<03:49,  9.96s/it]"
     ]
    },
    {
     "name": "stdout",
     "output_type": "stream",
     "text": [
      "D:\\segmentiation/ct_train_test/ct_test/ ct_test_2018_image.nii\n",
      "loaded Image Shape (512, 512, 211)\n",
      "Reshaped shape (256, 256, 256, 1)\n",
      "17\n",
      "img shape: (256, 256, 1), img_raw shape: 524288\n"
     ]
    },
    {
     "name": "stderr",
     "output_type": "stream",
     "text": [
      "\n",
      "\n",
      " 45%|████████████████████████████████████▉                                             | 18/40 [02:57<03:30,  9.55s/it]"
     ]
    },
    {
     "name": "stdout",
     "output_type": "stream",
     "text": [
      "D:\\segmentiation/ct_train_test/ct_test/ ct_test_2019_image.nii\n",
      "loaded Image Shape (512, 512, 297)\n",
      "Reshaped shape (256, 256, 256, 1)\n",
      "18\n",
      "img shape: (256, 256, 1), img_raw shape: 524288\n"
     ]
    },
    {
     "name": "stderr",
     "output_type": "stream",
     "text": [
      "\n",
      "\n",
      " 48%|██████████████████████████████████████▉                                           | 19/40 [03:08<03:31, 10.05s/it]"
     ]
    },
    {
     "name": "stdout",
     "output_type": "stream",
     "text": [
      "D:\\segmentiation/ct_train_test/ct_test/ ct_test_2020_image.nii\n",
      "loaded Image Shape (512, 512, 298)\n",
      "Reshaped shape (256, 256, 256, 1)\n",
      "19\n",
      "img shape: (256, 256, 1), img_raw shape: 524288\n"
     ]
    },
    {
     "name": "stderr",
     "output_type": "stream",
     "text": [
      "\n",
      "\n",
      " 50%|█████████████████████████████████████████                                         | 20/40 [03:20<03:30, 10.52s/it]"
     ]
    },
    {
     "name": "stdout",
     "output_type": "stream",
     "text": [
      "D:\\segmentiation/ct_train_test/ct_test/ ct_test_2021_image.nii\n",
      "loaded Image Shape (512, 512, 187)\n",
      "Reshaped shape (256, 256, 256, 1)\n",
      "20\n",
      "img shape: (256, 256, 1), img_raw shape: 524288\n"
     ]
    },
    {
     "name": "stderr",
     "output_type": "stream",
     "text": [
      "\n",
      "\n",
      " 52%|███████████████████████████████████████████                                       | 21/40 [03:28<03:06,  9.81s/it]"
     ]
    },
    {
     "name": "stdout",
     "output_type": "stream",
     "text": [
      "D:\\segmentiation/ct_train_test/ct_test/ ct_test_2022_image.nii\n",
      "loaded Image Shape (512, 512, 239)\n",
      "Reshaped shape (256, 256, 256, 1)\n",
      "21\n",
      "img shape: (256, 256, 1), img_raw shape: 524288\n"
     ]
    },
    {
     "name": "stderr",
     "output_type": "stream",
     "text": [
      "\n",
      "\n",
      " 55%|█████████████████████████████████████████████                                     | 22/40 [03:37<02:52,  9.59s/it]"
     ]
    },
    {
     "name": "stdout",
     "output_type": "stream",
     "text": [
      "D:\\segmentiation/ct_train_test/ct_test/ ct_test_2023_image.nii\n",
      "loaded Image Shape (512, 512, 230)\n",
      "Reshaped shape (256, 256, 256, 1)\n",
      "22\n",
      "img shape: (256, 256, 1), img_raw shape: 131072\n"
     ]
    },
    {
     "name": "stderr",
     "output_type": "stream",
     "text": [
      "\n",
      "\n",
      " 57%|███████████████████████████████████████████████▏                                  | 23/40 [03:42<02:22,  8.37s/it]"
     ]
    },
    {
     "name": "stdout",
     "output_type": "stream",
     "text": [
      "D:\\segmentiation/ct_train_test/ct_test/ ct_test_2024_image.nii\n",
      "loaded Image Shape (512, 512, 276)\n",
      "Reshaped shape (256, 256, 256, 1)\n",
      "23\n",
      "img shape: (256, 256, 1), img_raw shape: 524288\n"
     ]
    },
    {
     "name": "stderr",
     "output_type": "stream",
     "text": [
      "\n",
      "\n",
      " 60%|█████████████████████████████████████████████████▏                                | 24/40 [03:53<02:22,  8.91s/it]"
     ]
    },
    {
     "name": "stdout",
     "output_type": "stream",
     "text": [
      "D:\\segmentiation/ct_train_test/ct_test/ ct_test_2025_image.nii\n",
      "loaded Image Shape (512, 512, 206)\n",
      "Reshaped shape (256, 256, 256, 1)\n",
      "24\n",
      "img shape: (256, 256, 1), img_raw shape: 524288\n"
     ]
    },
    {
     "name": "stderr",
     "output_type": "stream",
     "text": [
      "\n",
      "\n",
      " 62%|███████████████████████████████████████████████████▎                              | 25/40 [04:01<02:13,  8.91s/it]"
     ]
    },
    {
     "name": "stdout",
     "output_type": "stream",
     "text": [
      "D:\\segmentiation/ct_train_test/ct_test/ ct_test_2026_image.nii\n",
      "loaded Image Shape (512, 512, 247)\n",
      "Reshaped shape (256, 256, 256, 1)\n",
      "25\n",
      "img shape: (256, 256, 1), img_raw shape: 524288\n"
     ]
    },
    {
     "name": "stderr",
     "output_type": "stream",
     "text": [
      "\n",
      "\n",
      " 65%|█████████████████████████████████████████████████████▎                            | 26/40 [04:11<02:08,  9.15s/it]"
     ]
    },
    {
     "name": "stdout",
     "output_type": "stream",
     "text": [
      "D:\\segmentiation/ct_train_test/ct_test/ ct_test_2027_image.nii\n",
      "loaded Image Shape (512, 512, 239)\n",
      "Reshaped shape (256, 256, 256, 1)\n",
      "26\n",
      "img shape: (256, 256, 1), img_raw shape: 524288\n"
     ]
    },
    {
     "name": "stderr",
     "output_type": "stream",
     "text": [
      "\n",
      "\n",
      " 68%|███████████████████████████████████████████████████████▎                          | 27/40 [04:20<01:59,  9.18s/it]"
     ]
    },
    {
     "name": "stdout",
     "output_type": "stream",
     "text": [
      "D:\\segmentiation/ct_train_test/ct_test/ ct_test_2028_image.nii\n",
      "loaded Image Shape (512, 512, 358)\n",
      "Reshaped shape (256, 256, 256, 1)\n",
      "27\n",
      "img shape: (256, 256, 1), img_raw shape: 524288\n"
     ]
    },
    {
     "name": "stderr",
     "output_type": "stream",
     "text": [
      "\n",
      "\n",
      " 70%|█████████████████████████████████████████████████████████▍                        | 28/40 [04:33<02:03, 10.30s/it]"
     ]
    },
    {
     "name": "stdout",
     "output_type": "stream",
     "text": [
      "D:\\segmentiation/ct_train_test/ct_test/ ct_test_2029_image.nii\n",
      "loaded Image Shape (512, 512, 298)\n",
      "Reshaped shape (256, 256, 256, 1)\n",
      "28\n",
      "img shape: (256, 256, 1), img_raw shape: 524288\n"
     ]
    },
    {
     "name": "stderr",
     "output_type": "stream",
     "text": [
      "\n",
      "\n",
      " 72%|███████████████████████████████████████████████████████████▍                      | 29/40 [04:44<01:55, 10.53s/it]"
     ]
    },
    {
     "name": "stdout",
     "output_type": "stream",
     "text": [
      "D:\\segmentiation/ct_train_test/ct_test/ ct_test_2030_image.nii\n",
      "loaded Image Shape (512, 512, 293)\n",
      "Reshaped shape (256, 256, 256, 1)\n",
      "29\n",
      "img shape: (256, 256, 1), img_raw shape: 524288\n"
     ]
    },
    {
     "name": "stderr",
     "output_type": "stream",
     "text": [
      "\n",
      "\n",
      " 75%|█████████████████████████████████████████████████████████████▌                    | 30/40 [04:55<01:46, 10.65s/it]"
     ]
    },
    {
     "name": "stdout",
     "output_type": "stream",
     "text": [
      "D:\\segmentiation/ct_train_test/ct_test/ ct_test_2031_image.nii\n",
      "loaded Image Shape (512, 512, 287)\n",
      "Reshaped shape (256, 256, 256, 1)\n",
      "30\n",
      "img shape: (256, 256, 1), img_raw shape: 524288\n"
     ]
    },
    {
     "name": "stderr",
     "output_type": "stream",
     "text": [
      "\n",
      "\n",
      " 78%|███████████████████████████████████████████████████████████████▌                  | 31/40 [05:06<01:36, 10.73s/it]"
     ]
    },
    {
     "name": "stdout",
     "output_type": "stream",
     "text": [
      "D:\\segmentiation/ct_train_test/ct_test/ ct_test_2032_image.nii\n",
      "loaded Image Shape (512, 512, 177)\n",
      "Reshaped shape (256, 256, 256, 1)\n",
      "31\n",
      "img shape: (256, 256, 1), img_raw shape: 524288\n"
     ]
    },
    {
     "name": "stderr",
     "output_type": "stream",
     "text": [
      "\n",
      "\n",
      " 80%|█████████████████████████████████████████████████████████████████▌                | 32/40 [05:14<01:17,  9.73s/it]"
     ]
    },
    {
     "name": "stdout",
     "output_type": "stream",
     "text": [
      "D:\\segmentiation/ct_train_test/ct_test/ ct_test_2033_image.nii\n",
      "loaded Image Shape (512, 512, 222)\n",
      "Reshaped shape (256, 256, 256, 1)\n",
      "32\n",
      "img shape: (256, 256, 1), img_raw shape: 524288\n"
     ]
    },
    {
     "name": "stderr",
     "output_type": "stream",
     "text": [
      "\n",
      "\n",
      " 82%|███████████████████████████████████████████████████████████████████▋              | 33/40 [05:23<01:06,  9.50s/it]"
     ]
    },
    {
     "name": "stdout",
     "output_type": "stream",
     "text": [
      "D:\\segmentiation/ct_train_test/ct_test/ ct_test_2034_image.nii\n",
      "loaded Image Shape (512, 512, 247)\n",
      "Reshaped shape (256, 256, 256, 1)\n",
      "33\n",
      "img shape: (256, 256, 1), img_raw shape: 524288\n"
     ]
    },
    {
     "name": "stderr",
     "output_type": "stream",
     "text": [
      "\n",
      "\n",
      " 85%|█████████████████████████████████████████████████████████████████████▋            | 34/40 [05:32<00:56,  9.48s/it]"
     ]
    },
    {
     "name": "stdout",
     "output_type": "stream",
     "text": [
      "D:\\segmentiation/ct_train_test/ct_test/ ct_test_2035_image.nii\n",
      "loaded Image Shape (512, 512, 256)\n",
      "Reshaped shape (256, 256, 256, 1)\n",
      "34\n",
      "img shape: (256, 256, 1), img_raw shape: 524288\n"
     ]
    },
    {
     "name": "stderr",
     "output_type": "stream",
     "text": [
      "\n",
      "\n",
      " 88%|███████████████████████████████████████████████████████████████████████▊          | 35/40 [05:42<00:47,  9.53s/it]"
     ]
    },
    {
     "name": "stdout",
     "output_type": "stream",
     "text": [
      "D:\\segmentiation/ct_train_test/ct_test/ ct_test_2036_image.nii\n",
      "loaded Image Shape (512, 512, 333)\n",
      "Reshaped shape (256, 256, 256, 1)\n",
      "35\n",
      "img shape: (256, 256, 1), img_raw shape: 524288\n"
     ]
    },
    {
     "name": "stderr",
     "output_type": "stream",
     "text": [
      "\n",
      "\n",
      " 90%|█████████████████████████████████████████████████████████████████████████▊        | 36/40 [05:54<00:41, 10.33s/it]"
     ]
    },
    {
     "name": "stdout",
     "output_type": "stream",
     "text": [
      "D:\\segmentiation/ct_train_test/ct_test/ ct_test_2037_image.nii\n",
      "loaded Image Shape (512, 512, 230)\n",
      "Reshaped shape (256, 256, 256, 1)\n",
      "36\n",
      "img shape: (256, 256, 1), img_raw shape: 131072\n"
     ]
    },
    {
     "name": "stderr",
     "output_type": "stream",
     "text": [
      "\n",
      "\n",
      " 92%|███████████████████████████████████████████████████████████████████████████▊      | 37/40 [06:00<00:26,  8.94s/it]"
     ]
    },
    {
     "name": "stdout",
     "output_type": "stream",
     "text": [
      "D:\\segmentiation/ct_train_test/ct_test/ ct_test_2038_image.nii\n",
      "loaded Image Shape (512, 512, 261)\n",
      "Reshaped shape (256, 256, 256, 1)\n",
      "37\n",
      "img shape: (256, 256, 1), img_raw shape: 524288\n"
     ]
    },
    {
     "name": "stderr",
     "output_type": "stream",
     "text": [
      "\n",
      "\n",
      " 95%|█████████████████████████████████████████████████████████████████████████████▉    | 38/40 [06:10<00:18,  9.27s/it]"
     ]
    },
    {
     "name": "stdout",
     "output_type": "stream",
     "text": [
      "D:\\segmentiation/ct_train_test/ct_test/ ct_test_2039_image.nii\n",
      "loaded Image Shape (512, 512, 177)\n",
      "Reshaped shape (256, 256, 256, 1)\n",
      "38\n",
      "img shape: (256, 256, 1), img_raw shape: 524288\n"
     ]
    },
    {
     "name": "stderr",
     "output_type": "stream",
     "text": [
      "\n",
      "\n",
      " 98%|███████████████████████████████████████████████████████████████████████████████▉  | 39/40 [06:17<00:08,  8.78s/it]"
     ]
    },
    {
     "name": "stdout",
     "output_type": "stream",
     "text": [
      "D:\\segmentiation/ct_train_test/ct_test/ ct_test_2040_image.nii\n",
      "loaded Image Shape (512, 512, 283)\n",
      "Reshaped shape (256, 256, 256, 1)\n",
      "39\n",
      "img shape: (256, 256, 1), img_raw shape: 524288\n"
     ]
    },
    {
     "name": "stderr",
     "output_type": "stream",
     "text": [
      "\n",
      "\n",
      "100%|██████████████████████████████████████████████████████████████████████████████████| 40/40 [06:28<00:00,  9.36s/it]\n",
      "\n"
     ]
    }
   ],
   "source": [
    "ct_set = os.path.join(root,'ct_train_test/ct_train/')\n",
    "ct_set_test = os.path.join(root,'ct_train_test/ct_test/')\n",
    "mr_set = os.path.join(root,'mr_train_test/mr_train/')\n",
    "mr_set_test =  os.path.join(root,'ct_train_test/mr_test/')\n",
    "\n",
    "## 여기 바꾸면서 ct, mr 파일 만들기\n",
    "temp_path = ct_set_test\n",
    "\n",
    "name_list = []\n",
    "filenames = os.listdir(temp_path)\n",
    "\n",
    "for i in filenames:\n",
    "    if i[:12] not in name_list:\n",
    "        name_list.append(i[:12])\n",
    "        \n",
    "total_list = []\n",
    "for i in name_list:\n",
    "    temp_name = i\n",
    "    temp_image = i+'_image.nii'\n",
    "    temp_label = i+'_label.nii'\n",
    "    total_list.append({'name' : temp_name,'image':temp_image,'label':temp_label})\n",
    "\n",
    "label_encoder = preprocessing.LabelEncoder()\n",
    "class_num=7+1\n",
    "print(\"starting gen\")\n",
    "\n",
    "\n",
    "## 전처리 Generator\n",
    "preprocess_gen = pre_process_tfrecord_write_itr(temp_path,total_list,new_size=256,test = True)\n",
    "\n",
    "\n",
    "out_file = temp_path.split('/')[-2] + '_tfrecord'\n",
    "tfrecords_filename =os.path.join(root, out_file)\n",
    "\n",
    "## Tf Record 형식으로 저장\n",
    "write_image_annotation_pairs_to_tfrecord_from_gen(preprocess_gen,tfrecords_filename, test=True)"
   ]
  },
  {
   "cell_type": "code",
   "execution_count": 35,
   "metadata": {
    "scrolled": true
   },
   "outputs": [
    {
     "name": "stdout",
     "output_type": "stream",
     "text": [
      "starting gen\n",
      "Start writing tfrecord\n"
     ]
    },
    {
     "name": "stderr",
     "output_type": "stream",
     "text": [
      "\n",
      "\n",
      "  0%|                                                                                           | 0/40 [00:00<?, ?it/s]"
     ]
    },
    {
     "name": "stdout",
     "output_type": "stream",
     "text": [
      "D:\\segmentiation/mr_train_test/mr_test/ mr_test_2001_image.nii\n",
      "loaded Image Shape (288, 288, 140)\n",
      "Reshaped shape (256, 256, 256, 1)\n",
      "0\n",
      "img shape: (256, 256, 1), img_raw shape: 131072\n"
     ]
    },
    {
     "name": "stderr",
     "output_type": "stream",
     "text": [
      "\n",
      "\n",
      "  2%|██                                                                                 | 1/40 [00:01<00:49,  1.26s/it]"
     ]
    },
    {
     "name": "stdout",
     "output_type": "stream",
     "text": [
      "D:\\segmentiation/mr_train_test/mr_test/ mr_test_2002_image.nii\n",
      "loaded Image Shape (288, 288, 150)\n",
      "Reshaped shape (256, 256, 256, 1)\n",
      "1\n",
      "img shape: (256, 256, 1), img_raw shape: 131072\n"
     ]
    },
    {
     "name": "stderr",
     "output_type": "stream",
     "text": [
      "\n",
      "\n",
      "  5%|████▏                                                                              | 2/40 [00:02<00:49,  1.31s/it]"
     ]
    },
    {
     "name": "stdout",
     "output_type": "stream",
     "text": [
      "D:\\segmentiation/mr_train_test/mr_test/ mr_test_2003_image.nii\n",
      "loaded Image Shape (256, 256, 140)\n",
      "Reshaped shape (256, 256, 256, 1)\n",
      "2\n",
      "img shape: (256, 256, 1), img_raw shape: 131072\n"
     ]
    },
    {
     "name": "stderr",
     "output_type": "stream",
     "text": [
      "\n",
      "\n",
      "  8%|██████▏                                                                            | 3/40 [00:03<00:46,  1.26s/it]"
     ]
    },
    {
     "name": "stdout",
     "output_type": "stream",
     "text": [
      "D:\\segmentiation/mr_train_test/mr_test/ mr_test_2004_image.nii\n",
      "loaded Image Shape (288, 288, 130)\n",
      "Reshaped shape (256, 256, 256, 1)\n",
      "3\n",
      "img shape: (256, 256, 1), img_raw shape: 131072\n"
     ]
    },
    {
     "name": "stderr",
     "output_type": "stream",
     "text": [
      "\n",
      "\n",
      " 10%|████████▎                                                                          | 4/40 [00:04<00:43,  1.22s/it]"
     ]
    },
    {
     "name": "stdout",
     "output_type": "stream",
     "text": [
      "D:\\segmentiation/mr_train_test/mr_test/ mr_test_2005_image.nii\n",
      "loaded Image Shape (320, 320, 135)\n",
      "Reshaped shape (256, 256, 256, 1)\n",
      "4\n",
      "img shape: (256, 256, 1), img_raw shape: 131072\n"
     ]
    },
    {
     "name": "stderr",
     "output_type": "stream",
     "text": [
      "\n",
      "\n",
      " 12%|██████████▍                                                                        | 5/40 [00:06<00:44,  1.28s/it]"
     ]
    },
    {
     "name": "stdout",
     "output_type": "stream",
     "text": [
      "D:\\segmentiation/mr_train_test/mr_test/ mr_test_2006_image.nii\n",
      "loaded Image Shape (512, 512, 120)\n",
      "Reshaped shape (256, 256, 256, 1)\n",
      "5\n",
      "img shape: (256, 256, 1), img_raw shape: 131072\n"
     ]
    },
    {
     "name": "stderr",
     "output_type": "stream",
     "text": [
      "\n",
      "\n",
      " 15%|████████████▍                                                                      | 6/40 [00:09<01:05,  1.93s/it]"
     ]
    },
    {
     "name": "stdout",
     "output_type": "stream",
     "text": [
      "D:\\segmentiation/mr_train_test/mr_test/ mr_test_2007_image.nii\n",
      "loaded Image Shape (512, 512, 128)\n",
      "Reshaped shape (256, 256, 256, 1)\n",
      "6\n",
      "img shape: (256, 256, 1), img_raw shape: 131072\n"
     ]
    },
    {
     "name": "stderr",
     "output_type": "stream",
     "text": [
      "\n",
      "\n",
      " 18%|██████████████▌                                                                    | 7/40 [00:14<01:26,  2.62s/it]"
     ]
    },
    {
     "name": "stdout",
     "output_type": "stream",
     "text": [
      "D:\\segmentiation/mr_train_test/mr_test/ mr_test_2008_image.nii\n",
      "loaded Image Shape (256, 256, 140)\n",
      "Reshaped shape (256, 256, 256, 1)\n",
      "7\n",
      "img shape: (256, 256, 1), img_raw shape: 131072\n"
     ]
    },
    {
     "name": "stderr",
     "output_type": "stream",
     "text": [
      "\n",
      "\n",
      " 20%|████████████████▌                                                                  | 8/40 [00:15<01:09,  2.19s/it]"
     ]
    },
    {
     "name": "stdout",
     "output_type": "stream",
     "text": [
      "D:\\segmentiation/mr_train_test/mr_test/ mr_test_2009_image.nii\n",
      "loaded Image Shape (512, 512, 128)\n",
      "Reshaped shape (256, 256, 256, 1)\n",
      "8\n",
      "img shape: (256, 256, 1), img_raw shape: 131072\n"
     ]
    },
    {
     "name": "stderr",
     "output_type": "stream",
     "text": [
      "\n",
      "\n",
      " 22%|██████████████████▋                                                                | 9/40 [00:19<01:27,  2.84s/it]"
     ]
    },
    {
     "name": "stdout",
     "output_type": "stream",
     "text": [
      "D:\\segmentiation/mr_train_test/mr_test/ mr_test_2010_image.nii\n",
      "loaded Image Shape (256, 256, 140)\n",
      "Reshaped shape (256, 256, 256, 1)\n",
      "9\n",
      "img shape: (256, 256, 1), img_raw shape: 131072\n"
     ]
    },
    {
     "name": "stderr",
     "output_type": "stream",
     "text": [
      "\n",
      "\n",
      " 25%|████████████████████▌                                                             | 10/40 [00:21<01:18,  2.63s/it]"
     ]
    },
    {
     "name": "stdout",
     "output_type": "stream",
     "text": [
      "D:\\segmentiation/mr_train_test/mr_test/ mr_test_2011_image.nii\n",
      "loaded Image Shape (256, 256, 130)\n",
      "Reshaped shape (256, 256, 256, 1)\n",
      "10\n",
      "img shape: (256, 256, 1), img_raw shape: 131072\n"
     ]
    },
    {
     "name": "stderr",
     "output_type": "stream",
     "text": [
      "\n",
      "\n",
      " 28%|██████████████████████▌                                                           | 11/40 [00:22<01:02,  2.15s/it]"
     ]
    },
    {
     "name": "stdout",
     "output_type": "stream",
     "text": [
      "D:\\segmentiation/mr_train_test/mr_test/ mr_test_2012_image.nii\n",
      "loaded Image Shape (512, 512, 120)\n",
      "Reshaped shape (256, 256, 256, 1)\n",
      "11\n",
      "img shape: (256, 256, 1), img_raw shape: 131072\n"
     ]
    },
    {
     "name": "stderr",
     "output_type": "stream",
     "text": [
      "\n",
      "\n",
      " 30%|████████████████████████▌                                                         | 12/40 [00:25<01:08,  2.44s/it]"
     ]
    },
    {
     "name": "stdout",
     "output_type": "stream",
     "text": [
      "D:\\segmentiation/mr_train_test/mr_test/ mr_test_2013_image.nii\n",
      "loaded Image Shape (299, 299, 152)\n",
      "Reshaped shape (256, 256, 256, 1)\n",
      "12\n",
      "img shape: (256, 256, 1), img_raw shape: 131072\n"
     ]
    },
    {
     "name": "stderr",
     "output_type": "stream",
     "text": [
      "\n",
      "\n",
      " 32%|██████████████████████████▋                                                       | 13/40 [00:27<00:57,  2.14s/it]"
     ]
    },
    {
     "name": "stdout",
     "output_type": "stream",
     "text": [
      "D:\\segmentiation/mr_train_test/mr_test/ mr_test_2014_image.nii\n",
      "loaded Image Shape (256, 256, 140)\n",
      "Reshaped shape (256, 256, 256, 1)\n",
      "13\n",
      "img shape: (256, 256, 1), img_raw shape: 131072\n"
     ]
    },
    {
     "name": "stderr",
     "output_type": "stream",
     "text": [
      "\n",
      "\n",
      " 35%|████████████████████████████▋                                                     | 14/40 [00:28<00:52,  2.00s/it]"
     ]
    },
    {
     "name": "stdout",
     "output_type": "stream",
     "text": [
      "D:\\segmentiation/mr_train_test/mr_test/ mr_test_2015_image.nii\n",
      "loaded Image Shape (256, 256, 140)\n",
      "Reshaped shape (256, 256, 256, 1)\n",
      "14\n",
      "img shape: (256, 256, 1), img_raw shape: 131072\n"
     ]
    },
    {
     "name": "stderr",
     "output_type": "stream",
     "text": [
      "\n",
      "\n",
      " 38%|██████████████████████████████▊                                                   | 15/40 [00:30<00:43,  1.75s/it]"
     ]
    },
    {
     "name": "stdout",
     "output_type": "stream",
     "text": [
      "D:\\segmentiation/mr_train_test/mr_test/ mr_test_2016_image.nii\n",
      "loaded Image Shape (256, 256, 140)\n",
      "Reshaped shape (256, 256, 256, 1)\n",
      "15\n",
      "img shape: (256, 256, 1), img_raw shape: 131072\n"
     ]
    },
    {
     "name": "stderr",
     "output_type": "stream",
     "text": [
      "\n",
      "\n",
      " 40%|████████████████████████████████▊                                                 | 16/40 [00:31<00:37,  1.55s/it]"
     ]
    },
    {
     "name": "stdout",
     "output_type": "stream",
     "text": [
      "D:\\segmentiation/mr_train_test/mr_test/ mr_test_2017_image.nii\n",
      "loaded Image Shape (512, 512, 112)\n",
      "Reshaped shape (256, 256, 256, 1)\n",
      "16\n",
      "img shape: (256, 256, 1), img_raw shape: 131072\n"
     ]
    },
    {
     "name": "stderr",
     "output_type": "stream",
     "text": [
      "\n",
      "\n",
      " 42%|██████████████████████████████████▊                                               | 17/40 [00:34<00:46,  2.03s/it]"
     ]
    },
    {
     "name": "stdout",
     "output_type": "stream",
     "text": [
      "D:\\segmentiation/mr_train_test/mr_test/ mr_test_2018_image.nii\n",
      "loaded Image Shape (512, 512, 128)\n",
      "Reshaped shape (256, 256, 256, 1)\n",
      "17\n",
      "img shape: (256, 256, 1), img_raw shape: 131072\n"
     ]
    },
    {
     "name": "stderr",
     "output_type": "stream",
     "text": [
      "\n",
      "\n",
      " 45%|████████████████████████████████████▉                                             | 18/40 [00:39<01:02,  2.83s/it]"
     ]
    },
    {
     "name": "stdout",
     "output_type": "stream",
     "text": [
      "D:\\segmentiation/mr_train_test/mr_test/ mr_test_2019_image.nii\n",
      "loaded Image Shape (256, 256, 140)\n",
      "Reshaped shape (256, 256, 256, 1)\n",
      "18\n",
      "img shape: (256, 256, 1), img_raw shape: 131072\n"
     ]
    },
    {
     "name": "stderr",
     "output_type": "stream",
     "text": [
      "\n",
      "\n",
      " 48%|██████████████████████████████████████▉                                           | 19/40 [00:40<00:49,  2.33s/it]"
     ]
    },
    {
     "name": "stdout",
     "output_type": "stream",
     "text": [
      "D:\\segmentiation/mr_train_test/mr_test/ mr_test_2020_image.nii\n",
      "loaded Image Shape (256, 256, 140)\n",
      "Reshaped shape (256, 256, 256, 1)\n",
      "19\n",
      "img shape: (256, 256, 1), img_raw shape: 131072\n"
     ]
    },
    {
     "name": "stderr",
     "output_type": "stream",
     "text": [
      "\n",
      "\n",
      " 50%|█████████████████████████████████████████                                         | 20/40 [00:41<00:39,  1.95s/it]"
     ]
    },
    {
     "name": "stdout",
     "output_type": "stream",
     "text": [
      "D:\\segmentiation/mr_train_test/mr_test/ mr_test_2021_image.nii\n",
      "loaded Image Shape (224, 224, 120)\n",
      "Reshaped shape (256, 256, 256, 1)\n",
      "20\n",
      "img shape: (256, 256, 1), img_raw shape: 131072\n"
     ]
    },
    {
     "name": "stderr",
     "output_type": "stream",
     "text": [
      "\n",
      "\n",
      " 52%|███████████████████████████████████████████                                       | 21/40 [00:42<00:30,  1.59s/it]"
     ]
    },
    {
     "name": "stdout",
     "output_type": "stream",
     "text": [
      "D:\\segmentiation/mr_train_test/mr_test/ mr_test_2022_image.nii\n",
      "loaded Image Shape (256, 256, 155)\n",
      "Reshaped shape (256, 256, 256, 1)\n",
      "21\n",
      "img shape: (256, 256, 1), img_raw shape: 131072\n"
     ]
    },
    {
     "name": "stderr",
     "output_type": "stream",
     "text": [
      "\n",
      "\n",
      " 55%|█████████████████████████████████████████████                                     | 22/40 [00:43<00:26,  1.45s/it]"
     ]
    },
    {
     "name": "stdout",
     "output_type": "stream",
     "text": [
      "D:\\segmentiation/mr_train_test/mr_test/ mr_test_2023_image.nii\n",
      "loaded Image Shape (256, 256, 140)\n",
      "Reshaped shape (256, 256, 256, 1)\n",
      "22\n",
      "img shape: (256, 256, 1), img_raw shape: 131072\n"
     ]
    },
    {
     "name": "stderr",
     "output_type": "stream",
     "text": [
      "\n",
      "\n",
      " 57%|███████████████████████████████████████████████▏                                  | 23/40 [00:44<00:22,  1.33s/it]"
     ]
    },
    {
     "name": "stdout",
     "output_type": "stream",
     "text": [
      "D:\\segmentiation/mr_train_test/mr_test/ mr_test_2024_image.nii\n",
      "loaded Image Shape (256, 256, 140)\n",
      "Reshaped shape (256, 256, 256, 1)\n",
      "23\n",
      "img shape: (256, 256, 1), img_raw shape: 131072\n"
     ]
    },
    {
     "name": "stderr",
     "output_type": "stream",
     "text": [
      "\n",
      "\n",
      " 60%|█████████████████████████████████████████████████▏                                | 24/40 [00:45<00:19,  1.25s/it]"
     ]
    },
    {
     "name": "stdout",
     "output_type": "stream",
     "text": [
      "D:\\segmentiation/mr_train_test/mr_test/ mr_test_2025_image.nii\n",
      "loaded Image Shape (288, 288, 110)\n",
      "Reshaped shape (256, 256, 256, 1)\n",
      "24\n",
      "img shape: (256, 256, 1), img_raw shape: 131072\n"
     ]
    },
    {
     "name": "stderr",
     "output_type": "stream",
     "text": [
      "\n",
      "\n",
      " 62%|███████████████████████████████████████████████████▎                              | 25/40 [00:46<00:17,  1.17s/it]"
     ]
    },
    {
     "name": "stdout",
     "output_type": "stream",
     "text": [
      "D:\\segmentiation/mr_train_test/mr_test/ mr_test_2026_image.nii\n",
      "loaded Image Shape (256, 256, 140)\n",
      "Reshaped shape (256, 256, 256, 1)\n",
      "25\n",
      "img shape: (256, 256, 1), img_raw shape: 131072\n"
     ]
    },
    {
     "name": "stderr",
     "output_type": "stream",
     "text": [
      "\n",
      "\n",
      " 65%|█████████████████████████████████████████████████████▎                            | 26/40 [00:47<00:15,  1.13s/it]"
     ]
    },
    {
     "name": "stdout",
     "output_type": "stream",
     "text": [
      "D:\\segmentiation/mr_train_test/mr_test/ mr_test_2027_image.nii\n",
      "loaded Image Shape (256, 256, 140)\n",
      "Reshaped shape (256, 256, 256, 1)\n",
      "26\n",
      "img shape: (256, 256, 1), img_raw shape: 131072\n"
     ]
    },
    {
     "name": "stderr",
     "output_type": "stream",
     "text": [
      "\n",
      "\n",
      " 68%|███████████████████████████████████████████████████████▎                          | 27/40 [00:48<00:14,  1.10s/it]"
     ]
    },
    {
     "name": "stdout",
     "output_type": "stream",
     "text": [
      "D:\\segmentiation/mr_train_test/mr_test/ mr_test_2028_image.nii\n",
      "loaded Image Shape (512, 512, 160)\n",
      "Reshaped shape (256, 256, 256, 1)\n",
      "27\n",
      "img shape: (256, 256, 1), img_raw shape: 131072\n"
     ]
    },
    {
     "name": "stderr",
     "output_type": "stream",
     "text": [
      "\n",
      "\n",
      " 70%|█████████████████████████████████████████████████████████▍                        | 28/40 [00:52<00:24,  2.07s/it]"
     ]
    },
    {
     "name": "stdout",
     "output_type": "stream",
     "text": [
      "D:\\segmentiation/mr_train_test/mr_test/ mr_test_2029_image.nii\n",
      "loaded Image Shape (384, 384, 190)\n",
      "Reshaped shape (256, 256, 256, 1)\n",
      "28\n",
      "img shape: (256, 256, 1), img_raw shape: 131072\n"
     ]
    },
    {
     "name": "stderr",
     "output_type": "stream",
     "text": [
      "\n",
      "\n",
      " 72%|███████████████████████████████████████████████████████████▍                      | 29/40 [00:55<00:26,  2.38s/it]"
     ]
    },
    {
     "name": "stdout",
     "output_type": "stream",
     "text": [
      "D:\\segmentiation/mr_train_test/mr_test/ mr_test_2030_image.nii\n",
      "loaded Image Shape (256, 256, 140)\n",
      "Reshaped shape (256, 256, 256, 1)\n",
      "29\n",
      "img shape: (256, 256, 1), img_raw shape: 131072\n"
     ]
    },
    {
     "name": "stderr",
     "output_type": "stream",
     "text": [
      "\n",
      "\n",
      " 75%|█████████████████████████████████████████████████████████████▌                    | 30/40 [00:56<00:20,  2.02s/it]"
     ]
    },
    {
     "name": "stdout",
     "output_type": "stream",
     "text": [
      "D:\\segmentiation/mr_train_test/mr_test/ mr_test_2031_image.nii\n",
      "loaded Image Shape (512, 512, 144)\n",
      "Reshaped shape (256, 256, 256, 1)\n",
      "30\n",
      "img shape: (256, 256, 1), img_raw shape: 131072\n"
     ]
    },
    {
     "name": "stderr",
     "output_type": "stream",
     "text": [
      "\n",
      "\n",
      " 78%|███████████████████████████████████████████████████████████████▌                  | 31/40 [01:00<00:22,  2.52s/it]"
     ]
    },
    {
     "name": "stdout",
     "output_type": "stream",
     "text": [
      "D:\\segmentiation/mr_train_test/mr_test/ mr_test_2032_image.nii\n",
      "loaded Image Shape (512, 512, 160)\n",
      "Reshaped shape (256, 256, 256, 1)\n",
      "31\n",
      "img shape: (256, 256, 1), img_raw shape: 131072\n"
     ]
    },
    {
     "name": "stderr",
     "output_type": "stream",
     "text": [
      "\n",
      "\n",
      " 80%|█████████████████████████████████████████████████████████████████▌                | 32/40 [01:04<00:23,  3.00s/it]"
     ]
    },
    {
     "name": "stdout",
     "output_type": "stream",
     "text": [
      "D:\\segmentiation/mr_train_test/mr_test/ mr_test_2033_image.nii\n",
      "loaded Image Shape (256, 256, 140)\n",
      "Reshaped shape (256, 256, 256, 1)\n",
      "32\n",
      "img shape: (256, 256, 1), img_raw shape: 131072\n"
     ]
    },
    {
     "name": "stderr",
     "output_type": "stream",
     "text": [
      "\n",
      "\n",
      " 82%|███████████████████████████████████████████████████████████████████▋              | 33/40 [01:06<00:18,  2.59s/it]"
     ]
    },
    {
     "name": "stdout",
     "output_type": "stream",
     "text": [
      "D:\\segmentiation/mr_train_test/mr_test/ mr_test_2034_image.nii\n",
      "loaded Image Shape (256, 256, 140)\n",
      "Reshaped shape (256, 256, 256, 1)\n",
      "33\n",
      "img shape: (256, 256, 1), img_raw shape: 131072\n"
     ]
    },
    {
     "name": "stderr",
     "output_type": "stream",
     "text": [
      "\n",
      "\n",
      " 85%|█████████████████████████████████████████████████████████████████████▋            | 34/40 [01:07<00:12,  2.15s/it]"
     ]
    },
    {
     "name": "stdout",
     "output_type": "stream",
     "text": [
      "D:\\segmentiation/mr_train_test/mr_test/ mr_test_2035_image.nii\n",
      "loaded Image Shape (288, 288, 150)\n",
      "Reshaped shape (256, 256, 256, 1)\n",
      "34\n",
      "img shape: (256, 256, 1), img_raw shape: 131072\n"
     ]
    },
    {
     "name": "stderr",
     "output_type": "stream",
     "text": [
      "\n",
      "\n",
      " 88%|███████████████████████████████████████████████████████████████████████▊          | 35/40 [01:08<00:09,  1.89s/it]"
     ]
    },
    {
     "name": "stdout",
     "output_type": "stream",
     "text": [
      "D:\\segmentiation/mr_train_test/mr_test/ mr_test_2036_image.nii\n",
      "loaded Image Shape (256, 256, 140)\n",
      "Reshaped shape (256, 256, 256, 1)\n",
      "35\n",
      "img shape: (256, 256, 1), img_raw shape: 131072\n"
     ]
    },
    {
     "name": "stderr",
     "output_type": "stream",
     "text": [
      "\n",
      "\n",
      " 90%|█████████████████████████████████████████████████████████████████████████▊        | 36/40 [01:09<00:06,  1.64s/it]"
     ]
    },
    {
     "name": "stdout",
     "output_type": "stream",
     "text": [
      "D:\\segmentiation/mr_train_test/mr_test/ mr_test_2037_image.nii\n",
      "loaded Image Shape (512, 512, 120)\n",
      "Reshaped shape (256, 256, 256, 1)\n",
      "36\n",
      "img shape: (256, 256, 1), img_raw shape: 131072\n"
     ]
    },
    {
     "name": "stderr",
     "output_type": "stream",
     "text": [
      "\n",
      "\n",
      " 92%|███████████████████████████████████████████████████████████████████████████▊      | 37/40 [01:13<00:06,  2.11s/it]"
     ]
    },
    {
     "name": "stdout",
     "output_type": "stream",
     "text": [
      "D:\\segmentiation/mr_train_test/mr_test/ mr_test_2038_image.nii\n",
      "loaded Image Shape (256, 256, 140)\n",
      "Reshaped shape (256, 256, 256, 1)\n",
      "37\n",
      "img shape: (256, 256, 1), img_raw shape: 131072\n"
     ]
    },
    {
     "name": "stderr",
     "output_type": "stream",
     "text": [
      "\n",
      "\n",
      " 95%|█████████████████████████████████████████████████████████████████████████████▉    | 38/40 [01:15<00:04,  2.13s/it]"
     ]
    },
    {
     "name": "stdout",
     "output_type": "stream",
     "text": [
      "D:\\segmentiation/mr_train_test/mr_test/ mr_test_2039_image.nii\n",
      "loaded Image Shape (512, 512, 120)\n",
      "Reshaped shape (256, 256, 256, 1)\n",
      "38\n",
      "img shape: (256, 256, 1), img_raw shape: 131072\n"
     ]
    },
    {
     "name": "stderr",
     "output_type": "stream",
     "text": [
      "\n",
      "\n",
      " 98%|███████████████████████████████████████████████████████████████████████████████▉  | 39/40 [01:18<00:02,  2.50s/it]"
     ]
    },
    {
     "name": "stdout",
     "output_type": "stream",
     "text": [
      "D:\\segmentiation/mr_train_test/mr_test/ mr_test_2040_image.nii\n",
      "loaded Image Shape (512, 512, 128)\n",
      "Reshaped shape (256, 256, 256, 1)\n",
      "39\n",
      "img shape: (256, 256, 1), img_raw shape: 131072\n"
     ]
    },
    {
     "name": "stderr",
     "output_type": "stream",
     "text": [
      "\n",
      "\n",
      "100%|██████████████████████████████████████████████████████████████████████████████████| 40/40 [01:22<00:00,  2.80s/it]\n",
      "\n"
     ]
    }
   ],
   "source": [
    "ct_set = os.path.join(root,'ct_train_test/ct_train/')\n",
    "ct_set_test = os.path.join(root,'ct_train_test/ct_test/')\n",
    "mr_set = os.path.join(root,'mr_train_test/mr_train/')\n",
    "mr_set_test =  os.path.join(root,'mr_train_test/mr_test/')\n",
    "\n",
    "## 여기 바꾸면서 ct, mr 파일 만들기\n",
    "temp_path = mr_set_test\n",
    "\n",
    "name_list = []\n",
    "filenames = os.listdir(temp_path)\n",
    "\n",
    "for i in filenames:\n",
    "    if i[:12] not in name_list:\n",
    "        name_list.append(i[:12])\n",
    "        \n",
    "total_list = []\n",
    "for i in name_list:\n",
    "    temp_name = i\n",
    "    temp_image = i+'_image.nii'\n",
    "    temp_label = i+'_label.nii'\n",
    "    total_list.append({'name' : temp_name,'image':temp_image,'label':temp_label})\n",
    "\n",
    "label_encoder = preprocessing.LabelEncoder()\n",
    "class_num=7+1\n",
    "print(\"starting gen\")\n",
    "\n",
    "\n",
    "## 전처리 Generator\n",
    "preprocess_gen = pre_process_tfrecord_write_itr(temp_path,total_list,new_size=256,test = True)\n",
    "\n",
    "\n",
    "out_file = temp_path.split('/')[-2] + '_tfrecord'\n",
    "tfrecords_filename =os.path.join(root, out_file)\n",
    "\n",
    "## Tf Record 형식으로 저장\n",
    "write_image_annotation_pairs_to_tfrecord_from_gen(preprocess_gen,tfrecords_filename, test=True)"
   ]
  },
  {
   "cell_type": "code",
   "execution_count": 19,
   "metadata": {},
   "outputs": [
    {
     "ename": "TypeError",
     "evalue": "'LabelEncoder' object is not callable",
     "output_type": "error",
     "traceback": [
      "\u001b[1;31m---------------------------------------------------------------------------\u001b[0m",
      "\u001b[1;31mTypeError\u001b[0m                                 Traceback (most recent call last)",
      "\u001b[1;32m<ipython-input-19-61df85467d75>\u001b[0m in \u001b[0;36m<module>\u001b[1;34m()\u001b[0m\n\u001b[1;32m----> 1\u001b[1;33m \u001b[0mlabel_encoder\u001b[0m\u001b[1;33m(\u001b[0m\u001b[1;33m[\u001b[0m\u001b[1;36m1\u001b[0m\u001b[1;33m,\u001b[0m\u001b[1;36m2\u001b[0m\u001b[1;33m,\u001b[0m\u001b[1;36m3\u001b[0m\u001b[1;33m]\u001b[0m\u001b[1;33m)\u001b[0m\u001b[1;33m\u001b[0m\u001b[0m\n\u001b[0m",
      "\u001b[1;31mTypeError\u001b[0m: 'LabelEncoder' object is not callable"
     ]
    }
   ],
   "source": [
    "label_encoder([1,2,3])\n"
   ]
  },
  {
   "cell_type": "markdown",
   "metadata": {},
   "source": [
    "## For Memory Error (Optional)"
   ]
  },
  {
   "cell_type": "code",
   "execution_count": 12,
   "metadata": {},
   "outputs": [
    {
     "name": "stderr",
     "output_type": "stream",
     "text": [
      "\n",
      "\n",
      "  0%|                                                                                           | 0/20 [00:00<?, ?it/s]"
     ]
    },
    {
     "name": "stdout",
     "output_type": "stream",
     "text": [
      "image shape (16777216,)\n",
      "unique value [0 1 2 3 4 5 6 7]\n",
      "Start MASKING==================================================\n"
     ]
    },
    {
     "name": "stderr",
     "output_type": "stream",
     "text": [
      "\n",
      "\n",
      "  5%|████▏                                                                              | 1/20 [00:35<11:17, 35.67s/it]"
     ]
    },
    {
     "name": "stdout",
     "output_type": "stream",
     "text": [
      "image shape (16777216,)\n",
      "unique value [0 1 2 3 4 5 6 7]\n",
      "Start MASKING==================================================\n"
     ]
    },
    {
     "name": "stderr",
     "output_type": "stream",
     "text": [
      "\n",
      "\n",
      " 10%|████████▎                                                                          | 2/20 [01:11<10:42, 35.71s/it]"
     ]
    },
    {
     "name": "stdout",
     "output_type": "stream",
     "text": [
      "image shape (16777216,)\n",
      "unique value [0 1 2 3 4 5 6 7]\n",
      "Start MASKING==================================================\n"
     ]
    },
    {
     "name": "stderr",
     "output_type": "stream",
     "text": [
      "\n",
      "\n",
      " 15%|████████████▍                                                                      | 3/20 [01:51<10:29, 37.01s/it]"
     ]
    },
    {
     "name": "stdout",
     "output_type": "stream",
     "text": [
      "image shape (16777216,)\n",
      "unique value [0 1 2 3 4 5 6 7]\n",
      "Start MASKING==================================================\n"
     ]
    },
    {
     "name": "stderr",
     "output_type": "stream",
     "text": [
      "\n",
      "\n",
      " 20%|████████████████▌                                                                  | 4/20 [02:25<09:38, 36.18s/it]"
     ]
    },
    {
     "name": "stdout",
     "output_type": "stream",
     "text": [
      "image shape (16777216,)\n",
      "unique value [0 1 2 3 4 5 6 7]\n",
      "Start MASKING==================================================\n"
     ]
    },
    {
     "name": "stderr",
     "output_type": "stream",
     "text": [
      "\n",
      "\n",
      " 25%|████████████████████▊                                                              | 5/20 [02:58<08:48, 35.22s/it]"
     ]
    },
    {
     "name": "stdout",
     "output_type": "stream",
     "text": [
      "image shape (16777216,)\n",
      "unique value [0 1 2 3 4 5 6 7]\n",
      "Start MASKING==================================================\n"
     ]
    },
    {
     "name": "stderr",
     "output_type": "stream",
     "text": [
      "\n",
      "\n",
      " 30%|████████████████████████▉                                                          | 6/20 [03:35<08:18, 35.60s/it]"
     ]
    },
    {
     "name": "stdout",
     "output_type": "stream",
     "text": [
      "image shape (16777216,)\n",
      "unique value [0 1 2 3 4 5 6 7]\n",
      "Start MASKING==================================================\n"
     ]
    },
    {
     "name": "stderr",
     "output_type": "stream",
     "text": [
      "\n",
      "\n",
      " 35%|█████████████████████████████                                                      | 7/20 [04:14<07:55, 36.57s/it]"
     ]
    },
    {
     "name": "stdout",
     "output_type": "stream",
     "text": [
      "image shape (16777216,)\n",
      "unique value [0 1 2 3 4 5 6 7]\n",
      "Start MASKING==================================================\n"
     ]
    },
    {
     "name": "stderr",
     "output_type": "stream",
     "text": [
      "\n",
      "\n",
      " 40%|█████████████████████████████████▏                                                 | 8/20 [04:48<07:09, 35.83s/it]"
     ]
    },
    {
     "name": "stdout",
     "output_type": "stream",
     "text": [
      "image shape (16777216,)\n",
      "unique value [0 1 2 3 4 5 6 7]\n",
      "Start MASKING==================================================\n"
     ]
    },
    {
     "name": "stderr",
     "output_type": "stream",
     "text": [
      "\n",
      "\n",
      " 45%|█████████████████████████████████████▎                                             | 9/20 [05:28<06:48, 37.14s/it]"
     ]
    }
   ],
   "source": [
    "## For Low memory Setting\n",
    "## preprocessing -> pickling -> tfrecord\n",
    "\n",
    "outpath = r\"D:\\segmentiation\\scipy_pickle_test0.pkl\"\n",
    "memory_error_list = []\n",
    "cnt = 0\n",
    "\n",
    "label_encoder = preprocessing.LabelEncoder()\n",
    "class_num=7+1\n",
    "## Making padded image\n",
    "\n",
    "todolist = [i for i in total_list]\n",
    "\n",
    "\n",
    "\n",
    "with open(outpath,\"wb\") as f:\n",
    "    pickler = pickle.Pickler(f)\n",
    "    for  record in tqdm(todolist):\n",
    "\n",
    "\n",
    "        try :\n",
    "\n",
    "            file_name = record['name']\n",
    "            img_fname = record['image']\n",
    "            label_fname = record['label']\n",
    "\n",
    "\n",
    "\n",
    "            # nii load // 이 결과가가 원래 결과랑 같은 지 확인 하자\n",
    "            img = nii_loader(ct_set,img_fname)\n",
    "            lab = nii_loader(ct_set, label_fname)\n",
    "\n",
    "\n",
    "            img = pad3d(img.get_data())\n",
    "            img = image_preprocess(img,new_size=256)\n",
    "\n",
    "            lab = pad3d(lab.get_data())\n",
    "            lab = image_preprocess(lab,new_size=256,mask=True)\n",
    "\n",
    "\n",
    "\n",
    "            print(\"Start MASKING\"+\"=====\"*10)\n",
    "\n",
    "            List = {'filename':file_name,'image': img, 'label':  lab}\n",
    "            pickler.dump(List)\n",
    "\n",
    "            del file_name, img_fname, label_fname, img, lab\n",
    "            \n",
    "            print(\"Dumping\",cnt)\n",
    "            cnt += 1\n",
    "\n",
    "        except MemoryError:\n",
    "            print(\"Memory Error\")\n",
    "            todolist = total_list[cnt:]\n",
    "            break\n",
    "\n",
    "outpath = outpath[:-5] + str(int(outpath[-5]) + 1) + str(\".pkl\")"
   ]
  },
  {
   "cell_type": "code",
   "execution_count": 24,
   "metadata": {},
   "outputs": [
    {
     "name": "stderr",
     "output_type": "stream",
     "text": [
      "\n",
      "\n",
      "\n",
      "  0%|                                                                                           | 0/11 [00:00<?, ?it/s]"
     ]
    },
    {
     "name": "stdout",
     "output_type": "stream",
     "text": [
      "image shape (16777216,)\n",
      "unique value [0 1 2 3 4 5 6 7]\n",
      "Start MASKING==================================================\n",
      "Dumping 9\n"
     ]
    },
    {
     "name": "stderr",
     "output_type": "stream",
     "text": [
      "\n",
      "\n",
      "\n",
      "  9%|███████▌                                                                           | 1/11 [00:33<05:36, 33.69s/it]"
     ]
    },
    {
     "name": "stdout",
     "output_type": "stream",
     "text": [
      "image shape (16777216,)\n",
      "unique value [0 1 2 3 4 5 6 7]\n",
      "Start MASKING==================================================\n",
      "Dumping 10\n"
     ]
    },
    {
     "name": "stderr",
     "output_type": "stream",
     "text": [
      "\n",
      "\n",
      "\n",
      " 18%|███████████████                                                                    | 2/11 [01:09<05:09, 34.40s/it]"
     ]
    },
    {
     "name": "stdout",
     "output_type": "stream",
     "text": [
      "image shape (16777216,)\n",
      "unique value [0 1 2 3 4 5 6 7]\n",
      "Start MASKING==================================================\n",
      "Dumping 11\n"
     ]
    },
    {
     "name": "stderr",
     "output_type": "stream",
     "text": [
      "\n",
      "\n",
      "\n",
      " 27%|██████████████████████▋                                                            | 3/11 [01:42<04:32, 34.00s/it]"
     ]
    },
    {
     "name": "stdout",
     "output_type": "stream",
     "text": [
      "image shape (16777216,)\n",
      "unique value [0 1 2 3 4 5 6 7]\n",
      "Start MASKING==================================================\n",
      "Dumping 12\n"
     ]
    },
    {
     "name": "stderr",
     "output_type": "stream",
     "text": [
      "\n",
      "\n",
      "\n",
      " 36%|██████████████████████████████▏                                                    | 4/11 [02:20<04:04, 34.98s/it]"
     ]
    },
    {
     "name": "stdout",
     "output_type": "stream",
     "text": [
      "image shape (16777216,)\n",
      "unique value [0 1 2 3 4 5 6 7]\n",
      "Start MASKING==================================================\n",
      "Dumping 13\n"
     ]
    },
    {
     "name": "stderr",
     "output_type": "stream",
     "text": [
      "\n",
      "\n",
      "\n",
      " 45%|█████████████████████████████████████▋                                             | 5/11 [03:02<03:43, 37.31s/it]"
     ]
    },
    {
     "name": "stdout",
     "output_type": "stream",
     "text": [
      "image shape (16777216,)\n",
      "unique value [0 1 2 3 4 5 6 7]\n",
      "Start MASKING==================================================\n",
      "Dumping 14\n"
     ]
    },
    {
     "name": "stderr",
     "output_type": "stream",
     "text": [
      "\n",
      "\n",
      "\n",
      " 55%|█████████████████████████████████████████████▎                                     | 6/11 [03:42<03:09, 37.98s/it]"
     ]
    },
    {
     "name": "stdout",
     "output_type": "stream",
     "text": [
      "image shape (16777216,)\n",
      "unique value [0 1 2 3 4 5 6 7]\n",
      "Start MASKING==================================================\n",
      "Dumping 15\n"
     ]
    },
    {
     "name": "stderr",
     "output_type": "stream",
     "text": [
      "\n",
      "\n",
      "\n",
      " 64%|████████████████████████████████████████████████████▊                              | 7/11 [04:23<02:36, 39.03s/it]"
     ]
    },
    {
     "name": "stdout",
     "output_type": "stream",
     "text": [
      "image shape (16777216,)\n",
      "unique value [0 1 2 3 4 5 6 7]\n",
      "Start MASKING==================================================\n",
      "Dumping 16\n"
     ]
    },
    {
     "name": "stderr",
     "output_type": "stream",
     "text": [
      "\n",
      "\n",
      "\n",
      " 73%|████████████████████████████████████████████████████████████▎                      | 8/11 [05:03<01:57, 39.21s/it]"
     ]
    },
    {
     "name": "stdout",
     "output_type": "stream",
     "text": [
      "image shape (16777216,)\n",
      "unique value [0 1 2 3 4 5 6 7]\n",
      "Start MASKING==================================================\n",
      "Dumping 17\n"
     ]
    },
    {
     "name": "stderr",
     "output_type": "stream",
     "text": [
      "\n",
      "\n",
      "\n",
      " 82%|███████████████████████████████████████████████████████████████████▉               | 9/11 [05:36<01:14, 37.45s/it]"
     ]
    },
    {
     "name": "stdout",
     "output_type": "stream",
     "text": [
      "Memory Error\n"
     ]
    },
    {
     "ename": "ValueError",
     "evalue": "invalid literal for int() with base 10: '.'",
     "output_type": "error",
     "traceback": [
      "\u001b[1;31m---------------------------------------------------------------------------\u001b[0m",
      "\u001b[1;31mValueError\u001b[0m                                Traceback (most recent call last)",
      "\u001b[1;32m<ipython-input-24-115999b7992e>\u001b[0m in \u001b[0;36m<module>\u001b[1;34m()\u001b[0m\n\u001b[0;32m     40\u001b[0m             \u001b[1;32mbreak\u001b[0m\u001b[1;33m\u001b[0m\u001b[0m\n\u001b[0;32m     41\u001b[0m \u001b[1;33m\u001b[0m\u001b[0m\n\u001b[1;32m---> 42\u001b[1;33m \u001b[0moutpath\u001b[0m \u001b[1;33m=\u001b[0m \u001b[0moutpath\u001b[0m\u001b[1;33m[\u001b[0m\u001b[1;33m:\u001b[0m\u001b[1;33m-\u001b[0m\u001b[1;36m4\u001b[0m\u001b[1;33m]\u001b[0m \u001b[1;33m+\u001b[0m \u001b[0mstr\u001b[0m\u001b[1;33m(\u001b[0m\u001b[0mint\u001b[0m\u001b[1;33m(\u001b[0m\u001b[0moutpath\u001b[0m\u001b[1;33m[\u001b[0m\u001b[1;33m-\u001b[0m\u001b[1;36m4\u001b[0m\u001b[1;33m]\u001b[0m\u001b[1;33m)\u001b[0m \u001b[1;33m+\u001b[0m \u001b[1;36m1\u001b[0m\u001b[1;33m)\u001b[0m \u001b[1;33m+\u001b[0m \u001b[0mstr\u001b[0m\u001b[1;33m(\u001b[0m\u001b[1;34m\".pkl\"\u001b[0m\u001b[1;33m)\u001b[0m\u001b[1;33m\u001b[0m\u001b[0m\n\u001b[0m",
      "\u001b[1;31mValueError\u001b[0m: invalid literal for int() with base 10: '.'"
     ]
    }
   ],
   "source": [
    "with open(outpath,\"wb\") as f:\n",
    "    pickler = pickle.Pickler(f)\n",
    "    for  record in tqdm(todolist):\n",
    "\n",
    "\n",
    "        try :\n",
    "\n",
    "            file_name = record['name']\n",
    "            img_fname = record['image']\n",
    "            label_fname = record['label']\n",
    "\n",
    "\n",
    "\n",
    "            # nii load // 이 결과가가 원래 결과랑 같은 지 확인 하자\n",
    "            img = nii_loader(ct_set,img_fname)\n",
    "            lab = nii_loader(ct_set, label_fname)\n",
    "\n",
    "\n",
    "            img = pad3d(img.get_data())\n",
    "            img = image_preprocess(img,new_size=256)\n",
    "\n",
    "            lab = pad3d(lab.get_data())\n",
    "            lab = image_preprocess(lab,new_size=256,mask=True)\n",
    "\n",
    "\n",
    "\n",
    "            print(\"Start MASKING\"+\"=====\"*10)\n",
    "\n",
    "            List = {'filename':file_name,'image': img, 'label':  lab}\n",
    "            pickler.dump(List)\n",
    "\n",
    "            del file_name, img_fname, label_fname, img, lab\n",
    "            \n",
    "            print(\"Dumping\",cnt)\n",
    "            cnt += 1\n",
    "\n",
    "        except MemoryError:\n",
    "            print(\"Memory Error\")\n",
    "            todolist = total_list[cnt:]\n",
    "            break\n",
    "\n",
    "outpath = outpath[:-4] + str(int(outpath[-5]) + 1) + str(\".pkl\")"
   ]
  },
  {
   "cell_type": "code",
   "execution_count": 67,
   "metadata": {},
   "outputs": [
    {
     "name": "stderr",
     "output_type": "stream",
     "text": [
      "\n",
      "\n",
      "\n",
      "\n",
      "  0%|                                                                                            | 0/2 [00:00<?, ?it/s]"
     ]
    },
    {
     "name": "stdout",
     "output_type": "stream",
     "text": [
      "image shape (16777216,)\n",
      "unique value [0 1 2 3 4 5 6 7]\n",
      "Start MASKING==================================================\n",
      "Dumping 18\n"
     ]
    },
    {
     "name": "stderr",
     "output_type": "stream",
     "text": [
      "\n",
      "\n",
      "\n",
      "\n",
      " 50%|██████████████████████████████████████████                                          | 1/2 [00:33<00:33, 33.28s/it]"
     ]
    },
    {
     "name": "stdout",
     "output_type": "stream",
     "text": [
      "image shape (16777216,)\n",
      "unique value [0 1 2 3 4 5 6 7]\n",
      "Start MASKING==================================================\n",
      "Dumping 19\n"
     ]
    },
    {
     "name": "stderr",
     "output_type": "stream",
     "text": [
      "\n",
      "\n",
      "\n",
      "\n",
      "100%|████████████████████████████████████████████████████████████████████████████████████| 2/2 [01:14<00:00, 35.60s/it]\n",
      "\n",
      "\n",
      "\n"
     ]
    }
   ],
   "source": [
    "with open(outpath,\"wb\") as f:\n",
    "    pickler = pickle.Pickler(f)\n",
    "    for  record in tqdm(todolist):\n",
    "\n",
    "        try :\n",
    "\n",
    "            file_name = record['name']\n",
    "            img_fname = record['image']\n",
    "            label_fname = record['label']\n",
    "\n",
    "\n",
    "\n",
    "            # nii load // 이 결과가가 원래 결과랑 같은 지 확인 하자\n",
    "            img = nii_loader(ct_set,img_fname)\n",
    "            lab = nii_loader(ct_set, label_fname)\n",
    "\n",
    "\n",
    "            img = pad3d(img.get_data())\n",
    "            img = image_preprocess(img,new_size=256)\n",
    "\n",
    "            lab = pad3d(lab.get_data())\n",
    "            lab = image_preprocess(lab,new_size=256,mask=True)\n",
    "\n",
    "\n",
    "\n",
    "            print(\"Start MASKING\"+\"=====\"*10)\n",
    "\n",
    "            List = {'filename':file_name,'image': img, 'label':  lab}\n",
    "            pickler.dump(List)\n",
    "\n",
    "            del file_name, img_fname, label_fname, img, lab\n",
    "            \n",
    "            print(\"Dumping\",cnt)\n",
    "            cnt += 1\n",
    "\n",
    "        except MemoryError:\n",
    "            print(\"Memory Error\")\n",
    "            todolist = total_list[cnt:]\n",
    "            break\n",
    "\n",
    "outpath = outpath[:-4] + str(int(outpath[-4]) + 1) + str(\".pkl\")"
   ]
  },
  {
   "cell_type": "code",
   "execution_count": 78,
   "metadata": {},
   "outputs": [
    {
     "name": "stdout",
     "output_type": "stream",
     "text": [
      "0\n",
      "dict_keys(['filename', 'image', 'label'])\n",
      "(256, 256, 256, 1)\n",
      "img shape: (256, 256, 256, 1), img_raw shape: 134217728\n",
      "annotation_ shape: (256, 256, 256, 8), annotation_raw shape: 536870912\n",
      "1\n",
      "dict_keys(['filename', 'image', 'label'])\n",
      "(256, 256, 256, 1)\n",
      "img shape: (256, 256, 256, 1), img_raw shape: 134217728\n",
      "annotation_ shape: (256, 256, 256, 8), annotation_raw shape: 536870912\n",
      "2\n",
      "dict_keys(['filename', 'image', 'label'])\n",
      "(256, 256, 256, 1)\n",
      "img shape: (256, 256, 256, 1), img_raw shape: 134217728\n",
      "annotation_ shape: (256, 256, 256, 8), annotation_raw shape: 536870912\n",
      "3\n",
      "dict_keys(['filename', 'image', 'label'])\n",
      "(256, 256, 256, 1)\n",
      "img shape: (256, 256, 256, 1), img_raw shape: 134217728\n",
      "annotation_ shape: (256, 256, 256, 8), annotation_raw shape: 536870912\n",
      "4\n",
      "dict_keys(['filename', 'image', 'label'])\n",
      "(256, 256, 256, 1)\n",
      "img shape: (256, 256, 256, 1), img_raw shape: 134217728\n",
      "annotation_ shape: (256, 256, 256, 8), annotation_raw shape: 536870912\n",
      "5\n",
      "dict_keys(['filename', 'image', 'label'])\n",
      "(256, 256, 256, 1)\n",
      "img shape: (256, 256, 256, 1), img_raw shape: 134217728\n",
      "annotation_ shape: (256, 256, 256, 8), annotation_raw shape: 536870912\n",
      "6\n",
      "dict_keys(['filename', 'image', 'label'])\n",
      "(256, 256, 256, 1)\n",
      "img shape: (256, 256, 256, 1), img_raw shape: 134217728\n",
      "annotation_ shape: (256, 256, 256, 8), annotation_raw shape: 536870912\n",
      "7\n",
      "dict_keys(['filename', 'image', 'label'])\n",
      "(256, 256, 256, 1)\n",
      "img shape: (256, 256, 256, 1), img_raw shape: 134217728\n",
      "annotation_ shape: (256, 256, 256, 8), annotation_raw shape: 536870912\n",
      "8\n",
      "dict_keys(['filename', 'image', 'label'])\n",
      "(256, 256, 256, 1)\n",
      "img shape: (256, 256, 256, 1), img_raw shape: 134217728\n",
      "annotation_ shape: (256, 256, 256, 8), annotation_raw shape: 536870912\n",
      "pickle generator created\n",
      "0\n",
      "dict_keys(['filename', 'image', 'label'])\n",
      "(256, 256, 256, 1)\n",
      "img shape: (256, 256, 256, 1), img_raw shape: 134217728\n",
      "annotation_ shape: (256, 256, 256, 8), annotation_raw shape: 536870912\n",
      "1\n",
      "dict_keys(['filename', 'image', 'label'])\n",
      "(256, 256, 256, 1)\n",
      "img shape: (256, 256, 256, 1), img_raw shape: 134217728\n",
      "annotation_ shape: (256, 256, 256, 8), annotation_raw shape: 536870912\n",
      "2\n",
      "dict_keys(['filename', 'image', 'label'])\n",
      "(256, 256, 256, 1)\n",
      "img shape: (256, 256, 256, 1), img_raw shape: 134217728\n",
      "annotation_ shape: (256, 256, 256, 8), annotation_raw shape: 536870912\n",
      "3\n",
      "dict_keys(['filename', 'image', 'label'])\n",
      "(256, 256, 256, 1)\n",
      "img shape: (256, 256, 256, 1), img_raw shape: 134217728\n",
      "annotation_ shape: (256, 256, 256, 8), annotation_raw shape: 536870912\n",
      "4\n",
      "dict_keys(['filename', 'image', 'label'])\n",
      "(256, 256, 256, 1)\n",
      "img shape: (256, 256, 256, 1), img_raw shape: 134217728\n",
      "annotation_ shape: (256, 256, 256, 8), annotation_raw shape: 536870912\n",
      "5\n",
      "dict_keys(['filename', 'image', 'label'])\n",
      "(256, 256, 256, 1)\n",
      "img shape: (256, 256, 256, 1), img_raw shape: 134217728\n",
      "annotation_ shape: (256, 256, 256, 8), annotation_raw shape: 536870912\n",
      "6\n",
      "dict_keys(['filename', 'image', 'label'])\n",
      "(256, 256, 256, 1)\n",
      "img shape: (256, 256, 256, 1), img_raw shape: 134217728\n",
      "annotation_ shape: (256, 256, 256, 8), annotation_raw shape: 536870912\n",
      "7\n",
      "dict_keys(['filename', 'image', 'label'])\n",
      "(256, 256, 256, 1)\n",
      "img shape: (256, 256, 256, 1), img_raw shape: 134217728\n",
      "annotation_ shape: (256, 256, 256, 8), annotation_raw shape: 536870912\n",
      "8\n",
      "dict_keys(['filename', 'image', 'label'])\n",
      "(256, 256, 256, 1)\n",
      "img shape: (256, 256, 256, 1), img_raw shape: 134217728\n",
      "annotation_ shape: (256, 256, 256, 8), annotation_raw shape: 536870912\n",
      "pickle generator created\n",
      "0\n",
      "dict_keys(['filename', 'image', 'label'])\n",
      "(256, 256, 256, 1)\n",
      "img shape: (256, 256, 256, 1), img_raw shape: 134217728\n",
      "annotation_ shape: (256, 256, 256, 8), annotation_raw shape: 536870912\n",
      "1\n",
      "dict_keys(['filename', 'image', 'label'])\n",
      "(256, 256, 256, 1)\n",
      "img shape: (256, 256, 256, 1), img_raw shape: 134217728\n",
      "annotation_ shape: (256, 256, 256, 8), annotation_raw shape: 536870912\n",
      "pickle generator created\n"
     ]
    }
   ],
   "source": [
    "pkl_itr1 = pickle_iter(r'D:\\segmentiation\\scipy_pickle_test0.pkl')\n",
    "pkl_itr2 = pickle_iter(r'D:\\segmentiation\\scipy_pickle_test1.pkl')\n",
    "pkl_itr3 = pickle_iter(r'D:\\segmentiation\\scipy_pickle_test2.pkl')\n",
    "\n",
    "pkl_itr_list = [pkl_itr1, pkl_itr2, pkl_itr3]\n",
    "\n",
    "tfrecords_filename = r\"D:\\segmentiation\\scipy_tfrecord_compression.tfrecord\"\n",
    "write_image_annotation_pairs_to_tfrecord_from_listitr(pkl_itr_list, tfrecords_filename)\n"
   ]
  }
 ],
 "metadata": {
  "kernelspec": {
   "display_name": "Python 3",
   "language": "python",
   "name": "python3"
  },
  "language_info": {
   "codemirror_mode": {
    "name": "ipython",
    "version": 3
   },
   "file_extension": ".py",
   "mimetype": "text/x-python",
   "name": "python",
   "nbconvert_exporter": "python",
   "pygments_lexer": "ipython3",
   "version": "3.6.5"
  }
 },
 "nbformat": 4,
 "nbformat_minor": 2
}
