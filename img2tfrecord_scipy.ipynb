{
 "cells": [
  {
   "cell_type": "code",
   "execution_count": 6,
   "metadata": {},
   "outputs": [],
   "source": [
    "### img -> tf record withot pickling\n",
    "\n",
    "import nibabel as nib\n",
    "import numpy as np\n",
    "import matplotlib.pyplot as plt\n",
    "import os\n",
    "\n",
    "from keras.utils import to_categorical\n",
    "from sklearn import preprocessing\n",
    "\n",
    "from PIL import Image\n",
    "import itertools\n",
    "from tqdm import tqdm\n",
    "\n",
    "import numpy as np\n",
    "import skimage.io as io\n",
    "import tensorflow as tf\n",
    "\n",
    "from tqdm import tqdm\n",
    "from dltk.io.preprocessing import *\n",
    "import scipy.ndimage\n",
    "\n",
    "\n",
    "import pickle\n",
    "\n",
    "root = 'D:\\data\\segmentiation'\n",
    "ct_set = os.path.join(root,'ct_train_test/ct_train/')\n",
    "mr_set = os.path.join(root,'mr_train_test/mr_train/')\n",
    "filenames = os.listdir(ct_set)\n",
    "\n"
   ]
  },
  {
   "cell_type": "code",
   "execution_count": 7,
   "metadata": {},
   "outputs": [],
   "source": [
    "def pickle_iter(path):\n",
    "    f = open(path, 'rb')\n",
    "    unpickler = pickle.Unpickler(f)\n",
    "    try:\n",
    "        for i in range(9999999999):\n",
    "            yield unpickler.load()\n",
    "    except:\n",
    "        f.close()\n",
    "        print('pickle generator created')\n",
    "\n",
    "        \n",
    "def pad3d(array):\n",
    "    height = array.shape[0]\n",
    "    depth = array.shape[2]\n",
    "    \n",
    "    if (height - depth) % 2 :\n",
    "        pad_front = int((height + 1 - depth) / 2)\n",
    "        pad_back = int((height - 1 - depth) / 2)\n",
    "    else:\n",
    "        pad_front = pad_back = int((height - depth) / 2)\n",
    "    \n",
    "    npad = ((0,0),(0,0),(pad_front,pad_back))\n",
    "    array_padding = np.pad(array, npad, 'constant', constant_values=(0))\n",
    "    array_padding[array_padding<0] = 0\n",
    "    \n",
    "    return array_padding\n",
    "\n",
    "def pad3d(array):\n",
    "    x0 = array.shape[0]\n",
    "    x2 = array.shape[2]    \n",
    "    if x0 > x2:\n",
    "        height = x0\n",
    "        depth = x2\n",
    "    elif x2 > x0:\n",
    "        height = x2\n",
    "        depth = x0\n",
    "    \n",
    "    if (height - depth) % 2 :\n",
    "        pad_front = int((height + 1 - depth) / 2)\n",
    "        pad_back = int((height - 1 - depth) / 2)\n",
    "    else:\n",
    "        pad_front = pad_back = int((height - depth) / 2)\n",
    "    \n",
    "    if x0 > x2:    \n",
    "        npad = ((0,0),(0,0),(pad_front,pad_back))\n",
    "    elif x2 > x0:\n",
    "        npad = ((pad_front,pad_back),(0,0),(0,0))\n",
    "        \n",
    "    array_padding = np.pad(array, npad, 'constant', constant_values=(0))\n",
    "    array_padding[array_padding<0] = 0\n",
    "    \n",
    "    return array_padding\n",
    "\n",
    "def image_preprocess(image, new_size, mask=False):\n",
    "    assert np.sum(image.shape==image.shape[0])!=3    \n",
    "    \n",
    "    ratio = new_size / image.shape[0]\n",
    "    \n",
    "    image = scipy.ndimage.zoom(image, zoom=ratio, order=0)\n",
    "\n",
    "    if mask:\n",
    "        channel = 7 + 1 #background\n",
    "        image = image.reshape(-1)\n",
    "        \n",
    "        \n",
    "        image = label_encoder.fit_transform(image)\n",
    "        \n",
    "        \n",
    "        \n",
    "        \n",
    "        print(\"annotation shape\",image.shape)\n",
    "        print(\"unique value\", np.unique(image))\n",
    "        \n",
    "        \n",
    "        image = to_categorical(image, class_num)\n",
    "        print(\"processed mask shape\",image.shape)\n",
    "\n",
    "        \n",
    "    else:\n",
    "        channel = 1\n",
    "    # reshape to raw shape\n",
    "    image = image.reshape((new_size,)*3 + (channel,))\n",
    "    print(\"Reshaped shape\",image.shape)\n",
    "    \n",
    "    return image\n",
    "\n",
    "def nii_loader(path,file_name):\n",
    "    file_path =  os.path.join(path,file_name)\n",
    "    fn = os.listdir(file_path)\n",
    "    image = (nib.load(file_path + '/' + fn[0]))\n",
    "    return image\n",
    "\n",
    "def axis_transform(image):\n",
    "    idx = 0\n",
    "    if np.sum(image[2,:,int(image.shape[-1]/2)]) == 0:\n",
    "        image = image.T\n",
    "        image = np.flip(image,axis=0)\n",
    "        idx += 1\n",
    "    return image, idx\n",
    "\n",
    "def _bytes_feature(value):\n",
    "    return tf.train.Feature(bytes_list=tf.train.BytesList(value=[value]))\n",
    "\n",
    "\n",
    "def _int64_feature(value):\n",
    "    return tf.train.Feature(int64_list=tf.train.Int64List(value=[value]))\n",
    "\n",
    "def write_image_annotation_pairs_to_tfrecord_from_gen(generator, tfrecords_filename, test=False):\n",
    "    \"\"\"Writes given image/annotation pairs to the tfrecords file.\n",
    "    The function reads each image/anno'tation pair given filenames\n",
    "    of image and respective annotation and writes it to the tfrecord\n",
    "    file.\n",
    "    Parameters\n",
    "    ----------\n",
    "    filename_pairs : array of tuples (img_filepath, annotation_filepath)\n",
    "        Array of tuples of image/annotation filenames\n",
    "    tfrecords_filename : string\n",
    "        Tfrecords filename to write the image/annotation pairs\n",
    "    \"\"\"\n",
    "    options = tf.python_io.TFRecordOptions(tf.python_io.TFRecordCompressionType.GZIP)\n",
    "    writer = tf.python_io.TFRecordWriter(tfrecords_filename,options=options)\n",
    "    \n",
    "    print(\"Start writing tfrecord\")\n",
    "\n",
    "\n",
    "    #for img_path, annotation_path in filename_pairs:\n",
    "\n",
    "    for i, record in enumerate(generator):\n",
    "        print(\"Processing image\",i)\n",
    "\n",
    "        #img = np.array(Image.open(img_path))\n",
    "\n",
    "        #annotation = np.array(Image.open(annotation_path))\n",
    "\n",
    "        # Unomment this one when working with surgical data\n",
    "        # annotation = annotation[:, :, 0]\n",
    "\n",
    "        # The reason to store image sizes was demonstrated\n",
    "        # in the previous example -- we have to know sizes\n",
    "        # of images to later read raw serialized string,\n",
    "        \n",
    "        # convert to 1d array and convert to respective\n",
    "        # shape that image used to have.\n",
    "        #height = img.shape[0] \n",
    "        \n",
    "\n",
    "        if test :\n",
    "            img = record\n",
    "        else :\n",
    "            img = record[0]\n",
    "            \n",
    "        height = img.shape[0] \n",
    "\n",
    "        #width = img.shape[1]\n",
    "        width = img.shape[1] \n",
    "\n",
    "        #add depth \n",
    "        depth = img.shape[2]\n",
    "        print(\"Img shape when loaded\",img.shape)\n",
    "\n",
    "        #print(depth)\n",
    "        #print(img[0].shape) #288,288,140 \n",
    "\n",
    "       #img_raw = img.tostring()\n",
    "        img_raw=img.tostring()\n",
    "\n",
    "        ## 여기서 에러\n",
    "        print(\"img shape: {}, img_raw shape: {}\".format(img.shape,len(img_raw)))        \n",
    "\n",
    "        if test == False :\n",
    "            annotation = record[1]\n",
    "            annotation_raw = annotation.tostring()\n",
    "            print(\"annotation_ shape: {}, annotation_raw shape: {}\".format(annotation.shape,len(annotation_raw)))\n",
    "\n",
    "            example = tf.train.Example(features=tf.train.Features(feature={\n",
    "                'height': _int64_feature(height),\n",
    "                'width': _int64_feature(width),\n",
    "                'depth': _int64_feature(depth), \n",
    "                'image_raw': _bytes_feature(img_raw),\n",
    "                'mask_raw': _bytes_feature(annotation_raw)}))\n",
    "        else:\n",
    "            example = tf.train.Example(features=tf.train.Features(feature={\n",
    "                'height': _int64_feature(height),\n",
    "                'width': _int64_feature(width),\n",
    "                'depth': _int64_feature(depth), \n",
    "                'image_raw': _bytes_feature(img_raw)\n",
    "                }))\n",
    "            \n",
    "\n",
    "        writer.write(example.SerializeToString())\n",
    "\n",
    "    writer.close()\n",
    "    \n",
    "def write_image_annotation_pairs_to_tfrecord_from_listitr(pickle_itr_list, tfrecords_filename):\n",
    "    \"\"\"Writes given image/annotation pairs to the tfrecords file.\n",
    "    The function reads each image/anno'tation pair given filenames\n",
    "    of image and respective annotation and writes it to the tfrecord\n",
    "    file.\n",
    "    Parameters\n",
    "    ----------\n",
    "    filename_pairs : array of tuples (img_filepath, annotation_filepath)\n",
    "        Array of tuples of image/annotation filenames\n",
    "    tfrecords_filename : string\n",
    "        Tfrecords filename to write the image/annotation pairs\n",
    "    \"\"\"\n",
    "    \n",
    "    print(\"Start writing tfrecord\")\n",
    "    options = tf.python_io.TFRecordOptions(tf.python_io.TFRecordCompressionType.GZIP)\n",
    "    writer = tf.python_io.TFRecordWriter(tfrecords_filename,options=options)\n",
    "\n",
    "    #for img_path, annotation_path in filename_pairs:\n",
    "    \n",
    "    \n",
    "    for pickle_itr in pickle_itr_list:\n",
    "\n",
    "        for i,record in enumerate(pickle_itr):\n",
    "            print(\"Processing image\",i)\n",
    "            print(record.keys())\n",
    "\n",
    "            img = record['image']\n",
    "            annotation = record['label']\n",
    "\n",
    "            #img = np.array(Image.open(img_path))\n",
    "\n",
    "            #annotation = np.array(Image.open(annotation_path))\n",
    "\n",
    "            # Unomment this one when working with surgical data\n",
    "            # annotation = annotation[:, :, 0]\n",
    "\n",
    "            # The reason to store image sizes was demonstrated\n",
    "            # in the previous example -- we have to know sizes\n",
    "            # of images to later read raw serialized string,\n",
    "            # convert to 1d array and convert to respective\n",
    "            # shape that image used to have.\n",
    "            #height = img.shape[0] \n",
    "\n",
    "            print(\"Img shape when loaded\",img.shape)\n",
    "            ##### img = img.reshape()\n",
    "            \n",
    "            \n",
    "            height = img.shape[0] \n",
    "\n",
    "            #width = img.shape[1]\n",
    "            width = img.shape[1] \n",
    "\n",
    "\n",
    "            #add depth \n",
    "            depth = img.shape[2]\n",
    "            #print(depth)\n",
    "            #print(img[0].shape) #288,288,140 \n",
    "\n",
    "\n",
    "            #img_raw = img.tostring()\n",
    "            img_raw=img.tostring()\n",
    "\n",
    "            ## 여기서 에러\n",
    "            print(\"img shape: {}, img_raw shape: {}\".format(img.shape,len(img_raw)))\n",
    "\n",
    "            ## 여기서 에러\n",
    "            annotation_raw = annotation.tostring()\n",
    "            print(\"annotation_ shape: {}, annotation_raw shape: {}\".format(annotation.shape,len(annotation_raw)))\n",
    "\n",
    "            #print(annotation[1].shape)\n",
    "            #print(annotation[2].shape)\n",
    "\n",
    "\n",
    "            #print(annotation_raw)\n",
    "            #annotation_raw = annotation.tostring()\n",
    "\n",
    "            example = tf.train.Example(features=tf.train.Features(feature={\n",
    "                'height': _int64_feature(height),\n",
    "                'width': _int64_feature(width),\n",
    "                'depth': _int64_feature(depth), \n",
    "                'image_raw': _bytes_feature(img_raw),\n",
    "                'mask_raw': _bytes_feature(annotation_raw)}))\n",
    "\n",
    "            writer.write(example.SerializeToString())\n",
    "\n",
    "    writer.close()\n",
    "    \n",
    "def read_image_annotation_pairs_from_tfrecord_itr_from_compressed(tfrecords_filename):\n",
    "    \"\"\"Return image/annotation pairs from the tfrecords file.\n",
    "    The function reads the tfrecords file and returns image\n",
    "    and respective annotation matrices pairs.\n",
    "    Parameters\n",
    "    ----------\n",
    "    tfrecords_filename : string\n",
    "        filename of .tfrecords file to read from\n",
    "    \n",
    "    Returns\n",
    "    -------\n",
    "    image_annotation_pairs : array of tuples (img, annotation)\n",
    "        The image and annotation that were read from the file\n",
    "    \"\"\"\n",
    "    image_annotation_pairs = []\n",
    "    \n",
    "    ## option...\n",
    "    options = tf.python_io.TFRecordOptions(tf.python_io.TFRecordCompressionType.GZIP)\n",
    "\n",
    "    record_iterator = tf.python_io.tf_record_iterator(path=tfrecords_filename,options=options)\n",
    "\n",
    "    for string_record in record_iterator:\n",
    "\n",
    "        example = tf.train.Example()\n",
    "        example.ParseFromString(string_record)\n",
    "\n",
    "        height = int(example.features.feature['height']\n",
    "                                     .int64_list\n",
    "                                     .value[0])\n",
    "\n",
    "        width = int(example.features.feature['width']\n",
    "                                    .int64_list\n",
    "                                    .value[0])\n",
    "        \n",
    "        depth = int(example.features.feature['depth']\n",
    "                                    .int64_list\n",
    "                                    .value[0])\n",
    "\n",
    "        img_string = (example.features.feature['image_raw']\n",
    "                                      .bytes_list\n",
    "                                      .value[0])\n",
    "        \n",
    "\n",
    "        annotation_string = (example.features.feature['mask_raw']\n",
    "                                    .bytes_list\n",
    "                                    .value[0])\n",
    "        \n",
    "        # img_1d = np.fromstring(img_string, dtype=np.uint8)\n",
    "        img_1d = np.fromstring(img_string)\n",
    "                               \n",
    "        print(\"img_string shape\",img_1d.shape)\n",
    "        print(\"image :  {}, annotation length : {}\".format(len(img_string),len(annotation_string)))\n",
    "\n",
    "        #        img = img_1d.reshape((height, width, depth, -1))\n",
    "\n",
    "        img = img_1d.reshape((height, width, depth,1))\n",
    "\n",
    "        annotation_1d = np.fromstring(annotation_string, dtype=np.float32)\n",
    "#        annotation_1d = np.fromstring(annotation_string)\n",
    "\n",
    "        # Annotations don't have depth (3rd dimension)\n",
    "        # TODO: check if it works for other datasets\n",
    "        #  annotation = annotation_1d.reshape((height, width, depth,-1))\n",
    "\n",
    "        annotation = annotation_1d.reshape((height, width, depth, 8))\n",
    "        \n",
    "        yield img, annotation"
   ]
  },
  {
   "cell_type": "code",
   "execution_count": 8,
   "metadata": {},
   "outputs": [],
   "source": [
    "def pre_process_tfrecord_write_itr(path,itr,new_size, test=False):\n",
    "    for record in tqdm(itr):\n",
    "        file_name = record['name']\n",
    "        img_fname = record['image']\n",
    "        \n",
    "        print(path,img_fname)\n",
    "        \n",
    "        ## nii 데이터 불러오기\n",
    "        img = nii_loader(path,img_fname)\n",
    "\n",
    "        print(\"loaded Image Shape\",img.get_data().shape)\n",
    "        \n",
    "        ## 이미지 padding + resizing\n",
    "        img = pad3d(img.get_data())\n",
    "        img = image_preprocess(img,new_size=new_size)\n",
    "        \n",
    "        ## 레이블 padding + resizing\n",
    "        if test :\n",
    "            print(\"Image shape before yielding\",img.shape)\n",
    "            yield img\n",
    "\n",
    "        else:\n",
    "            label_fname = record['label']\n",
    "            lab = nii_loader(path, label_fname)\n",
    "            lab = pad3d(lab.get_data())\n",
    "            lab = image_preprocess(lab,new_size=new_size,mask=True)\n",
    "\n",
    "            print(\"Mask shape when preproceesing ends\",lab.shape)\n",
    "            \n",
    "            yield img, lab\n",
    "        \n",
    "\n",
    "        \n"
   ]
  },
  {
   "cell_type": "markdown",
   "metadata": {},
   "source": [
    "## CT train Data TF record Encoding"
   ]
  },
  {
   "cell_type": "code",
   "execution_count": 9,
   "metadata": {
    "scrolled": true
   },
   "outputs": [
    {
     "name": "stdout",
     "output_type": "stream",
     "text": [
      "starting gen\n",
      "Start writing tfrecord\n"
     ]
    },
    {
     "name": "stderr",
     "output_type": "stream",
     "text": [
      "\r",
      "  0%|                                                                                           | 0/20 [00:00<?, ?it/s]"
     ]
    },
    {
     "name": "stdout",
     "output_type": "stream",
     "text": [
      "D:\\data\\segmentiation\\ct_train_test/ct_train/ ct_train_1001_image.nii\n",
      "loaded Image Shape (512, 512, 363)\n",
      "Reshaped shape (256, 256, 256, 1)\n",
      "annotation shape (16777216,)\n",
      "unique value [0 1 2 3 4 5 6 7]\n",
      "processed mask shape (16777216, 8)\n",
      "Reshaped shape (256, 256, 256, 8)\n",
      "Mask shape when preproceesing ends (256, 256, 256, 8)\n",
      "Processing image 0\n",
      "Img shape when loaded (256, 256, 256, 1)\n",
      "img shape: (256, 256, 256, 1), img_raw shape: 134217728\n",
      "annotation_ shape: (256, 256, 256, 8), annotation_raw shape: 536870912\n"
     ]
    },
    {
     "name": "stderr",
     "output_type": "stream",
     "text": [
      "\r",
      "  5%|████▏                                                                              | 1/20 [00:27<08:38, 27.28s/it]"
     ]
    },
    {
     "name": "stdout",
     "output_type": "stream",
     "text": [
      "D:\\data\\segmentiation\\ct_train_test/ct_train/ ct_train_1002_image.nii\n",
      "loaded Image Shape (512, 512, 239)\n",
      "Reshaped shape (256, 256, 256, 1)\n",
      "annotation shape (16777216,)\n",
      "unique value [0 1 2 3 4 5 6 7]\n",
      "processed mask shape (16777216, 8)\n",
      "Reshaped shape (256, 256, 256, 8)\n",
      "Mask shape when preproceesing ends (256, 256, 256, 8)\n",
      "Processing image 1\n",
      "Img shape when loaded (256, 256, 256, 1)\n",
      "img shape: (256, 256, 256, 1), img_raw shape: 134217728\n",
      "annotation_ shape: (256, 256, 256, 8), annotation_raw shape: 536870912\n"
     ]
    },
    {
     "name": "stderr",
     "output_type": "stream",
     "text": [
      "\r",
      " 10%|████████▎                                                                          | 2/20 [00:48<07:40, 25.58s/it]"
     ]
    },
    {
     "name": "stdout",
     "output_type": "stream",
     "text": [
      "D:\\data\\segmentiation\\ct_train_test/ct_train/ ct_train_1003_image.nii\n",
      "loaded Image Shape (512, 512, 298)\n",
      "Reshaped shape (256, 256, 256, 1)\n",
      "annotation shape (16777216,)\n",
      "unique value [0 1 2 3 4 5 6 7]\n",
      "processed mask shape (16777216, 8)\n",
      "Reshaped shape (256, 256, 256, 8)\n",
      "Mask shape when preproceesing ends (256, 256, 256, 8)\n",
      "Processing image 2\n",
      "Img shape when loaded (256, 256, 256, 1)\n",
      "img shape: (256, 256, 256, 1), img_raw shape: 134217728\n",
      "annotation_ shape: (256, 256, 256, 8), annotation_raw shape: 536870912\n"
     ]
    },
    {
     "name": "stderr",
     "output_type": "stream",
     "text": [
      "\r",
      " 15%|████████████▍                                                                      | 3/20 [01:13<07:10, 25.34s/it]"
     ]
    },
    {
     "name": "stdout",
     "output_type": "stream",
     "text": [
      "D:\\data\\segmentiation\\ct_train_test/ct_train/ ct_train_1004_image.nii\n",
      "loaded Image Shape (512, 512, 200)\n",
      "Reshaped shape (256, 256, 256, 1)\n",
      "annotation shape (16777216,)\n",
      "unique value [0 1 2 3 4 5 6 7]\n",
      "processed mask shape (16777216, 8)\n",
      "Reshaped shape (256, 256, 256, 8)\n",
      "Mask shape when preproceesing ends (256, 256, 256, 8)\n",
      "Processing image 3\n",
      "Img shape when loaded (256, 256, 256, 1)\n",
      "img shape: (256, 256, 256, 1), img_raw shape: 134217728\n",
      "annotation_ shape: (256, 256, 256, 8), annotation_raw shape: 536870912\n"
     ]
    },
    {
     "name": "stderr",
     "output_type": "stream",
     "text": [
      "\r",
      " 20%|████████████████▌                                                                  | 4/20 [01:33<06:21, 23.83s/it]"
     ]
    },
    {
     "name": "stdout",
     "output_type": "stream",
     "text": [
      "D:\\data\\segmentiation\\ct_train_test/ct_train/ ct_train_1005_image.nii\n",
      "loaded Image Shape (512, 512, 177)\n",
      "Reshaped shape (256, 256, 256, 1)\n",
      "annotation shape (16777216,)\n",
      "unique value [0 1 2 3 4 5 6 7]\n",
      "processed mask shape (16777216, 8)\n",
      "Reshaped shape (256, 256, 256, 8)\n",
      "Mask shape when preproceesing ends (256, 256, 256, 8)\n",
      "Processing image 4\n",
      "Img shape when loaded (256, 256, 256, 1)\n",
      "img shape: (256, 256, 256, 1), img_raw shape: 134217728\n",
      "annotation_ shape: (256, 256, 256, 8), annotation_raw shape: 536870912\n"
     ]
    },
    {
     "name": "stderr",
     "output_type": "stream",
     "text": [
      "\r",
      " 25%|████████████████████▊                                                              | 5/20 [01:53<05:37, 22.51s/it]"
     ]
    },
    {
     "name": "stdout",
     "output_type": "stream",
     "text": [
      "D:\\data\\segmentiation\\ct_train_test/ct_train/ ct_train_1006_image.nii\n",
      "loaded Image Shape (512, 512, 248)\n",
      "Reshaped shape (256, 256, 256, 1)\n",
      "annotation shape (16777216,)\n",
      "unique value [0 1 2 3 4 5 6 7]\n",
      "processed mask shape (16777216, 8)\n",
      "Reshaped shape (256, 256, 256, 8)\n",
      "Mask shape when preproceesing ends (256, 256, 256, 8)\n",
      "Processing image 5\n",
      "Img shape when loaded (256, 256, 256, 1)\n",
      "img shape: (256, 256, 256, 1), img_raw shape: 134217728\n",
      "annotation_ shape: (256, 256, 256, 8), annotation_raw shape: 536870912\n"
     ]
    },
    {
     "name": "stderr",
     "output_type": "stream",
     "text": [
      "\r",
      " 30%|████████████████████████▉                                                          | 6/20 [02:15<05:12, 22.36s/it]"
     ]
    },
    {
     "name": "stdout",
     "output_type": "stream",
     "text": [
      "D:\\data\\segmentiation\\ct_train_test/ct_train/ ct_train_1007_image.nii\n",
      "loaded Image Shape (512, 512, 243)\n",
      "Reshaped shape (256, 256, 256, 1)\n",
      "annotation shape (16777216,)\n",
      "unique value [0 1 2 3 4 5 6 7]\n",
      "processed mask shape (16777216, 8)\n",
      "Reshaped shape (256, 256, 256, 8)\n",
      "Mask shape when preproceesing ends (256, 256, 256, 8)\n",
      "Processing image 6\n",
      "Img shape when loaded (256, 256, 256, 1)\n",
      "img shape: (256, 256, 256, 1), img_raw shape: 134217728\n",
      "annotation_ shape: (256, 256, 256, 8), annotation_raw shape: 536870912\n"
     ]
    },
    {
     "name": "stderr",
     "output_type": "stream",
     "text": [
      "\r",
      " 35%|█████████████████████████████                                                      | 7/20 [02:37<04:49, 22.27s/it]"
     ]
    },
    {
     "name": "stdout",
     "output_type": "stream",
     "text": [
      "D:\\data\\segmentiation\\ct_train_test/ct_train/ ct_train_1008_image.nii\n",
      "loaded Image Shape (512, 512, 222)\n",
      "Reshaped shape (256, 256, 256, 1)\n",
      "annotation shape (16777216,)\n",
      "unique value [0 1 2 3 4 5 6 7]\n",
      "processed mask shape (16777216, 8)\n",
      "Reshaped shape (256, 256, 256, 8)\n",
      "Mask shape when preproceesing ends (256, 256, 256, 8)\n",
      "Processing image 7\n",
      "Img shape when loaded (256, 256, 256, 1)\n",
      "img shape: (256, 256, 256, 1), img_raw shape: 134217728\n",
      "annotation_ shape: (256, 256, 256, 8), annotation_raw shape: 536870912\n"
     ]
    },
    {
     "name": "stderr",
     "output_type": "stream",
     "text": [
      "\r",
      " 40%|█████████████████████████████████▏                                                 | 8/20 [02:58<04:23, 21.99s/it]"
     ]
    },
    {
     "name": "stdout",
     "output_type": "stream",
     "text": [
      "D:\\data\\segmentiation\\ct_train_test/ct_train/ ct_train_1009_image.nii\n",
      "loaded Image Shape (512, 512, 293)\n",
      "Reshaped shape (256, 256, 256, 1)\n",
      "annotation shape (16777216,)\n",
      "unique value [0 1 2 3 4 5 6 7]\n",
      "processed mask shape (16777216, 8)\n",
      "Reshaped shape (256, 256, 256, 8)\n",
      "Mask shape when preproceesing ends (256, 256, 256, 8)\n",
      "Processing image 8\n",
      "Img shape when loaded (256, 256, 256, 1)\n",
      "img shape: (256, 256, 256, 1), img_raw shape: 134217728\n",
      "annotation_ shape: (256, 256, 256, 8), annotation_raw shape: 536870912\n"
     ]
    },
    {
     "name": "stderr",
     "output_type": "stream",
     "text": [
      "\r",
      " 45%|█████████████████████████████████████▎                                             | 9/20 [03:22<04:08, 22.57s/it]"
     ]
    },
    {
     "name": "stdout",
     "output_type": "stream",
     "text": [
      "D:\\data\\segmentiation\\ct_train_test/ct_train/ ct_train_1010_image.nii\n",
      "loaded Image Shape (512, 512, 274)\n",
      "Reshaped shape (256, 256, 256, 1)\n",
      "annotation shape (16777216,)\n",
      "unique value [0 1 2 3 4 5 6 7]\n",
      "processed mask shape (16777216, 8)\n",
      "Reshaped shape (256, 256, 256, 8)\n",
      "Mask shape when preproceesing ends (256, 256, 256, 8)\n",
      "Processing image 9\n",
      "Img shape when loaded (256, 256, 256, 1)\n",
      "img shape: (256, 256, 256, 1), img_raw shape: 134217728\n",
      "annotation_ shape: (256, 256, 256, 8), annotation_raw shape: 536870912\n"
     ]
    },
    {
     "name": "stderr",
     "output_type": "stream",
     "text": [
      "\r",
      " 50%|█████████████████████████████████████████                                         | 10/20 [03:45<03:47, 22.78s/it]"
     ]
    },
    {
     "name": "stdout",
     "output_type": "stream",
     "text": [
      "D:\\data\\segmentiation\\ct_train_test/ct_train/ ct_train_1011_image.nii\n",
      "loaded Image Shape (512, 512, 239)\n",
      "Reshaped shape (256, 256, 256, 1)\n",
      "annotation shape (16777216,)\n",
      "unique value [0 1 2 3 4 5 6 7]\n",
      "processed mask shape (16777216, 8)\n",
      "Reshaped shape (256, 256, 256, 8)\n",
      "Mask shape when preproceesing ends (256, 256, 256, 8)\n",
      "Processing image 10\n",
      "Img shape when loaded (256, 256, 256, 1)\n",
      "img shape: (256, 256, 256, 1), img_raw shape: 134217728\n",
      "annotation_ shape: (256, 256, 256, 8), annotation_raw shape: 536870912\n"
     ]
    },
    {
     "name": "stderr",
     "output_type": "stream",
     "text": [
      "\r",
      " 55%|█████████████████████████████████████████████                                     | 11/20 [04:07<03:22, 22.54s/it]"
     ]
    },
    {
     "name": "stdout",
     "output_type": "stream",
     "text": [
      "D:\\data\\segmentiation\\ct_train_test/ct_train/ ct_train_1012_image.nii\n",
      "loaded Image Shape (512, 512, 177)\n",
      "Reshaped shape (256, 256, 256, 1)\n",
      "annotation shape (16777216,)\n",
      "unique value [0 1 2 3 4 5 6 7]\n",
      "processed mask shape (16777216, 8)\n",
      "Reshaped shape (256, 256, 256, 8)\n",
      "Mask shape when preproceesing ends (256, 256, 256, 8)\n",
      "Processing image 11\n",
      "Img shape when loaded (256, 256, 256, 1)\n",
      "img shape: (256, 256, 256, 1), img_raw shape: 134217728\n",
      "annotation_ shape: (256, 256, 256, 8), annotation_raw shape: 536870912\n"
     ]
    },
    {
     "name": "stderr",
     "output_type": "stream",
     "text": [
      "\r",
      " 60%|█████████████████████████████████████████████████▏                                | 12/20 [04:27<02:52, 21.62s/it]"
     ]
    },
    {
     "name": "stdout",
     "output_type": "stream",
     "text": [
      "D:\\data\\segmentiation\\ct_train_test/ct_train/ ct_train_1013_image.nii\n",
      "loaded Image Shape (512, 512, 211)\n",
      "Reshaped shape (256, 256, 256, 1)\n",
      "annotation shape (16777216,)\n",
      "unique value [0 1 2 3 4 5 6 7]\n",
      "processed mask shape (16777216, 8)\n",
      "Reshaped shape (256, 256, 256, 8)\n",
      "Mask shape when preproceesing ends (256, 256, 256, 8)\n",
      "Processing image 12\n",
      "Img shape when loaded (256, 256, 256, 1)\n",
      "img shape: (256, 256, 256, 1), img_raw shape: 134217728\n",
      "annotation_ shape: (256, 256, 256, 8), annotation_raw shape: 536870912\n"
     ]
    },
    {
     "name": "stderr",
     "output_type": "stream",
     "text": [
      "\r",
      " 65%|█████████████████████████████████████████████████████▎                            | 13/20 [04:48<02:30, 21.46s/it]"
     ]
    },
    {
     "name": "stdout",
     "output_type": "stream",
     "text": [
      "D:\\data\\segmentiation\\ct_train_test/ct_train/ ct_train_1014_image.nii\n",
      "loaded Image Shape (512, 512, 358)\n",
      "Reshaped shape (256, 256, 256, 1)\n",
      "annotation shape (16777216,)\n",
      "unique value [0 1 2 3 4 5 6 7]\n",
      "processed mask shape (16777216, 8)\n",
      "Reshaped shape (256, 256, 256, 8)\n",
      "Mask shape when preproceesing ends (256, 256, 256, 8)\n",
      "Processing image 13\n",
      "Img shape when loaded (256, 256, 256, 1)\n",
      "img shape: (256, 256, 256, 1), img_raw shape: 134217728\n",
      "annotation_ shape: (256, 256, 256, 8), annotation_raw shape: 536870912\n"
     ]
    },
    {
     "name": "stderr",
     "output_type": "stream",
     "text": [
      "\r",
      " 70%|█████████████████████████████████████████████████████████▍                        | 14/20 [05:15<02:18, 23.09s/it]"
     ]
    },
    {
     "name": "stdout",
     "output_type": "stream",
     "text": [
      "D:\\data\\segmentiation\\ct_train_test/ct_train/ ct_train_1015_image.nii\n",
      "loaded Image Shape (512, 512, 300)\n",
      "Reshaped shape (256, 256, 256, 1)\n",
      "annotation shape (16777216,)\n",
      "unique value [0 1 2 3 4 5 6 7]\n",
      "processed mask shape (16777216, 8)\n",
      "Reshaped shape (256, 256, 256, 8)\n",
      "Mask shape when preproceesing ends (256, 256, 256, 8)\n",
      "Processing image 14\n",
      "Img shape when loaded (256, 256, 256, 1)\n",
      "img shape: (256, 256, 256, 1), img_raw shape: 134217728\n",
      "annotation_ shape: (256, 256, 256, 8), annotation_raw shape: 536870912\n"
     ]
    },
    {
     "name": "stderr",
     "output_type": "stream",
     "text": [
      "\r",
      " 75%|█████████████████████████████████████████████████████████████▌                    | 15/20 [05:39<01:57, 23.45s/it]"
     ]
    },
    {
     "name": "stdout",
     "output_type": "stream",
     "text": [
      "D:\\data\\segmentiation\\ct_train_test/ct_train/ ct_train_1016_image.nii\n",
      "loaded Image Shape (512, 512, 333)\n",
      "Reshaped shape (256, 256, 256, 1)\n",
      "annotation shape (16777216,)\n",
      "unique value [0 1 2 3 4 5 6 7]\n",
      "processed mask shape (16777216, 8)\n",
      "Reshaped shape (256, 256, 256, 8)\n",
      "Mask shape when preproceesing ends (256, 256, 256, 8)\n",
      "Processing image 15\n",
      "Img shape when loaded (256, 256, 256, 1)\n",
      "img shape: (256, 256, 256, 1), img_raw shape: 134217728\n",
      "annotation_ shape: (256, 256, 256, 8), annotation_raw shape: 536870912\n"
     ]
    },
    {
     "name": "stderr",
     "output_type": "stream",
     "text": [
      "\r",
      " 80%|█████████████████████████████████████████████████████████████████▌                | 16/20 [06:05<01:36, 24.23s/it]"
     ]
    },
    {
     "name": "stdout",
     "output_type": "stream",
     "text": [
      "D:\\data\\segmentiation\\ct_train_test/ct_train/ ct_train_1017_image.nii\n",
      "loaded Image Shape (512, 512, 283)\n",
      "Reshaped shape (256, 256, 256, 1)\n",
      "annotation shape (16777216,)\n",
      "unique value [0 1 2 3 4 5 6 7]\n",
      "processed mask shape (16777216, 8)\n",
      "Reshaped shape (256, 256, 256, 8)\n",
      "Mask shape when preproceesing ends (256, 256, 256, 8)\n",
      "Processing image 16\n",
      "Img shape when loaded (256, 256, 256, 1)\n",
      "img shape: (256, 256, 256, 1), img_raw shape: 134217728\n",
      "annotation_ shape: (256, 256, 256, 8), annotation_raw shape: 536870912\n"
     ]
    },
    {
     "name": "stderr",
     "output_type": "stream",
     "text": [
      "\r",
      " 85%|█████████████████████████████████████████████████████████████████████▋            | 17/20 [06:29<01:12, 24.04s/it]"
     ]
    },
    {
     "name": "stdout",
     "output_type": "stream",
     "text": [
      "D:\\data\\segmentiation\\ct_train_test/ct_train/ ct_train_1018_image.nii\n",
      "loaded Image Shape (512, 512, 187)\n",
      "Reshaped shape (256, 256, 256, 1)\n",
      "annotation shape (16777216,)\n",
      "unique value [0 1 2 3 4 5 6 7]\n",
      "processed mask shape (16777216, 8)\n",
      "Reshaped shape (256, 256, 256, 8)\n",
      "Mask shape when preproceesing ends (256, 256, 256, 8)\n",
      "Processing image 17\n",
      "Img shape when loaded (256, 256, 256, 1)\n",
      "img shape: (256, 256, 256, 1), img_raw shape: 134217728\n",
      "annotation_ shape: (256, 256, 256, 8), annotation_raw shape: 536870912\n"
     ]
    },
    {
     "name": "stderr",
     "output_type": "stream",
     "text": [
      "\r",
      " 90%|█████████████████████████████████████████████████████████████████████████▊        | 18/20 [06:49<00:45, 22.90s/it]"
     ]
    },
    {
     "name": "stdout",
     "output_type": "stream",
     "text": [
      "D:\\data\\segmentiation\\ct_train_test/ct_train/ ct_train_1019_image.nii\n",
      "loaded Image Shape (512, 512, 297)\n",
      "Reshaped shape (256, 256, 256, 1)\n",
      "annotation shape (16777216,)\n",
      "unique value [0 1 2 3 4 5 6 7]\n",
      "processed mask shape (16777216, 8)\n",
      "Reshaped shape (256, 256, 256, 8)\n",
      "Mask shape when preproceesing ends (256, 256, 256, 8)\n",
      "Processing image 18\n",
      "Img shape when loaded (256, 256, 256, 1)\n",
      "img shape: (256, 256, 256, 1), img_raw shape: 134217728\n",
      "annotation_ shape: (256, 256, 256, 8), annotation_raw shape: 536870912\n"
     ]
    },
    {
     "name": "stderr",
     "output_type": "stream",
     "text": [
      "\r",
      " 95%|█████████████████████████████████████████████████████████████████████████████▉    | 19/20 [07:13<00:23, 23.30s/it]"
     ]
    },
    {
     "name": "stdout",
     "output_type": "stream",
     "text": [
      "D:\\data\\segmentiation\\ct_train_test/ct_train/ ct_train_1020_image.nii\n",
      "loaded Image Shape (512, 512, 363)\n",
      "Reshaped shape (256, 256, 256, 1)\n",
      "annotation shape (16777216,)\n",
      "unique value [0 1 2 3 4 5 6 7]\n",
      "processed mask shape (16777216, 8)\n",
      "Reshaped shape (256, 256, 256, 8)\n",
      "Mask shape when preproceesing ends (256, 256, 256, 8)\n",
      "Processing image 19\n",
      "Img shape when loaded (256, 256, 256, 1)\n",
      "img shape: (256, 256, 256, 1), img_raw shape: 134217728\n",
      "annotation_ shape: (256, 256, 256, 8), annotation_raw shape: 536870912\n"
     ]
    },
    {
     "name": "stderr",
     "output_type": "stream",
     "text": [
      "100%|██████████████████████████████████████████████████████████████████████████████████| 20/20 [07:41<00:00, 24.56s/it]\n"
     ]
    }
   ],
   "source": [
    "ct_set = os.path.join(root,'ct_train_test/ct_train/')\n",
    "ct_set_test = os.path.join(root,'ct_train_test/ct_test/')\n",
    "mr_set = os.path.join(root,'mr_train_test/mr_train/')\n",
    "mr_set_test =  os.path.join(root,'ct_train_test/mr_test/')\n",
    "\n",
    "## 여기 바꾸면서 ct, mr 파일 만들기\n",
    "temp_path = ct_set\n",
    "\n",
    "name_list = []\n",
    "filenames = os.listdir(temp_path)\n",
    "\n",
    "for i in filenames:\n",
    "    if i[:13] not in name_list:\n",
    "        name_list.append(i[:13])\n",
    "        \n",
    "total_list = []\n",
    "for i in name_list:\n",
    "    temp_name = i\n",
    "    temp_image = i+'_image.nii'\n",
    "    temp_label = i+'_label.nii'\n",
    "    total_list.append({'name' : temp_name,'image':temp_image,'label':temp_label})\n",
    "\n",
    "label_encoder = preprocessing.LabelEncoder()\n",
    "class_num=7+1\n",
    "print(\"starting gen\")\n",
    "\n",
    "\n",
    "## 전처리 Generator\n",
    "preprocess_gen = pre_process_tfrecord_write_itr(temp_path,total_list,new_size=256)\n",
    "\n",
    "\n",
    "out_file = temp_path.split('/')[-2] + '_tfrecord'\n",
    "tfrecords_filename =os.path.join(root, out_file)\n",
    "\n",
    "## Tf Record 형식으로 저장\n",
    "write_image_annotation_pairs_to_tfrecord_from_gen(preprocess_gen,tfrecords_filename)"
   ]
  },
  {
   "cell_type": "markdown",
   "metadata": {},
   "source": [
    "## Decoding test"
   ]
  },
  {
   "cell_type": "code",
   "execution_count": 10,
   "metadata": {},
   "outputs": [],
   "source": [
    "tfr_itr = read_image_annotation_pairs_from_tfrecord_itr_from_compressed(tfrecords_filename)"
   ]
  },
  {
   "cell_type": "code",
   "execution_count": 11,
   "metadata": {
    "scrolled": true
   },
   "outputs": [
    {
     "name": "stderr",
     "output_type": "stream",
     "text": [
      "c:\\program files\\anaconda3\\envs\\cuda\\lib\\site-packages\\ipykernel_launcher.py:329: DeprecationWarning: The binary mode of fromstring is deprecated, as it behaves surprisingly on unicode inputs. Use frombuffer instead\n"
     ]
    },
    {
     "name": "stdout",
     "output_type": "stream",
     "text": [
      "img_string shape (16777216,)\n",
      "image :  134217728, annotation length : 536870912\n"
     ]
    },
    {
     "name": "stderr",
     "output_type": "stream",
     "text": [
      "c:\\program files\\anaconda3\\envs\\cuda\\lib\\site-packages\\ipykernel_launcher.py:338: DeprecationWarning: The binary mode of fromstring is deprecated, as it behaves surprisingly on unicode inputs. Use frombuffer instead\n"
     ]
    },
    {
     "name": "stdout",
     "output_type": "stream",
     "text": [
      "img_string shape (16777216,)\n",
      "image :  134217728, annotation length : 536870912\n"
     ]
    },
    {
     "name": "stderr",
     "output_type": "stream",
     "text": [
      "\r",
      "  0%|                                                                                           | 0/20 [00:00<?, ?it/s]"
     ]
    },
    {
     "name": "stdout",
     "output_type": "stream",
     "text": [
      "D:\\data\\segmentiation\\ct_train_test/ct_train/ ct_train_1001_image.nii\n",
      "loaded Image Shape (512, 512, 363)\n",
      "Reshaped shape (256, 256, 256, 1)\n",
      "annotation shape (16777216,)\n",
      "unique value [0 1 2 3 4 5 6 7]\n",
      "processed mask shape (16777216, 8)\n",
      "Reshaped shape (256, 256, 256, 8)\n",
      "Mask shape when preproceesing ends (256, 256, 256, 8)\n"
     ]
    },
    {
     "name": "stderr",
     "output_type": "stream",
     "text": [
      "\r",
      "  5%|████▏                                                                              | 1/20 [00:12<04:03, 12.81s/it]"
     ]
    },
    {
     "name": "stdout",
     "output_type": "stream",
     "text": [
      "D:\\data\\segmentiation\\ct_train_test/ct_train/ ct_train_1002_image.nii\n",
      "loaded Image Shape (512, 512, 239)\n",
      "Reshaped shape (256, 256, 256, 1)\n",
      "annotation shape (16777216,)\n",
      "unique value [0 1 2 3 4 5 6 7]\n",
      "processed mask shape (16777216, 8)\n",
      "Reshaped shape (256, 256, 256, 8)\n",
      "Mask shape when preproceesing ends (256, 256, 256, 8)\n"
     ]
    }
   ],
   "source": [
    "\n",
    "cnt = 0 \n",
    "for i,j in tfr_itr:\n",
    "    decoded_image = i\n",
    "    decoded_annotation = j\n",
    "    if cnt == 1:\n",
    "        break\n",
    "    cnt +=1 \n",
    "    \n",
    "preprocess_gen = pre_process_tfrecord_write_itr(temp_path,total_list,new_size=256)\n",
    "\n",
    "cnt = 0\n",
    "\n",
    "for a,b in preprocess_gen:\n",
    "    image = a\n",
    "    annotation = b\n",
    "    \n",
    "    if cnt == 1:\n",
    "        break\n",
    "    cnt += 1"
   ]
  },
  {
   "cell_type": "code",
   "execution_count": 12,
   "metadata": {},
   "outputs": [
    {
     "data": {
      "text/plain": [
       "array([[[[ True,  True,  True, ...,  True,  True,  True],\n",
       "         [ True,  True,  True, ...,  True,  True,  True],\n",
       "         [ True,  True,  True, ...,  True,  True,  True],\n",
       "         ...,\n",
       "         [ True,  True,  True, ...,  True,  True,  True],\n",
       "         [ True,  True,  True, ...,  True,  True,  True],\n",
       "         [ True,  True,  True, ...,  True,  True,  True]],\n",
       "\n",
       "        [[ True,  True,  True, ...,  True,  True,  True],\n",
       "         [ True,  True,  True, ...,  True,  True,  True],\n",
       "         [ True,  True,  True, ...,  True,  True,  True],\n",
       "         ...,\n",
       "         [ True,  True,  True, ...,  True,  True,  True],\n",
       "         [ True,  True,  True, ...,  True,  True,  True],\n",
       "         [ True,  True,  True, ...,  True,  True,  True]],\n",
       "\n",
       "        [[ True,  True,  True, ...,  True,  True,  True],\n",
       "         [ True,  True,  True, ...,  True,  True,  True],\n",
       "         [ True,  True,  True, ...,  True,  True,  True],\n",
       "         ...,\n",
       "         [ True,  True,  True, ...,  True,  True,  True],\n",
       "         [ True,  True,  True, ...,  True,  True,  True],\n",
       "         [ True,  True,  True, ...,  True,  True,  True]],\n",
       "\n",
       "        ...,\n",
       "\n",
       "        [[ True,  True,  True, ...,  True,  True,  True],\n",
       "         [ True,  True,  True, ...,  True,  True,  True],\n",
       "         [ True,  True,  True, ...,  True,  True,  True],\n",
       "         ...,\n",
       "         [ True,  True,  True, ...,  True,  True,  True],\n",
       "         [ True,  True,  True, ...,  True,  True,  True],\n",
       "         [ True,  True,  True, ...,  True,  True,  True]],\n",
       "\n",
       "        [[ True,  True,  True, ...,  True,  True,  True],\n",
       "         [ True,  True,  True, ...,  True,  True,  True],\n",
       "         [ True,  True,  True, ...,  True,  True,  True],\n",
       "         ...,\n",
       "         [ True,  True,  True, ...,  True,  True,  True],\n",
       "         [ True,  True,  True, ...,  True,  True,  True],\n",
       "         [ True,  True,  True, ...,  True,  True,  True]],\n",
       "\n",
       "        [[ True,  True,  True, ...,  True,  True,  True],\n",
       "         [ True,  True,  True, ...,  True,  True,  True],\n",
       "         [ True,  True,  True, ...,  True,  True,  True],\n",
       "         ...,\n",
       "         [ True,  True,  True, ...,  True,  True,  True],\n",
       "         [ True,  True,  True, ...,  True,  True,  True],\n",
       "         [ True,  True,  True, ...,  True,  True,  True]]],\n",
       "\n",
       "\n",
       "       [[[ True,  True,  True, ...,  True,  True,  True],\n",
       "         [ True,  True,  True, ...,  True,  True,  True],\n",
       "         [ True,  True,  True, ...,  True,  True,  True],\n",
       "         ...,\n",
       "         [ True,  True,  True, ...,  True,  True,  True],\n",
       "         [ True,  True,  True, ...,  True,  True,  True],\n",
       "         [ True,  True,  True, ...,  True,  True,  True]],\n",
       "\n",
       "        [[ True,  True,  True, ...,  True,  True,  True],\n",
       "         [ True,  True,  True, ...,  True,  True,  True],\n",
       "         [ True,  True,  True, ...,  True,  True,  True],\n",
       "         ...,\n",
       "         [ True,  True,  True, ...,  True,  True,  True],\n",
       "         [ True,  True,  True, ...,  True,  True,  True],\n",
       "         [ True,  True,  True, ...,  True,  True,  True]],\n",
       "\n",
       "        [[ True,  True,  True, ...,  True,  True,  True],\n",
       "         [ True,  True,  True, ...,  True,  True,  True],\n",
       "         [ True,  True,  True, ...,  True,  True,  True],\n",
       "         ...,\n",
       "         [ True,  True,  True, ...,  True,  True,  True],\n",
       "         [ True,  True,  True, ...,  True,  True,  True],\n",
       "         [ True,  True,  True, ...,  True,  True,  True]],\n",
       "\n",
       "        ...,\n",
       "\n",
       "        [[ True,  True,  True, ...,  True,  True,  True],\n",
       "         [ True,  True,  True, ...,  True,  True,  True],\n",
       "         [ True,  True,  True, ...,  True,  True,  True],\n",
       "         ...,\n",
       "         [ True,  True,  True, ...,  True,  True,  True],\n",
       "         [ True,  True,  True, ...,  True,  True,  True],\n",
       "         [ True,  True,  True, ...,  True,  True,  True]],\n",
       "\n",
       "        [[ True,  True,  True, ...,  True,  True,  True],\n",
       "         [ True,  True,  True, ...,  True,  True,  True],\n",
       "         [ True,  True,  True, ...,  True,  True,  True],\n",
       "         ...,\n",
       "         [ True,  True,  True, ...,  True,  True,  True],\n",
       "         [ True,  True,  True, ...,  True,  True,  True],\n",
       "         [ True,  True,  True, ...,  True,  True,  True]],\n",
       "\n",
       "        [[ True,  True,  True, ...,  True,  True,  True],\n",
       "         [ True,  True,  True, ...,  True,  True,  True],\n",
       "         [ True,  True,  True, ...,  True,  True,  True],\n",
       "         ...,\n",
       "         [ True,  True,  True, ...,  True,  True,  True],\n",
       "         [ True,  True,  True, ...,  True,  True,  True],\n",
       "         [ True,  True,  True, ...,  True,  True,  True]]],\n",
       "\n",
       "\n",
       "       [[[ True,  True,  True, ...,  True,  True,  True],\n",
       "         [ True,  True,  True, ...,  True,  True,  True],\n",
       "         [ True,  True,  True, ...,  True,  True,  True],\n",
       "         ...,\n",
       "         [ True,  True,  True, ...,  True,  True,  True],\n",
       "         [ True,  True,  True, ...,  True,  True,  True],\n",
       "         [ True,  True,  True, ...,  True,  True,  True]],\n",
       "\n",
       "        [[ True,  True,  True, ...,  True,  True,  True],\n",
       "         [ True,  True,  True, ...,  True,  True,  True],\n",
       "         [ True,  True,  True, ...,  True,  True,  True],\n",
       "         ...,\n",
       "         [ True,  True,  True, ...,  True,  True,  True],\n",
       "         [ True,  True,  True, ...,  True,  True,  True],\n",
       "         [ True,  True,  True, ...,  True,  True,  True]],\n",
       "\n",
       "        [[ True,  True,  True, ...,  True,  True,  True],\n",
       "         [ True,  True,  True, ...,  True,  True,  True],\n",
       "         [ True,  True,  True, ...,  True,  True,  True],\n",
       "         ...,\n",
       "         [ True,  True,  True, ...,  True,  True,  True],\n",
       "         [ True,  True,  True, ...,  True,  True,  True],\n",
       "         [ True,  True,  True, ...,  True,  True,  True]],\n",
       "\n",
       "        ...,\n",
       "\n",
       "        [[ True,  True,  True, ...,  True,  True,  True],\n",
       "         [ True,  True,  True, ...,  True,  True,  True],\n",
       "         [ True,  True,  True, ...,  True,  True,  True],\n",
       "         ...,\n",
       "         [ True,  True,  True, ...,  True,  True,  True],\n",
       "         [ True,  True,  True, ...,  True,  True,  True],\n",
       "         [ True,  True,  True, ...,  True,  True,  True]],\n",
       "\n",
       "        [[ True,  True,  True, ...,  True,  True,  True],\n",
       "         [ True,  True,  True, ...,  True,  True,  True],\n",
       "         [ True,  True,  True, ...,  True,  True,  True],\n",
       "         ...,\n",
       "         [ True,  True,  True, ...,  True,  True,  True],\n",
       "         [ True,  True,  True, ...,  True,  True,  True],\n",
       "         [ True,  True,  True, ...,  True,  True,  True]],\n",
       "\n",
       "        [[ True,  True,  True, ...,  True,  True,  True],\n",
       "         [ True,  True,  True, ...,  True,  True,  True],\n",
       "         [ True,  True,  True, ...,  True,  True,  True],\n",
       "         ...,\n",
       "         [ True,  True,  True, ...,  True,  True,  True],\n",
       "         [ True,  True,  True, ...,  True,  True,  True],\n",
       "         [ True,  True,  True, ...,  True,  True,  True]]],\n",
       "\n",
       "\n",
       "       ...,\n",
       "\n",
       "\n",
       "       [[[ True,  True,  True, ...,  True,  True,  True],\n",
       "         [ True,  True,  True, ...,  True,  True,  True],\n",
       "         [ True,  True,  True, ...,  True,  True,  True],\n",
       "         ...,\n",
       "         [ True,  True,  True, ...,  True,  True,  True],\n",
       "         [ True,  True,  True, ...,  True,  True,  True],\n",
       "         [ True,  True,  True, ...,  True,  True,  True]],\n",
       "\n",
       "        [[ True,  True,  True, ...,  True,  True,  True],\n",
       "         [ True,  True,  True, ...,  True,  True,  True],\n",
       "         [ True,  True,  True, ...,  True,  True,  True],\n",
       "         ...,\n",
       "         [ True,  True,  True, ...,  True,  True,  True],\n",
       "         [ True,  True,  True, ...,  True,  True,  True],\n",
       "         [ True,  True,  True, ...,  True,  True,  True]],\n",
       "\n",
       "        [[ True,  True,  True, ...,  True,  True,  True],\n",
       "         [ True,  True,  True, ...,  True,  True,  True],\n",
       "         [ True,  True,  True, ...,  True,  True,  True],\n",
       "         ...,\n",
       "         [ True,  True,  True, ...,  True,  True,  True],\n",
       "         [ True,  True,  True, ...,  True,  True,  True],\n",
       "         [ True,  True,  True, ...,  True,  True,  True]],\n",
       "\n",
       "        ...,\n",
       "\n",
       "        [[ True,  True,  True, ...,  True,  True,  True],\n",
       "         [ True,  True,  True, ...,  True,  True,  True],\n",
       "         [ True,  True,  True, ...,  True,  True,  True],\n",
       "         ...,\n",
       "         [ True,  True,  True, ...,  True,  True,  True],\n",
       "         [ True,  True,  True, ...,  True,  True,  True],\n",
       "         [ True,  True,  True, ...,  True,  True,  True]],\n",
       "\n",
       "        [[ True,  True,  True, ...,  True,  True,  True],\n",
       "         [ True,  True,  True, ...,  True,  True,  True],\n",
       "         [ True,  True,  True, ...,  True,  True,  True],\n",
       "         ...,\n",
       "         [ True,  True,  True, ...,  True,  True,  True],\n",
       "         [ True,  True,  True, ...,  True,  True,  True],\n",
       "         [ True,  True,  True, ...,  True,  True,  True]],\n",
       "\n",
       "        [[ True,  True,  True, ...,  True,  True,  True],\n",
       "         [ True,  True,  True, ...,  True,  True,  True],\n",
       "         [ True,  True,  True, ...,  True,  True,  True],\n",
       "         ...,\n",
       "         [ True,  True,  True, ...,  True,  True,  True],\n",
       "         [ True,  True,  True, ...,  True,  True,  True],\n",
       "         [ True,  True,  True, ...,  True,  True,  True]]],\n",
       "\n",
       "\n",
       "       [[[ True,  True,  True, ...,  True,  True,  True],\n",
       "         [ True,  True,  True, ...,  True,  True,  True],\n",
       "         [ True,  True,  True, ...,  True,  True,  True],\n",
       "         ...,\n",
       "         [ True,  True,  True, ...,  True,  True,  True],\n",
       "         [ True,  True,  True, ...,  True,  True,  True],\n",
       "         [ True,  True,  True, ...,  True,  True,  True]],\n",
       "\n",
       "        [[ True,  True,  True, ...,  True,  True,  True],\n",
       "         [ True,  True,  True, ...,  True,  True,  True],\n",
       "         [ True,  True,  True, ...,  True,  True,  True],\n",
       "         ...,\n",
       "         [ True,  True,  True, ...,  True,  True,  True],\n",
       "         [ True,  True,  True, ...,  True,  True,  True],\n",
       "         [ True,  True,  True, ...,  True,  True,  True]],\n",
       "\n",
       "        [[ True,  True,  True, ...,  True,  True,  True],\n",
       "         [ True,  True,  True, ...,  True,  True,  True],\n",
       "         [ True,  True,  True, ...,  True,  True,  True],\n",
       "         ...,\n",
       "         [ True,  True,  True, ...,  True,  True,  True],\n",
       "         [ True,  True,  True, ...,  True,  True,  True],\n",
       "         [ True,  True,  True, ...,  True,  True,  True]],\n",
       "\n",
       "        ...,\n",
       "\n",
       "        [[ True,  True,  True, ...,  True,  True,  True],\n",
       "         [ True,  True,  True, ...,  True,  True,  True],\n",
       "         [ True,  True,  True, ...,  True,  True,  True],\n",
       "         ...,\n",
       "         [ True,  True,  True, ...,  True,  True,  True],\n",
       "         [ True,  True,  True, ...,  True,  True,  True],\n",
       "         [ True,  True,  True, ...,  True,  True,  True]],\n",
       "\n",
       "        [[ True,  True,  True, ...,  True,  True,  True],\n",
       "         [ True,  True,  True, ...,  True,  True,  True],\n",
       "         [ True,  True,  True, ...,  True,  True,  True],\n",
       "         ...,\n",
       "         [ True,  True,  True, ...,  True,  True,  True],\n",
       "         [ True,  True,  True, ...,  True,  True,  True],\n",
       "         [ True,  True,  True, ...,  True,  True,  True]],\n",
       "\n",
       "        [[ True,  True,  True, ...,  True,  True,  True],\n",
       "         [ True,  True,  True, ...,  True,  True,  True],\n",
       "         [ True,  True,  True, ...,  True,  True,  True],\n",
       "         ...,\n",
       "         [ True,  True,  True, ...,  True,  True,  True],\n",
       "         [ True,  True,  True, ...,  True,  True,  True],\n",
       "         [ True,  True,  True, ...,  True,  True,  True]]],\n",
       "\n",
       "\n",
       "       [[[ True,  True,  True, ...,  True,  True,  True],\n",
       "         [ True,  True,  True, ...,  True,  True,  True],\n",
       "         [ True,  True,  True, ...,  True,  True,  True],\n",
       "         ...,\n",
       "         [ True,  True,  True, ...,  True,  True,  True],\n",
       "         [ True,  True,  True, ...,  True,  True,  True],\n",
       "         [ True,  True,  True, ...,  True,  True,  True]],\n",
       "\n",
       "        [[ True,  True,  True, ...,  True,  True,  True],\n",
       "         [ True,  True,  True, ...,  True,  True,  True],\n",
       "         [ True,  True,  True, ...,  True,  True,  True],\n",
       "         ...,\n",
       "         [ True,  True,  True, ...,  True,  True,  True],\n",
       "         [ True,  True,  True, ...,  True,  True,  True],\n",
       "         [ True,  True,  True, ...,  True,  True,  True]],\n",
       "\n",
       "        [[ True,  True,  True, ...,  True,  True,  True],\n",
       "         [ True,  True,  True, ...,  True,  True,  True],\n",
       "         [ True,  True,  True, ...,  True,  True,  True],\n",
       "         ...,\n",
       "         [ True,  True,  True, ...,  True,  True,  True],\n",
       "         [ True,  True,  True, ...,  True,  True,  True],\n",
       "         [ True,  True,  True, ...,  True,  True,  True]],\n",
       "\n",
       "        ...,\n",
       "\n",
       "        [[ True,  True,  True, ...,  True,  True,  True],\n",
       "         [ True,  True,  True, ...,  True,  True,  True],\n",
       "         [ True,  True,  True, ...,  True,  True,  True],\n",
       "         ...,\n",
       "         [ True,  True,  True, ...,  True,  True,  True],\n",
       "         [ True,  True,  True, ...,  True,  True,  True],\n",
       "         [ True,  True,  True, ...,  True,  True,  True]],\n",
       "\n",
       "        [[ True,  True,  True, ...,  True,  True,  True],\n",
       "         [ True,  True,  True, ...,  True,  True,  True],\n",
       "         [ True,  True,  True, ...,  True,  True,  True],\n",
       "         ...,\n",
       "         [ True,  True,  True, ...,  True,  True,  True],\n",
       "         [ True,  True,  True, ...,  True,  True,  True],\n",
       "         [ True,  True,  True, ...,  True,  True,  True]],\n",
       "\n",
       "        [[ True,  True,  True, ...,  True,  True,  True],\n",
       "         [ True,  True,  True, ...,  True,  True,  True],\n",
       "         [ True,  True,  True, ...,  True,  True,  True],\n",
       "         ...,\n",
       "         [ True,  True,  True, ...,  True,  True,  True],\n",
       "         [ True,  True,  True, ...,  True,  True,  True],\n",
       "         [ True,  True,  True, ...,  True,  True,  True]]]])"
      ]
     },
     "execution_count": 12,
     "metadata": {},
     "output_type": "execute_result"
    }
   ],
   "source": [
    "decoded_image ==  image\n",
    "decoded_annotation == annotation\n"
   ]
  },
  {
   "cell_type": "code",
   "execution_count": 13,
   "metadata": {},
   "outputs": [
    {
     "data": {
      "text/plain": [
       "(256, 256, 256, 1)"
      ]
     },
     "execution_count": 13,
     "metadata": {},
     "output_type": "execute_result"
    }
   ],
   "source": [
    "decoded_image.shape"
   ]
  },
  {
   "cell_type": "markdown",
   "metadata": {},
   "source": [
    "## Ct test TF record Encoding\n"
   ]
  },
  {
   "cell_type": "code",
   "execution_count": 14,
   "metadata": {
    "scrolled": true
   },
   "outputs": [
    {
     "name": "stdout",
     "output_type": "stream",
     "text": [
      "starting gen\n",
      "Start writing tfrecord\n"
     ]
    },
    {
     "name": "stderr",
     "output_type": "stream",
     "text": [
      "\n",
      "  0%|                                                                                           | 0/40 [00:00<?, ?it/s]"
     ]
    },
    {
     "name": "stdout",
     "output_type": "stream",
     "text": [
      "D:\\data\\segmentiation\\ct_train_test/ct_test/ ct_test_2001_image.nii\n",
      "loaded Image Shape (512, 512, 224)\n",
      "Reshaped shape (256, 256, 256, 1)\n",
      "Image shape before yielding (256, 256, 256, 1)\n",
      "Processing image 0\n",
      "Img shape when loaded (256, 256, 256, 1)\n",
      "img shape: (256, 256, 256, 1), img_raw shape: 134217728\n"
     ]
    },
    {
     "name": "stderr",
     "output_type": "stream",
     "text": [
      "\n",
      "  2%|██                                                                                 | 1/40 [00:09<06:19,  9.73s/it]"
     ]
    },
    {
     "name": "stdout",
     "output_type": "stream",
     "text": [
      "D:\\data\\segmentiation\\ct_train_test/ct_test/ ct_test_2002_image.nii\n",
      "loaded Image Shape (512, 512, 200)\n",
      "Reshaped shape (256, 256, 256, 1)\n",
      "Image shape before yielding (256, 256, 256, 1)\n",
      "Processing image 1\n",
      "Img shape when loaded (256, 256, 256, 1)\n",
      "img shape: (256, 256, 256, 1), img_raw shape: 134217728\n"
     ]
    },
    {
     "name": "stderr",
     "output_type": "stream",
     "text": [
      "\n",
      "  5%|████▏                                                                              | 2/40 [00:18<05:58,  9.44s/it]"
     ]
    },
    {
     "name": "stdout",
     "output_type": "stream",
     "text": [
      "D:\\data\\segmentiation\\ct_train_test/ct_test/ ct_test_2003_image.nii\n",
      "loaded Image Shape (512, 512, 276)\n",
      "Reshaped shape (256, 256, 256, 1)\n",
      "Image shape before yielding (256, 256, 256, 1)\n",
      "Processing image 2\n",
      "Img shape when loaded (256, 256, 256, 1)\n",
      "img shape: (256, 256, 256, 1), img_raw shape: 134217728\n"
     ]
    },
    {
     "name": "stderr",
     "output_type": "stream",
     "text": [
      "\n",
      "  8%|██████▏                                                                            | 3/40 [00:29<06:10, 10.02s/it]"
     ]
    },
    {
     "name": "stdout",
     "output_type": "stream",
     "text": [
      "D:\\data\\segmentiation\\ct_train_test/ct_test/ ct_test_2004_image.nii\n",
      "loaded Image Shape (512, 512, 206)\n",
      "Reshaped shape (256, 256, 256, 1)\n",
      "Image shape before yielding (256, 256, 256, 1)\n",
      "Processing image 3\n",
      "Img shape when loaded (256, 256, 256, 1)\n",
      "img shape: (256, 256, 256, 1), img_raw shape: 134217728\n"
     ]
    },
    {
     "name": "stderr",
     "output_type": "stream",
     "text": [
      "\n",
      " 10%|████████▎                                                                          | 4/40 [00:38<05:47,  9.66s/it]"
     ]
    },
    {
     "name": "stdout",
     "output_type": "stream",
     "text": [
      "D:\\data\\segmentiation\\ct_train_test/ct_test/ ct_test_2005_image.nii\n",
      "loaded Image Shape (512, 512, 271)\n",
      "Reshaped shape (256, 256, 256, 1)\n",
      "Image shape before yielding (256, 256, 256, 1)\n",
      "Processing image 4\n",
      "Img shape when loaded (256, 256, 256, 1)\n",
      "img shape: (256, 256, 256, 1), img_raw shape: 134217728\n"
     ]
    },
    {
     "name": "stderr",
     "output_type": "stream",
     "text": [
      "\n",
      " 12%|██████████▍                                                                        | 5/40 [00:49<05:52, 10.07s/it]"
     ]
    },
    {
     "name": "stdout",
     "output_type": "stream",
     "text": [
      "D:\\data\\segmentiation\\ct_train_test/ct_test/ ct_test_2006_image.nii\n",
      "loaded Image Shape (512, 512, 271)\n",
      "Reshaped shape (256, 256, 256, 1)\n",
      "Image shape before yielding (256, 256, 256, 1)\n",
      "Processing image 5\n",
      "Img shape when loaded (256, 256, 256, 1)\n",
      "img shape: (256, 256, 256, 1), img_raw shape: 134217728\n"
     ]
    },
    {
     "name": "stderr",
     "output_type": "stream",
     "text": [
      "\n",
      " 15%|████████████▍                                                                      | 6/40 [01:00<05:47, 10.23s/it]"
     ]
    },
    {
     "name": "stdout",
     "output_type": "stream",
     "text": [
      "D:\\data\\segmentiation\\ct_train_test/ct_test/ ct_test_2007_image.nii\n",
      "loaded Image Shape (512, 512, 288)\n",
      "Reshaped shape (256, 256, 256, 1)\n",
      "Image shape before yielding (256, 256, 256, 1)\n",
      "Processing image 6\n",
      "Img shape when loaded (256, 256, 256, 1)\n",
      "img shape: (256, 256, 256, 1), img_raw shape: 134217728\n"
     ]
    },
    {
     "name": "stderr",
     "output_type": "stream",
     "text": [
      "\n",
      " 18%|██████████████▌                                                                    | 7/40 [01:11<05:51, 10.66s/it]"
     ]
    },
    {
     "name": "stdout",
     "output_type": "stream",
     "text": [
      "D:\\data\\segmentiation\\ct_train_test/ct_test/ ct_test_2008_image.nii\n",
      "loaded Image Shape (512, 512, 261)\n",
      "Reshaped shape (256, 256, 256, 1)\n",
      "Image shape before yielding (256, 256, 256, 1)\n",
      "Processing image 7\n",
      "Img shape when loaded (256, 256, 256, 1)\n",
      "img shape: (256, 256, 256, 1), img_raw shape: 134217728\n"
     ]
    },
    {
     "name": "stderr",
     "output_type": "stream",
     "text": [
      "\n",
      " 20%|████████████████▌                                                                  | 8/40 [01:22<05:39, 10.62s/it]"
     ]
    },
    {
     "name": "stdout",
     "output_type": "stream",
     "text": [
      "D:\\data\\segmentiation\\ct_train_test/ct_test/ ct_test_2009_image.nii\n",
      "loaded Image Shape (512, 512, 300)\n",
      "Reshaped shape (256, 256, 256, 1)\n",
      "Image shape before yielding (256, 256, 256, 1)\n",
      "Processing image 8\n",
      "Img shape when loaded (256, 256, 256, 1)\n",
      "img shape: (256, 256, 256, 1), img_raw shape: 134217728\n"
     ]
    },
    {
     "name": "stderr",
     "output_type": "stream",
     "text": [
      "\n",
      " 22%|██████████████████▋                                                                | 9/40 [01:34<05:40, 10.97s/it]"
     ]
    },
    {
     "name": "stdout",
     "output_type": "stream",
     "text": [
      "D:\\data\\segmentiation\\ct_train_test/ct_test/ ct_test_2010_image.nii\n",
      "loaded Image Shape (512, 512, 274)\n",
      "Reshaped shape (256, 256, 256, 1)\n",
      "Image shape before yielding (256, 256, 256, 1)\n",
      "Processing image 9\n",
      "Img shape when loaded (256, 256, 256, 1)\n",
      "img shape: (256, 256, 256, 1), img_raw shape: 134217728\n"
     ]
    },
    {
     "name": "stderr",
     "output_type": "stream",
     "text": [
      "\n",
      " 25%|████████████████████▌                                                             | 10/40 [01:45<05:28, 10.95s/it]"
     ]
    },
    {
     "name": "stdout",
     "output_type": "stream",
     "text": [
      "D:\\data\\segmentiation\\ct_train_test/ct_test/ ct_test_2011_image.nii\n",
      "loaded Image Shape (512, 512, 298)\n",
      "Reshaped shape (256, 256, 256, 1)\n",
      "Image shape before yielding (256, 256, 256, 1)\n",
      "Processing image 10\n",
      "Img shape when loaded (256, 256, 256, 1)\n",
      "img shape: (256, 256, 256, 1), img_raw shape: 134217728\n"
     ]
    },
    {
     "name": "stderr",
     "output_type": "stream",
     "text": [
      "\n",
      " 28%|██████████████████████▌                                                           | 11/40 [01:57<05:28, 11.32s/it]"
     ]
    },
    {
     "name": "stdout",
     "output_type": "stream",
     "text": [
      "D:\\data\\segmentiation\\ct_train_test/ct_test/ ct_test_2012_image.nii\n",
      "loaded Image Shape (512, 512, 256)\n",
      "Reshaped shape (256, 256, 256, 1)\n",
      "Image shape before yielding (256, 256, 256, 1)\n",
      "Processing image 11\n",
      "Img shape when loaded (256, 256, 256, 1)\n",
      "img shape: (256, 256, 256, 1), img_raw shape: 134217728\n"
     ]
    },
    {
     "name": "stderr",
     "output_type": "stream",
     "text": [
      "\n",
      " 30%|████████████████████████▌                                                         | 12/40 [02:07<05:10, 11.09s/it]"
     ]
    },
    {
     "name": "stdout",
     "output_type": "stream",
     "text": [
      "D:\\data\\segmentiation\\ct_train_test/ct_test/ ct_test_2013_image.nii\n",
      "loaded Image Shape (512, 512, 287)\n",
      "Reshaped shape (256, 256, 256, 1)\n",
      "Image shape before yielding (256, 256, 256, 1)\n",
      "Processing image 12\n",
      "Img shape when loaded (256, 256, 256, 1)\n",
      "img shape: (256, 256, 256, 1), img_raw shape: 134217728\n"
     ]
    },
    {
     "name": "stderr",
     "output_type": "stream",
     "text": [
      "\n",
      " 32%|██████████████████████████▋                                                       | 13/40 [02:19<05:00, 11.14s/it]"
     ]
    },
    {
     "name": "stdout",
     "output_type": "stream",
     "text": [
      "D:\\data\\segmentiation\\ct_train_test/ct_test/ ct_test_2014_image.nii\n",
      "loaded Image Shape (512, 512, 224)\n",
      "Reshaped shape (256, 256, 256, 1)\n",
      "Image shape before yielding (256, 256, 256, 1)\n",
      "Processing image 13\n",
      "Img shape when loaded (256, 256, 256, 1)\n",
      "img shape: (256, 256, 256, 1), img_raw shape: 134217728\n"
     ]
    },
    {
     "name": "stderr",
     "output_type": "stream",
     "text": [
      "\n",
      " 35%|████████████████████████████▋                                                     | 14/40 [02:29<04:43, 10.90s/it]"
     ]
    },
    {
     "name": "stdout",
     "output_type": "stream",
     "text": [
      "D:\\data\\segmentiation\\ct_train_test/ct_test/ ct_test_2015_image.nii\n",
      "loaded Image Shape (512, 512, 288)\n",
      "Reshaped shape (256, 256, 256, 1)\n",
      "Image shape before yielding (256, 256, 256, 1)\n",
      "Processing image 14\n",
      "Img shape when loaded (256, 256, 256, 1)\n",
      "img shape: (256, 256, 256, 1), img_raw shape: 134217728\n"
     ]
    },
    {
     "name": "stderr",
     "output_type": "stream",
     "text": [
      "\n",
      " 38%|██████████████████████████████▊                                                   | 15/40 [02:41<04:37, 11.11s/it]"
     ]
    },
    {
     "name": "stdout",
     "output_type": "stream",
     "text": [
      "D:\\data\\segmentiation\\ct_train_test/ct_test/ ct_test_2016_image.nii\n",
      "loaded Image Shape (512, 512, 243)\n",
      "Reshaped shape (256, 256, 256, 1)\n",
      "Image shape before yielding (256, 256, 256, 1)\n",
      "Processing image 15\n",
      "Img shape when loaded (256, 256, 256, 1)\n",
      "img shape: (256, 256, 256, 1), img_raw shape: 134217728\n"
     ]
    },
    {
     "name": "stderr",
     "output_type": "stream",
     "text": [
      "\n",
      " 40%|████████████████████████████████▊                                                 | 16/40 [02:52<04:25, 11.05s/it]"
     ]
    },
    {
     "name": "stdout",
     "output_type": "stream",
     "text": [
      "D:\\data\\segmentiation\\ct_train_test/ct_test/ ct_test_2017_image.nii\n",
      "loaded Image Shape (512, 512, 248)\n",
      "Reshaped shape (256, 256, 256, 1)\n",
      "Image shape before yielding (256, 256, 256, 1)\n",
      "Processing image 16\n",
      "Img shape when loaded (256, 256, 256, 1)\n",
      "img shape: (256, 256, 256, 1), img_raw shape: 134217728\n"
     ]
    },
    {
     "name": "stderr",
     "output_type": "stream",
     "text": [
      "\n",
      " 42%|██████████████████████████████████▊                                               | 17/40 [03:02<04:12, 10.96s/it]"
     ]
    },
    {
     "name": "stdout",
     "output_type": "stream",
     "text": [
      "D:\\data\\segmentiation\\ct_train_test/ct_test/ ct_test_2018_image.nii\n",
      "loaded Image Shape (512, 512, 211)\n",
      "Reshaped shape (256, 256, 256, 1)\n",
      "Image shape before yielding (256, 256, 256, 1)\n",
      "Processing image 17\n",
      "Img shape when loaded (256, 256, 256, 1)\n",
      "img shape: (256, 256, 256, 1), img_raw shape: 134217728\n"
     ]
    },
    {
     "name": "stderr",
     "output_type": "stream",
     "text": [
      "\n",
      " 45%|████████████████████████████████████▉                                             | 18/40 [03:12<03:54, 10.67s/it]"
     ]
    },
    {
     "name": "stdout",
     "output_type": "stream",
     "text": [
      "D:\\data\\segmentiation\\ct_train_test/ct_test/ ct_test_2019_image.nii\n",
      "loaded Image Shape (512, 512, 297)\n",
      "Reshaped shape (256, 256, 256, 1)\n",
      "Image shape before yielding (256, 256, 256, 1)\n",
      "Processing image 18\n",
      "Img shape when loaded (256, 256, 256, 1)\n",
      "img shape: (256, 256, 256, 1), img_raw shape: 134217728\n"
     ]
    },
    {
     "name": "stderr",
     "output_type": "stream",
     "text": [
      "\n",
      " 48%|██████████████████████████████████████▉                                           | 19/40 [03:24<03:51, 11.04s/it]"
     ]
    },
    {
     "name": "stdout",
     "output_type": "stream",
     "text": [
      "D:\\data\\segmentiation\\ct_train_test/ct_test/ ct_test_2020_image.nii\n",
      "loaded Image Shape (512, 512, 298)\n",
      "Reshaped shape (256, 256, 256, 1)\n",
      "Image shape before yielding (256, 256, 256, 1)\n",
      "Processing image 19\n",
      "Img shape when loaded (256, 256, 256, 1)\n",
      "img shape: (256, 256, 256, 1), img_raw shape: 134217728\n"
     ]
    },
    {
     "name": "stderr",
     "output_type": "stream",
     "text": [
      "\n",
      " 50%|█████████████████████████████████████████                                         | 20/40 [03:36<03:47, 11.38s/it]"
     ]
    },
    {
     "name": "stdout",
     "output_type": "stream",
     "text": [
      "D:\\data\\segmentiation\\ct_train_test/ct_test/ ct_test_2021_image.nii\n",
      "loaded Image Shape (512, 512, 187)\n",
      "Reshaped shape (256, 256, 256, 1)\n",
      "Image shape before yielding (256, 256, 256, 1)\n",
      "Processing image 20\n",
      "Img shape when loaded (256, 256, 256, 1)\n",
      "img shape: (256, 256, 256, 1), img_raw shape: 134217728\n"
     ]
    },
    {
     "name": "stderr",
     "output_type": "stream",
     "text": [
      "\n",
      " 52%|███████████████████████████████████████████                                       | 21/40 [03:46<03:26, 10.84s/it]"
     ]
    },
    {
     "name": "stdout",
     "output_type": "stream",
     "text": [
      "D:\\data\\segmentiation\\ct_train_test/ct_test/ ct_test_2022_image.nii\n",
      "loaded Image Shape (512, 512, 239)\n",
      "Reshaped shape (256, 256, 256, 1)\n",
      "Image shape before yielding (256, 256, 256, 1)\n",
      "Processing image 21\n",
      "Img shape when loaded (256, 256, 256, 1)\n",
      "img shape: (256, 256, 256, 1), img_raw shape: 134217728\n"
     ]
    },
    {
     "name": "stderr",
     "output_type": "stream",
     "text": [
      "\n",
      " 55%|█████████████████████████████████████████████                                     | 22/40 [03:57<03:14, 10.82s/it]"
     ]
    },
    {
     "name": "stdout",
     "output_type": "stream",
     "text": [
      "D:\\data\\segmentiation\\ct_train_test/ct_test/ ct_test_2023_image.nii\n",
      "loaded Image Shape (512, 512, 230)\n",
      "Reshaped shape (256, 256, 256, 1)\n",
      "Image shape before yielding (256, 256, 256, 1)\n",
      "Processing image 22\n",
      "Img shape when loaded (256, 256, 256, 1)\n",
      "img shape: (256, 256, 256, 1), img_raw shape: 33554432\n"
     ]
    },
    {
     "name": "stderr",
     "output_type": "stream",
     "text": [
      "\n",
      " 57%|███████████████████████████████████████████████▏                                  | 23/40 [03:59<02:21,  8.34s/it]"
     ]
    },
    {
     "name": "stdout",
     "output_type": "stream",
     "text": [
      "D:\\data\\segmentiation\\ct_train_test/ct_test/ ct_test_2024_image.nii\n",
      "loaded Image Shape (512, 512, 276)\n",
      "Reshaped shape (256, 256, 256, 1)\n",
      "Image shape before yielding (256, 256, 256, 1)\n",
      "Processing image 23\n",
      "Img shape when loaded (256, 256, 256, 1)\n",
      "img shape: (256, 256, 256, 1), img_raw shape: 134217728\n"
     ]
    },
    {
     "name": "stderr",
     "output_type": "stream",
     "text": [
      "\n",
      " 60%|█████████████████████████████████████████████████▏                                | 24/40 [04:11<02:31,  9.48s/it]"
     ]
    },
    {
     "name": "stdout",
     "output_type": "stream",
     "text": [
      "D:\\data\\segmentiation\\ct_train_test/ct_test/ ct_test_2025_image.nii\n",
      "loaded Image Shape (512, 512, 206)\n",
      "Reshaped shape (256, 256, 256, 1)\n",
      "Image shape before yielding (256, 256, 256, 1)\n",
      "Processing image 24\n",
      "Img shape when loaded (256, 256, 256, 1)\n",
      "img shape: (256, 256, 256, 1), img_raw shape: 134217728\n"
     ]
    },
    {
     "name": "stderr",
     "output_type": "stream",
     "text": [
      "\n",
      " 62%|███████████████████████████████████████████████████▎                              | 25/40 [04:21<02:24,  9.63s/it]"
     ]
    },
    {
     "name": "stdout",
     "output_type": "stream",
     "text": [
      "D:\\data\\segmentiation\\ct_train_test/ct_test/ ct_test_2026_image.nii\n",
      "loaded Image Shape (512, 512, 247)\n",
      "Reshaped shape (256, 256, 256, 1)\n",
      "Image shape before yielding (256, 256, 256, 1)\n",
      "Processing image 25\n",
      "Img shape when loaded (256, 256, 256, 1)\n",
      "img shape: (256, 256, 256, 1), img_raw shape: 134217728\n"
     ]
    },
    {
     "name": "stderr",
     "output_type": "stream",
     "text": [
      "\n",
      " 65%|█████████████████████████████████████████████████████▎                            | 26/40 [04:33<02:21, 10.14s/it]"
     ]
    },
    {
     "name": "stdout",
     "output_type": "stream",
     "text": [
      "D:\\data\\segmentiation\\ct_train_test/ct_test/ ct_test_2027_image.nii\n",
      "loaded Image Shape (512, 512, 239)\n",
      "Reshaped shape (256, 256, 256, 1)\n",
      "Image shape before yielding (256, 256, 256, 1)\n",
      "Processing image 26\n",
      "Img shape when loaded (256, 256, 256, 1)\n",
      "img shape: (256, 256, 256, 1), img_raw shape: 134217728\n"
     ]
    },
    {
     "name": "stderr",
     "output_type": "stream",
     "text": [
      "\n",
      " 68%|███████████████████████████████████████████████████████▎                          | 27/40 [04:44<02:14, 10.37s/it]"
     ]
    },
    {
     "name": "stdout",
     "output_type": "stream",
     "text": [
      "D:\\data\\segmentiation\\ct_train_test/ct_test/ ct_test_2028_image.nii\n",
      "loaded Image Shape (512, 512, 358)\n",
      "Reshaped shape (256, 256, 256, 1)\n",
      "Image shape before yielding (256, 256, 256, 1)\n",
      "Processing image 27\n",
      "Img shape when loaded (256, 256, 256, 1)\n",
      "img shape: (256, 256, 256, 1), img_raw shape: 134217728\n"
     ]
    },
    {
     "name": "stderr",
     "output_type": "stream",
     "text": [
      "\n",
      " 70%|█████████████████████████████████████████████████████████▍                        | 28/40 [04:58<02:17, 11.49s/it]"
     ]
    },
    {
     "name": "stdout",
     "output_type": "stream",
     "text": [
      "D:\\data\\segmentiation\\ct_train_test/ct_test/ ct_test_2029_image.nii\n",
      "loaded Image Shape (512, 512, 298)\n",
      "Reshaped shape (256, 256, 256, 1)\n",
      "Image shape before yielding (256, 256, 256, 1)\n",
      "Processing image 28\n",
      "Img shape when loaded (256, 256, 256, 1)\n",
      "img shape: (256, 256, 256, 1), img_raw shape: 134217728\n"
     ]
    },
    {
     "name": "stderr",
     "output_type": "stream",
     "text": [
      "\n",
      " 72%|███████████████████████████████████████████████████████████▍                      | 29/40 [05:10<02:09, 11.78s/it]"
     ]
    },
    {
     "name": "stdout",
     "output_type": "stream",
     "text": [
      "D:\\data\\segmentiation\\ct_train_test/ct_test/ ct_test_2030_image.nii\n",
      "loaded Image Shape (512, 512, 293)\n",
      "Reshaped shape (256, 256, 256, 1)\n",
      "Image shape before yielding (256, 256, 256, 1)\n",
      "Processing image 29\n",
      "Img shape when loaded (256, 256, 256, 1)\n",
      "img shape: (256, 256, 256, 1), img_raw shape: 134217728\n"
     ]
    },
    {
     "name": "stderr",
     "output_type": "stream",
     "text": [
      "\n",
      " 75%|█████████████████████████████████████████████████████████████▌                    | 30/40 [05:22<01:58, 11.86s/it]"
     ]
    },
    {
     "name": "stdout",
     "output_type": "stream",
     "text": [
      "D:\\data\\segmentiation\\ct_train_test/ct_test/ ct_test_2031_image.nii\n",
      "loaded Image Shape (512, 512, 287)\n",
      "Reshaped shape (256, 256, 256, 1)\n",
      "Image shape before yielding (256, 256, 256, 1)\n",
      "Processing image 30\n",
      "Img shape when loaded (256, 256, 256, 1)\n",
      "img shape: (256, 256, 256, 1), img_raw shape: 134217728\n"
     ]
    },
    {
     "name": "stderr",
     "output_type": "stream",
     "text": [
      "\n",
      " 78%|███████████████████████████████████████████████████████████████▌                  | 31/40 [05:34<01:47, 11.89s/it]"
     ]
    },
    {
     "name": "stdout",
     "output_type": "stream",
     "text": [
      "D:\\data\\segmentiation\\ct_train_test/ct_test/ ct_test_2032_image.nii\n",
      "loaded Image Shape (512, 512, 177)\n",
      "Reshaped shape (256, 256, 256, 1)\n",
      "Image shape before yielding (256, 256, 256, 1)\n",
      "Processing image 31\n",
      "Img shape when loaded (256, 256, 256, 1)\n",
      "img shape: (256, 256, 256, 1), img_raw shape: 134217728\n"
     ]
    },
    {
     "name": "stderr",
     "output_type": "stream",
     "text": [
      "\n",
      " 80%|█████████████████████████████████████████████████████████████████▌                | 32/40 [05:43<01:28, 11.06s/it]"
     ]
    },
    {
     "name": "stdout",
     "output_type": "stream",
     "text": [
      "D:\\data\\segmentiation\\ct_train_test/ct_test/ ct_test_2033_image.nii\n",
      "loaded Image Shape (512, 512, 222)\n",
      "Reshaped shape (256, 256, 256, 1)\n",
      "Image shape before yielding (256, 256, 256, 1)\n",
      "Processing image 32\n",
      "Img shape when loaded (256, 256, 256, 1)\n",
      "img shape: (256, 256, 256, 1), img_raw shape: 134217728\n"
     ]
    },
    {
     "name": "stderr",
     "output_type": "stream",
     "text": [
      "\n",
      " 82%|███████████████████████████████████████████████████████████████████▋              | 33/40 [05:54<01:17, 11.02s/it]"
     ]
    },
    {
     "name": "stdout",
     "output_type": "stream",
     "text": [
      "D:\\data\\segmentiation\\ct_train_test/ct_test/ ct_test_2034_image.nii\n",
      "loaded Image Shape (512, 512, 247)\n",
      "Reshaped shape (256, 256, 256, 1)\n",
      "Image shape before yielding (256, 256, 256, 1)\n",
      "Processing image 33\n",
      "Img shape when loaded (256, 256, 256, 1)\n",
      "img shape: (256, 256, 256, 1), img_raw shape: 134217728\n"
     ]
    },
    {
     "name": "stderr",
     "output_type": "stream",
     "text": [
      "\n",
      " 85%|█████████████████████████████████████████████████████████████████████▋            | 34/40 [06:06<01:06, 11.15s/it]"
     ]
    },
    {
     "name": "stdout",
     "output_type": "stream",
     "text": [
      "D:\\data\\segmentiation\\ct_train_test/ct_test/ ct_test_2035_image.nii\n",
      "loaded Image Shape (512, 512, 256)\n",
      "Reshaped shape (256, 256, 256, 1)\n",
      "Image shape before yielding (256, 256, 256, 1)\n",
      "Processing image 34\n",
      "Img shape when loaded (256, 256, 256, 1)\n",
      "img shape: (256, 256, 256, 1), img_raw shape: 134217728\n"
     ]
    },
    {
     "name": "stderr",
     "output_type": "stream",
     "text": [
      "\n",
      " 88%|███████████████████████████████████████████████████████████████████████▊          | 35/40 [06:18<00:56, 11.36s/it]"
     ]
    },
    {
     "name": "stdout",
     "output_type": "stream",
     "text": [
      "D:\\data\\segmentiation\\ct_train_test/ct_test/ ct_test_2036_image.nii\n",
      "loaded Image Shape (512, 512, 333)\n",
      "Reshaped shape (256, 256, 256, 1)\n",
      "Image shape before yielding (256, 256, 256, 1)\n",
      "Processing image 35\n",
      "Img shape when loaded (256, 256, 256, 1)\n",
      "img shape: (256, 256, 256, 1), img_raw shape: 134217728\n"
     ]
    },
    {
     "name": "stderr",
     "output_type": "stream",
     "text": [
      "\n",
      " 90%|█████████████████████████████████████████████████████████████████████████▊        | 36/40 [06:31<00:47, 11.95s/it]"
     ]
    },
    {
     "name": "stdout",
     "output_type": "stream",
     "text": [
      "D:\\data\\segmentiation\\ct_train_test/ct_test/ ct_test_2037_image.nii\n",
      "loaded Image Shape (512, 512, 230)\n",
      "Reshaped shape (256, 256, 256, 1)\n",
      "Image shape before yielding (256, 256, 256, 1)\n",
      "Processing image 36\n",
      "Img shape when loaded (256, 256, 256, 1)\n",
      "img shape: (256, 256, 256, 1), img_raw shape: 33554432\n"
     ]
    },
    {
     "name": "stderr",
     "output_type": "stream",
     "text": [
      "\n",
      " 92%|███████████████████████████████████████████████████████████████████████████▊      | 37/40 [06:33<00:27,  9.12s/it]"
     ]
    },
    {
     "name": "stdout",
     "output_type": "stream",
     "text": [
      "D:\\data\\segmentiation\\ct_train_test/ct_test/ ct_test_2038_image.nii\n",
      "loaded Image Shape (512, 512, 261)\n",
      "Reshaped shape (256, 256, 256, 1)\n",
      "Image shape before yielding (256, 256, 256, 1)\n",
      "Processing image 37\n",
      "Img shape when loaded (256, 256, 256, 1)\n",
      "img shape: (256, 256, 256, 1), img_raw shape: 134217728\n"
     ]
    },
    {
     "name": "stderr",
     "output_type": "stream",
     "text": [
      "\n",
      " 95%|█████████████████████████████████████████████████████████████████████████████▉    | 38/40 [06:45<00:19,  9.97s/it]"
     ]
    },
    {
     "name": "stdout",
     "output_type": "stream",
     "text": [
      "D:\\data\\segmentiation\\ct_train_test/ct_test/ ct_test_2039_image.nii\n",
      "loaded Image Shape (512, 512, 177)\n",
      "Reshaped shape (256, 256, 256, 1)\n",
      "Image shape before yielding (256, 256, 256, 1)\n",
      "Processing image 38\n",
      "Img shape when loaded (256, 256, 256, 1)\n",
      "img shape: (256, 256, 256, 1), img_raw shape: 134217728\n"
     ]
    },
    {
     "name": "stderr",
     "output_type": "stream",
     "text": [
      "\n",
      " 98%|███████████████████████████████████████████████████████████████████████████████▉  | 39/40 [06:54<00:09,  9.71s/it]"
     ]
    },
    {
     "name": "stdout",
     "output_type": "stream",
     "text": [
      "D:\\data\\segmentiation\\ct_train_test/ct_test/ ct_test_2040_image.nii\n",
      "loaded Image Shape (512, 512, 283)\n",
      "Reshaped shape (256, 256, 256, 1)\n",
      "Image shape before yielding (256, 256, 256, 1)\n",
      "Processing image 39\n",
      "Img shape when loaded (256, 256, 256, 1)\n",
      "img shape: (256, 256, 256, 1), img_raw shape: 134217728\n"
     ]
    },
    {
     "name": "stderr",
     "output_type": "stream",
     "text": [
      "\n",
      "100%|██████████████████████████████████████████████████████████████████████████████████| 40/40 [07:06<00:00, 10.39s/it]\n"
     ]
    }
   ],
   "source": [
    "ct_set = os.path.join(root,'ct_train_test/ct_train/')\n",
    "ct_set_test = os.path.join(root,'ct_train_test/ct_test/')\n",
    "mr_set = os.path.join(root,'mr_train_test/mr_train/')\n",
    "mr_set_test =  os.path.join(root,'ct_train_test/mr_test/')\n",
    "\n",
    "## 여기 바꾸면서 ct, mr 파일 만들기\n",
    "temp_path = ct_set_test\n",
    "\n",
    "name_list = []\n",
    "filenames = os.listdir(temp_path)\n",
    "\n",
    "for i in filenames:\n",
    "    if i[:12] not in name_list:\n",
    "        name_list.append(i[:12])\n",
    "        \n",
    "total_list = []\n",
    "for i in name_list:\n",
    "    temp_name = i\n",
    "    temp_image = i+'_image.nii'\n",
    "    temp_label = i+'_label.nii'\n",
    "    total_list.append({'name' : temp_name,'image':temp_image,'label':temp_label})\n",
    "\n",
    "# label_encoder = preprocessing.LabelEncoder()\n",
    "# class_num=7+1\n",
    "print(\"starting gen\")\n",
    "\n",
    "#0# 전처리 Generator\n",
    "preprocess_gen = pre_process_tfrecord_write_itr(temp_path,total_list,new_size=256,test=True)\n",
    "\n",
    "out_file = temp_path.split('/')[-2] + '_tfrecord'\n",
    "tfrecords_filename =os.path.join(root, out_file)\n",
    "\n",
    "## Tf Record 형식으로 저장\n",
    "write_image_annotation_pairs_to_tfrecord_from_gen(preprocess_gen,tfrecords_filename, test=True)"
   ]
  },
  {
   "cell_type": "markdown",
   "metadata": {},
   "source": [
    "### MR train TF record Encoding\n",
    "* need to fix ceratin mr data value (mr은 값을 하나 바꿔줘야됨)\n",
    "* change axis (CT에서 의미하는 축과  MR 의미하는 축이 다른 경우가 있음 통일할 필요) \n",
    "* https://github.com/bllfpc/TTokDak/blob/master/ipynb/image%20padding.ipynb"
   ]
  },
  {
   "cell_type": "code",
   "execution_count": 15,
   "metadata": {},
   "outputs": [],
   "source": [
    "## utils\n",
    "\n",
    "def image_preprocess(image, new_size, mask=False):\n",
    "    assert np.sum(image.shape==image.shape[0])!=3    \n",
    "    \n",
    "    ratio = new_size / image.shape[0]\n",
    "    \n",
    "    image = scipy.ndimage.zoom(image, zoom=ratio, order=0)\n",
    "\n",
    "    if mask:\n",
    "        channel = 7 + 1 #background\n",
    "        image = image.reshape(-1)\n",
    "        \n",
    "        \n",
    "        image = label_encoder.fit_transform(image)\n",
    "        \n",
    "        \n",
    "        \n",
    "        \n",
    "        print(\"annotation shape\",image.shape)\n",
    "        print(\"unique value\", np.unique(image))\n",
    "        \n",
    "        \n",
    "        image = to_categorical(image, class_num)\n",
    "        print(\"processed mask shape\",image.shape)\n",
    "\n",
    "        \n",
    "    else:\n",
    "        channel = 1\n",
    "    # reshape to raw shape\n",
    "    image = image.reshape((new_size,)*3 + (channel,))\n",
    "    print(\"Reshaped shape\",image.shape)\n",
    "    \n",
    "    return image\n",
    "\n",
    "def pad3d(array):\n",
    "    \n",
    "    print(\"Starting Padding Image shape\",array.shape)\n",
    "    \n",
    "    x0 = array.shape[0]\n",
    "    x2 = array.shape[2]    \n",
    "    if x0 > x2:\n",
    "        height = x0\n",
    "        depth = x2\n",
    "    elif x2 > x0:\n",
    "        height = x2\n",
    "        depth = x0\n",
    "    \n",
    "    if (height - depth) % 2 :\n",
    "        pad_front = int((height + 1 - depth) / 2)\n",
    "        pad_back = int((height - 1 - depth) / 2)\n",
    "    else:\n",
    "        pad_front = pad_back = int((height - depth) / 2)\n",
    "    \n",
    "    if x0 > x2:    \n",
    "        npad = ((0,0),(0,0),(pad_front,pad_back))\n",
    "    elif x2 > x0:\n",
    "        npad = ((pad_front,pad_back),(0,0),(0,0))\n",
    "        \n",
    "    array_padding = np.pad(array, npad, 'constant', constant_values=(0))\n",
    "    array_padding[array_padding<0] = 0\n",
    "    \n",
    "    return array_padding\n",
    "\n",
    "\n",
    "def axis_transform(image):\n",
    "    idx = 0\n",
    "    if np.sum(image[2,:,int(image.shape[-1]/2)]) == 0:\n",
    "        image = image.T\n",
    "        image = np.flip(image,axis=0)\n",
    "        idx += 1\n",
    "    return image, idx\n",
    "\n",
    "def pre_process_tfrecord_write_itr_mr(path,itr,new_size, test=False):\n",
    "    for record in tqdm(itr):\n",
    "        file_name = record['name']\n",
    "        img_fname = record['image']\n",
    "        \n",
    "        print(path,img_fname)\n",
    "        \n",
    "        ## nii 데이터 불러오기\n",
    "        img = nii_loader(path,img_fname)\n",
    "\n",
    "        print(\"loaded Image Shape\",img.get_data().shape)\n",
    "        \n",
    "        ## 이미지 padding + resizing\n",
    "        img, idx = axis_transform(img.get_data())\n",
    "        print(\"transformed image shape\",img.shape)\n",
    "        img = pad3d(img)\n",
    "        img = image_preprocess(img,new_size=new_size)\n",
    "        \n",
    "        ## 레이블 padding + resizing\n",
    "        if test :\n",
    "            print(\"Image shape before yielding\",img.shape)\n",
    "            yield img\n",
    "\n",
    "        else:\n",
    "            label_fname = record['label']\n",
    "            lab = nii_loader(path, label_fname)\n",
    "            lab = lab.get_data()\n",
    "            \n",
    "            if label_fname == 'mr_train_1010_label.nii':\n",
    "                lab[lab==421]= 420\n",
    "                print(\"Outlier detected\")\n",
    "            \n",
    "            if idx :\n",
    "                lab, _ = axis_transform(lab)\n",
    "                \n",
    "            lab = pad3d(lab)\n",
    "            lab = image_preprocess(lab,new_size=new_size,mask=True)\n",
    "\n",
    "            print(\"Mask shape when preproceesing ends\",lab.shape)\n",
    "            \n",
    "            yield img, lab"
   ]
  },
  {
   "cell_type": "code",
   "execution_count": 16,
   "metadata": {
    "scrolled": true
   },
   "outputs": [
    {
     "name": "stdout",
     "output_type": "stream",
     "text": [
      "starting gen\n",
      "Start writing tfrecord\n"
     ]
    },
    {
     "name": "stderr",
     "output_type": "stream",
     "text": [
      "\n",
      "  0%|                                                                                           | 0/20 [00:00<?, ?it/s]"
     ]
    },
    {
     "name": "stdout",
     "output_type": "stream",
     "text": [
      "D:\\data\\segmentiation\\mr_train_test/mr_train/ mr_train_1001_image.nii\n",
      "loaded Image Shape (512, 512, 160)\n",
      "transformed image shape (512, 512, 160)\n",
      "Starting Padding Image shape (512, 512, 160)\n",
      "Reshaped shape (256, 256, 256, 1)\n",
      "Starting Padding Image shape (512, 512, 160)\n",
      "annotation shape (16777216,)\n",
      "unique value [0 1 2 3 4 5 6 7]\n",
      "processed mask shape (16777216, 8)\n",
      "Reshaped shape (256, 256, 256, 8)\n",
      "Mask shape when preproceesing ends (256, 256, 256, 8)\n",
      "Processing image 0\n",
      "Img shape when loaded (256, 256, 256, 1)\n",
      "img shape: (256, 256, 256, 1), img_raw shape: 33554432\n",
      "annotation_ shape: (256, 256, 256, 8), annotation_raw shape: 536870912\n"
     ]
    },
    {
     "name": "stderr",
     "output_type": "stream",
     "text": [
      "\n",
      "  5%|████▏                                                                              | 1/20 [00:12<03:52, 12.23s/it]"
     ]
    },
    {
     "name": "stdout",
     "output_type": "stream",
     "text": [
      "D:\\data\\segmentiation\\mr_train_test/mr_train/ mr_train_1002_image.nii\n",
      "loaded Image Shape (512, 512, 128)\n",
      "transformed image shape (512, 512, 128)\n",
      "Starting Padding Image shape (512, 512, 128)\n",
      "Reshaped shape (256, 256, 256, 1)\n",
      "Starting Padding Image shape (512, 512, 128)\n",
      "annotation shape (16777216,)\n",
      "unique value [0 1 2 3 4 5 6 7]\n",
      "processed mask shape (16777216, 8)\n",
      "Reshaped shape (256, 256, 256, 8)\n",
      "Mask shape when preproceesing ends (256, 256, 256, 8)\n",
      "Processing image 1\n",
      "Img shape when loaded (256, 256, 256, 1)\n",
      "img shape: (256, 256, 256, 1), img_raw shape: 33554432\n",
      "annotation_ shape: (256, 256, 256, 8), annotation_raw shape: 536870912\n"
     ]
    },
    {
     "name": "stderr",
     "output_type": "stream",
     "text": [
      "\n",
      " 10%|████████▎                                                                          | 2/20 [00:24<03:39, 12.19s/it]"
     ]
    },
    {
     "name": "stdout",
     "output_type": "stream",
     "text": [
      "D:\\data\\segmentiation\\mr_train_test/mr_train/ mr_train_1003_image.nii\n",
      "loaded Image Shape (288, 288, 160)\n",
      "transformed image shape (160, 288, 288)\n",
      "Starting Padding Image shape (160, 288, 288)\n",
      "Reshaped shape (256, 256, 256, 1)\n",
      "Starting Padding Image shape (160, 288, 288)\n",
      "annotation shape (16777216,)\n",
      "unique value [0 1 2 3 4 5 6 7]\n",
      "processed mask shape (16777216, 8)\n",
      "Reshaped shape (256, 256, 256, 8)\n",
      "Mask shape when preproceesing ends (256, 256, 256, 8)\n",
      "Processing image 2\n",
      "Img shape when loaded (256, 256, 256, 1)\n",
      "img shape: (256, 256, 256, 1), img_raw shape: 33554432\n",
      "annotation_ shape: (256, 256, 256, 8), annotation_raw shape: 536870912\n"
     ]
    },
    {
     "name": "stderr",
     "output_type": "stream",
     "text": [
      "\n",
      " 15%|████████████▍                                                                      | 3/20 [00:35<03:24, 12.01s/it]"
     ]
    },
    {
     "name": "stdout",
     "output_type": "stream",
     "text": [
      "D:\\data\\segmentiation\\mr_train_test/mr_train/ mr_train_1004_image.nii\n",
      "loaded Image Shape (288, 288, 120)\n",
      "transformed image shape (120, 288, 288)\n",
      "Starting Padding Image shape (120, 288, 288)\n",
      "Reshaped shape (256, 256, 256, 1)\n",
      "Starting Padding Image shape (120, 288, 288)\n",
      "annotation shape (16777216,)\n",
      "unique value [0 1 2 3 4 5 6 7]\n",
      "processed mask shape (16777216, 8)\n",
      "Reshaped shape (256, 256, 256, 8)\n",
      "Mask shape when preproceesing ends (256, 256, 256, 8)\n",
      "Processing image 3\n",
      "Img shape when loaded (256, 256, 256, 1)\n",
      "img shape: (256, 256, 256, 1), img_raw shape: 33554432\n",
      "annotation_ shape: (256, 256, 256, 8), annotation_raw shape: 536870912\n"
     ]
    },
    {
     "name": "stderr",
     "output_type": "stream",
     "text": [
      "\n",
      " 20%|████████████████▌                                                                  | 4/20 [00:47<03:07, 11.74s/it]"
     ]
    },
    {
     "name": "stdout",
     "output_type": "stream",
     "text": [
      "D:\\data\\segmentiation\\mr_train_test/mr_train/ mr_train_1005_image.nii\n",
      "loaded Image Shape (288, 288, 130)\n",
      "transformed image shape (130, 288, 288)\n",
      "Starting Padding Image shape (130, 288, 288)\n",
      "Reshaped shape (256, 256, 256, 1)\n",
      "Starting Padding Image shape (130, 288, 288)\n",
      "annotation shape (16777216,)\n",
      "unique value [0 1 2 3 4 5 6 7]\n",
      "processed mask shape (16777216, 8)\n",
      "Reshaped shape (256, 256, 256, 8)\n",
      "Mask shape when preproceesing ends (256, 256, 256, 8)\n",
      "Processing image 4\n",
      "Img shape when loaded (256, 256, 256, 1)\n",
      "img shape: (256, 256, 256, 1), img_raw shape: 33554432\n",
      "annotation_ shape: (256, 256, 256, 8), annotation_raw shape: 536870912\n"
     ]
    },
    {
     "name": "stderr",
     "output_type": "stream",
     "text": [
      "\n",
      " 25%|████████████████████▊                                                              | 5/20 [00:58<02:54, 11.61s/it]"
     ]
    },
    {
     "name": "stdout",
     "output_type": "stream",
     "text": [
      "D:\\data\\segmentiation\\mr_train_test/mr_train/ mr_train_1006_image.nii\n",
      "loaded Image Shape (256, 256, 160)\n",
      "transformed image shape (160, 256, 256)\n",
      "Starting Padding Image shape (160, 256, 256)\n",
      "Reshaped shape (256, 256, 256, 1)\n",
      "Starting Padding Image shape (160, 256, 256)\n",
      "annotation shape (16777216,)\n",
      "unique value [0 1 2 3 4 5 6 7]\n",
      "processed mask shape (16777216, 8)\n",
      "Reshaped shape (256, 256, 256, 8)\n",
      "Mask shape when preproceesing ends (256, 256, 256, 8)\n",
      "Processing image 5\n",
      "Img shape when loaded (256, 256, 256, 1)\n",
      "img shape: (256, 256, 256, 1), img_raw shape: 33554432\n",
      "annotation_ shape: (256, 256, 256, 8), annotation_raw shape: 536870912\n"
     ]
    },
    {
     "name": "stderr",
     "output_type": "stream",
     "text": [
      "\n",
      " 30%|████████████████████████▉                                                          | 6/20 [01:09<02:41, 11.51s/it]"
     ]
    },
    {
     "name": "stdout",
     "output_type": "stream",
     "text": [
      "D:\\data\\segmentiation\\mr_train_test/mr_train/ mr_train_1007_image.nii\n",
      "loaded Image Shape (288, 288, 180)\n",
      "transformed image shape (180, 288, 288)\n",
      "Starting Padding Image shape (180, 288, 288)\n",
      "Reshaped shape (256, 256, 256, 1)\n",
      "Starting Padding Image shape (180, 288, 288)\n",
      "annotation shape (16777216,)\n",
      "unique value [0 1 2 3 4 5 6 7]\n",
      "processed mask shape (16777216, 8)\n",
      "Reshaped shape (256, 256, 256, 8)\n",
      "Mask shape when preproceesing ends (256, 256, 256, 8)\n",
      "Processing image 6\n",
      "Img shape when loaded (256, 256, 256, 1)\n",
      "img shape: (256, 256, 256, 1), img_raw shape: 33554432\n",
      "annotation_ shape: (256, 256, 256, 8), annotation_raw shape: 536870912\n"
     ]
    },
    {
     "name": "stderr",
     "output_type": "stream",
     "text": [
      "\n",
      " 35%|█████████████████████████████                                                      | 7/20 [01:21<02:31, 11.62s/it]"
     ]
    },
    {
     "name": "stdout",
     "output_type": "stream",
     "text": [
      "D:\\data\\segmentiation\\mr_train_test/mr_train/ mr_train_1008_image.nii\n",
      "loaded Image Shape (288, 288, 130)\n",
      "transformed image shape (130, 288, 288)\n",
      "Starting Padding Image shape (130, 288, 288)\n",
      "Reshaped shape (256, 256, 256, 1)\n",
      "Starting Padding Image shape (130, 288, 288)\n",
      "annotation shape (16777216,)\n",
      "unique value [0 1 2 3 4 5 6 7]\n",
      "processed mask shape (16777216, 8)\n",
      "Reshaped shape (256, 256, 256, 8)\n",
      "Mask shape when preproceesing ends (256, 256, 256, 8)\n",
      "Processing image 7\n",
      "Img shape when loaded (256, 256, 256, 1)\n",
      "img shape: (256, 256, 256, 1), img_raw shape: 33554432\n",
      "annotation_ shape: (256, 256, 256, 8), annotation_raw shape: 536870912\n"
     ]
    },
    {
     "name": "stderr",
     "output_type": "stream",
     "text": [
      "\n",
      " 40%|█████████████████████████████████▏                                                 | 8/20 [01:32<02:18, 11.54s/it]"
     ]
    },
    {
     "name": "stdout",
     "output_type": "stream",
     "text": [
      "D:\\data\\segmentiation\\mr_train_test/mr_train/ mr_train_1009_image.nii\n",
      "loaded Image Shape (512, 512, 120)\n",
      "transformed image shape (512, 512, 120)\n",
      "Starting Padding Image shape (512, 512, 120)\n",
      "Reshaped shape (256, 256, 256, 1)\n",
      "Starting Padding Image shape (512, 512, 120)\n",
      "annotation shape (16777216,)\n",
      "unique value [0 1 2 3 4 5 6 7]\n",
      "processed mask shape (16777216, 8)\n",
      "Reshaped shape (256, 256, 256, 8)\n",
      "Mask shape when preproceesing ends (256, 256, 256, 8)\n",
      "Processing image 8\n",
      "Img shape when loaded (256, 256, 256, 1)\n",
      "img shape: (256, 256, 256, 1), img_raw shape: 33554432\n",
      "annotation_ shape: (256, 256, 256, 8), annotation_raw shape: 536870912\n"
     ]
    },
    {
     "name": "stderr",
     "output_type": "stream",
     "text": [
      "\n",
      " 45%|█████████████████████████████████████▎                                             | 9/20 [01:44<02:08, 11.65s/it]"
     ]
    },
    {
     "name": "stdout",
     "output_type": "stream",
     "text": [
      "D:\\data\\segmentiation\\mr_train_test/mr_train/ mr_train_1010_image.nii\n",
      "loaded Image Shape (288, 288, 160)\n",
      "transformed image shape (160, 288, 288)\n",
      "Starting Padding Image shape (160, 288, 288)\n",
      "Reshaped shape (256, 256, 256, 1)\n",
      "Outlier detected\n",
      "Starting Padding Image shape (160, 288, 288)\n",
      "annotation shape (16777216,)\n",
      "unique value [0 1 2 3 4 5 6 7]\n",
      "processed mask shape (16777216, 8)\n",
      "Reshaped shape (256, 256, 256, 8)\n",
      "Mask shape when preproceesing ends (256, 256, 256, 8)\n",
      "Processing image 9\n",
      "Img shape when loaded (256, 256, 256, 1)\n",
      "img shape: (256, 256, 256, 1), img_raw shape: 33554432\n",
      "annotation_ shape: (256, 256, 256, 8), annotation_raw shape: 536870912\n"
     ]
    },
    {
     "name": "stderr",
     "output_type": "stream",
     "text": [
      "\n",
      " 50%|█████████████████████████████████████████                                         | 10/20 [01:56<01:55, 11.55s/it]"
     ]
    },
    {
     "name": "stdout",
     "output_type": "stream",
     "text": [
      "D:\\data\\segmentiation\\mr_train_test/mr_train/ mr_train_1011_image.nii\n",
      "loaded Image Shape (288, 288, 160)\n",
      "transformed image shape (160, 288, 288)\n",
      "Starting Padding Image shape (160, 288, 288)\n",
      "Reshaped shape (256, 256, 256, 1)\n",
      "Starting Padding Image shape (160, 288, 288)\n",
      "annotation shape (16777216,)\n",
      "unique value [0 1 2 3 4 5 6 7]\n",
      "processed mask shape (16777216, 8)\n",
      "Reshaped shape (256, 256, 256, 8)\n",
      "Mask shape when preproceesing ends (256, 256, 256, 8)\n",
      "Processing image 10\n",
      "Img shape when loaded (256, 256, 256, 1)\n",
      "img shape: (256, 256, 256, 1), img_raw shape: 33554432\n",
      "annotation_ shape: (256, 256, 256, 8), annotation_raw shape: 536870912\n"
     ]
    },
    {
     "name": "stderr",
     "output_type": "stream",
     "text": [
      "\n",
      " 55%|█████████████████████████████████████████████                                     | 11/20 [02:07<01:44, 11.59s/it]"
     ]
    },
    {
     "name": "stdout",
     "output_type": "stream",
     "text": [
      "D:\\data\\segmentiation\\mr_train_test/mr_train/ mr_train_1012_image.nii\n",
      "loaded Image Shape (512, 512, 128)\n",
      "transformed image shape (512, 512, 128)\n",
      "Starting Padding Image shape (512, 512, 128)\n",
      "Reshaped shape (256, 256, 256, 1)\n",
      "Starting Padding Image shape (512, 512, 128)\n",
      "annotation shape (16777216,)\n",
      "unique value [0 1 2 3 4 5 6 7]\n",
      "processed mask shape (16777216, 8)\n",
      "Reshaped shape (256, 256, 256, 8)\n",
      "Mask shape when preproceesing ends (256, 256, 256, 8)\n",
      "Processing image 11\n",
      "Img shape when loaded (256, 256, 256, 1)\n",
      "img shape: (256, 256, 256, 1), img_raw shape: 33554432\n",
      "annotation_ shape: (256, 256, 256, 8), annotation_raw shape: 536870912\n"
     ]
    },
    {
     "name": "stderr",
     "output_type": "stream",
     "text": [
      "\n",
      " 60%|█████████████████████████████████████████████████▏                                | 12/20 [02:19<01:33, 11.70s/it]"
     ]
    },
    {
     "name": "stdout",
     "output_type": "stream",
     "text": [
      "D:\\data\\segmentiation\\mr_train_test/mr_train/ mr_train_1013_image.nii\n",
      "loaded Image Shape (512, 512, 112)\n",
      "transformed image shape (512, 512, 112)\n",
      "Starting Padding Image shape (512, 512, 112)\n",
      "Reshaped shape (256, 256, 256, 1)\n",
      "Starting Padding Image shape (512, 512, 112)\n",
      "annotation shape (16777216,)\n",
      "unique value [0 1 2 3 4 5 6 7]\n",
      "processed mask shape (16777216, 8)\n",
      "Reshaped shape (256, 256, 256, 8)\n",
      "Mask shape when preproceesing ends (256, 256, 256, 8)\n",
      "Processing image 12\n",
      "Img shape when loaded (256, 256, 256, 1)\n",
      "img shape: (256, 256, 256, 1), img_raw shape: 33554432\n",
      "annotation_ shape: (256, 256, 256, 8), annotation_raw shape: 536870912\n"
     ]
    },
    {
     "name": "stderr",
     "output_type": "stream",
     "text": [
      "\n",
      " 65%|█████████████████████████████████████████████████████▎                            | 13/20 [02:31<01:22, 11.76s/it]"
     ]
    },
    {
     "name": "stdout",
     "output_type": "stream",
     "text": [
      "D:\\data\\segmentiation\\mr_train_test/mr_train/ mr_train_1014_image.nii\n",
      "loaded Image Shape (512, 512, 160)\n",
      "transformed image shape (512, 512, 160)\n",
      "Starting Padding Image shape (512, 512, 160)\n",
      "Reshaped shape (256, 256, 256, 1)\n",
      "Starting Padding Image shape (512, 512, 160)\n",
      "annotation shape (16777216,)\n",
      "unique value [0 1 2 3 4 5 6 7]\n",
      "processed mask shape (16777216, 8)\n",
      "Reshaped shape (256, 256, 256, 8)\n",
      "Mask shape when preproceesing ends (256, 256, 256, 8)\n",
      "Processing image 13\n",
      "Img shape when loaded (256, 256, 256, 1)\n",
      "img shape: (256, 256, 256, 1), img_raw shape: 33554432\n",
      "annotation_ shape: (256, 256, 256, 8), annotation_raw shape: 536870912\n"
     ]
    },
    {
     "name": "stderr",
     "output_type": "stream",
     "text": [
      "\n",
      " 70%|█████████████████████████████████████████████████████████▍                        | 14/20 [02:43<01:11, 11.94s/it]"
     ]
    },
    {
     "name": "stdout",
     "output_type": "stream",
     "text": [
      "D:\\data\\segmentiation\\mr_train_test/mr_train/ mr_train_1015_image.nii\n",
      "loaded Image Shape (340, 340, 200)\n",
      "transformed image shape (200, 340, 340)\n",
      "Starting Padding Image shape (200, 340, 340)\n",
      "Reshaped shape (256, 256, 256, 1)\n",
      "Starting Padding Image shape (200, 340, 340)\n",
      "annotation shape (16777216,)\n",
      "unique value [0 1 2 3 4 5 6 7]\n",
      "processed mask shape (16777216, 8)\n",
      "Reshaped shape (256, 256, 256, 8)\n",
      "Mask shape when preproceesing ends (256, 256, 256, 8)\n",
      "Processing image 14\n",
      "Img shape when loaded (256, 256, 256, 1)\n",
      "img shape: (256, 256, 256, 1), img_raw shape: 33554432\n",
      "annotation_ shape: (256, 256, 256, 8), annotation_raw shape: 536870912\n"
     ]
    },
    {
     "name": "stderr",
     "output_type": "stream",
     "text": [
      "\n",
      " 75%|█████████████████████████████████████████████████████████████▌                    | 15/20 [02:56<00:59, 11.98s/it]"
     ]
    },
    {
     "name": "stdout",
     "output_type": "stream",
     "text": [
      "D:\\data\\segmentiation\\mr_train_test/mr_train/ mr_train_1016_image.nii\n",
      "loaded Image Shape (288, 288, 130)\n",
      "transformed image shape (130, 288, 288)\n",
      "Starting Padding Image shape (130, 288, 288)\n",
      "Reshaped shape (256, 256, 256, 1)\n",
      "Starting Padding Image shape (130, 288, 288)\n",
      "annotation shape (16777216,)\n",
      "unique value [0 1 2 3 4 5 6 7]\n",
      "processed mask shape (16777216, 8)\n",
      "Reshaped shape (256, 256, 256, 8)\n",
      "Mask shape when preproceesing ends (256, 256, 256, 8)\n",
      "Processing image 15\n",
      "Img shape when loaded (256, 256, 256, 1)\n",
      "img shape: (256, 256, 256, 1), img_raw shape: 33554432\n",
      "annotation_ shape: (256, 256, 256, 8), annotation_raw shape: 536870912\n"
     ]
    },
    {
     "name": "stderr",
     "output_type": "stream",
     "text": [
      "\n",
      " 80%|█████████████████████████████████████████████████████████████████▌                | 16/20 [03:07<00:47, 11.78s/it]"
     ]
    },
    {
     "name": "stdout",
     "output_type": "stream",
     "text": [
      "D:\\data\\segmentiation\\mr_train_test/mr_train/ mr_train_1017_image.nii\n",
      "loaded Image Shape (288, 288, 140)\n",
      "transformed image shape (140, 288, 288)\n",
      "Starting Padding Image shape (140, 288, 288)\n",
      "Reshaped shape (256, 256, 256, 1)\n",
      "Starting Padding Image shape (140, 288, 288)\n",
      "annotation shape (16777216,)\n",
      "unique value [0 1 2 3 4 5 6 7]\n",
      "processed mask shape (16777216, 8)\n",
      "Reshaped shape (256, 256, 256, 8)\n",
      "Mask shape when preproceesing ends (256, 256, 256, 8)\n",
      "Processing image 16\n",
      "Img shape when loaded (256, 256, 256, 1)\n",
      "img shape: (256, 256, 256, 1), img_raw shape: 33554432\n",
      "annotation_ shape: (256, 256, 256, 8), annotation_raw shape: 536870912\n"
     ]
    },
    {
     "name": "stderr",
     "output_type": "stream",
     "text": [
      "\n",
      " 85%|█████████████████████████████████████████████████████████████████████▋            | 17/20 [03:18<00:35, 11.69s/it]"
     ]
    },
    {
     "name": "stdout",
     "output_type": "stream",
     "text": [
      "D:\\data\\segmentiation\\mr_train_test/mr_train/ mr_train_1018_image.nii\n",
      "loaded Image Shape (288, 288, 150)\n",
      "transformed image shape (150, 288, 288)\n",
      "Starting Padding Image shape (150, 288, 288)\n",
      "Reshaped shape (256, 256, 256, 1)\n",
      "Starting Padding Image shape (150, 288, 288)\n",
      "annotation shape (16777216,)\n",
      "unique value [0 1 2 3 4 5 6 7]\n",
      "processed mask shape (16777216, 8)\n",
      "Reshaped shape (256, 256, 256, 8)\n",
      "Mask shape when preproceesing ends (256, 256, 256, 8)\n",
      "Processing image 17\n",
      "Img shape when loaded (256, 256, 256, 1)\n",
      "img shape: (256, 256, 256, 1), img_raw shape: 33554432\n",
      "annotation_ shape: (256, 256, 256, 8), annotation_raw shape: 536870912\n"
     ]
    },
    {
     "name": "stderr",
     "output_type": "stream",
     "text": [
      "\n",
      " 90%|█████████████████████████████████████████████████████████████████████████▊        | 18/20 [03:30<00:23, 11.69s/it]"
     ]
    },
    {
     "name": "stdout",
     "output_type": "stream",
     "text": [
      "D:\\data\\segmentiation\\mr_train_test/mr_train/ mr_train_1019_image.nii\n",
      "loaded Image Shape (288, 288, 135)\n",
      "transformed image shape (135, 288, 288)\n",
      "Starting Padding Image shape (135, 288, 288)\n",
      "Reshaped shape (256, 256, 256, 1)\n",
      "Starting Padding Image shape (135, 288, 288)\n",
      "annotation shape (16777216,)\n",
      "unique value [0 1 2 3 4 5 6 7]\n",
      "processed mask shape (16777216, 8)\n",
      "Reshaped shape (256, 256, 256, 8)\n",
      "Mask shape when preproceesing ends (256, 256, 256, 8)\n",
      "Processing image 18\n",
      "Img shape when loaded (256, 256, 256, 1)\n",
      "img shape: (256, 256, 256, 1), img_raw shape: 33554432\n",
      "annotation_ shape: (256, 256, 256, 8), annotation_raw shape: 536870912\n"
     ]
    },
    {
     "name": "stderr",
     "output_type": "stream",
     "text": [
      "\n",
      " 95%|█████████████████████████████████████████████████████████████████████████████▉    | 19/20 [03:41<00:11, 11.60s/it]"
     ]
    },
    {
     "name": "stdout",
     "output_type": "stream",
     "text": [
      "D:\\data\\segmentiation\\mr_train_test/mr_train/ mr_train_1020_image.nii\n",
      "loaded Image Shape (288, 288, 135)\n",
      "transformed image shape (135, 288, 288)\n",
      "Starting Padding Image shape (135, 288, 288)\n",
      "Reshaped shape (256, 256, 256, 1)\n",
      "Starting Padding Image shape (135, 288, 288)\n",
      "annotation shape (16777216,)\n",
      "unique value [0 1 2 3 4 5 6 7]\n",
      "processed mask shape (16777216, 8)\n",
      "Reshaped shape (256, 256, 256, 8)\n",
      "Mask shape when preproceesing ends (256, 256, 256, 8)\n",
      "Processing image 19\n",
      "Img shape when loaded (256, 256, 256, 1)\n",
      "img shape: (256, 256, 256, 1), img_raw shape: 33554432\n",
      "annotation_ shape: (256, 256, 256, 8), annotation_raw shape: 536870912\n"
     ]
    },
    {
     "name": "stderr",
     "output_type": "stream",
     "text": [
      "\n",
      "100%|██████████████████████████████████████████████████████████████████████████████████| 20/20 [03:53<00:00, 11.52s/it]\n"
     ]
    }
   ],
   "source": [
    "mr_set = os.path.join(root,'mr_train_test/mr_train/')\n",
    "mr_set_test =  os.path.join(root,'mr_train_test/mr_test/')\n",
    "\n",
    "## 여기 바꾸면서 ct, mr 파일 만들기\n",
    "temp_path = mr_set\n",
    "\n",
    "name_list = []\n",
    "filenames = os.listdir(temp_path)\n",
    "\n",
    "for i in filenames:\n",
    "    if i[:13] not in name_list:\n",
    "        name_list.append(i[:13])\n",
    "        \n",
    "total_list = []\n",
    "for i in name_list:\n",
    "    temp_name = i\n",
    "    temp_image = i+'_image.nii'\n",
    "    temp_label = i+'_label.nii'\n",
    "    total_list.append({'name' : temp_name,'image':temp_image,'label':temp_label})\n",
    "\n",
    "    \n",
    "# Label Encoder 선언\n",
    "label_encoder = preprocessing.LabelEncoder()\n",
    "class_num=7+1\n",
    "print(\"starting gen\")\n",
    "    \n",
    "    \n",
    "## 전처리 Generator\n",
    "preprocess_gen = pre_process_tfrecord_write_itr_mr(temp_path,total_list,new_size=256,test =False)\n",
    "\n",
    "\n",
    "out_file = temp_path.split('/')[-2] + '_tfrecord'\n",
    "tfrecords_filename =os.path.join(root, out_file)\n",
    "\n",
    "## Tf Record 형식으로 저장\n",
    "write_image_annotation_pairs_to_tfrecord_from_gen(preprocess_gen,tfrecords_filename, test=False)\n"
   ]
  },
  {
   "cell_type": "markdown",
   "metadata": {},
   "source": [
    "## For Memory Error (Optional)"
   ]
  },
  {
   "cell_type": "code",
   "execution_count": 12,
   "metadata": {},
   "outputs": [
    {
     "name": "stderr",
     "output_type": "stream",
     "text": [
      "\n",
      "\n",
      "  0%|                                                                                           | 0/20 [00:00<?, ?it/s]"
     ]
    },
    {
     "name": "stdout",
     "output_type": "stream",
     "text": [
      "image shape (16777216,)\n",
      "unique value [0 1 2 3 4 5 6 7]\n",
      "Start MASKING==================================================\n"
     ]
    },
    {
     "name": "stderr",
     "output_type": "stream",
     "text": [
      "\n",
      "\n",
      "  5%|████▏                                                                              | 1/20 [00:35<11:17, 35.67s/it]"
     ]
    },
    {
     "name": "stdout",
     "output_type": "stream",
     "text": [
      "image shape (16777216,)\n",
      "unique value [0 1 2 3 4 5 6 7]\n",
      "Start MASKING==================================================\n"
     ]
    },
    {
     "name": "stderr",
     "output_type": "stream",
     "text": [
      "\n",
      "\n",
      " 10%|████████▎                                                                          | 2/20 [01:11<10:42, 35.71s/it]"
     ]
    },
    {
     "name": "stdout",
     "output_type": "stream",
     "text": [
      "image shape (16777216,)\n",
      "unique value [0 1 2 3 4 5 6 7]\n",
      "Start MASKING==================================================\n"
     ]
    },
    {
     "name": "stderr",
     "output_type": "stream",
     "text": [
      "\n",
      "\n",
      " 15%|████████████▍                                                                      | 3/20 [01:51<10:29, 37.01s/it]"
     ]
    },
    {
     "name": "stdout",
     "output_type": "stream",
     "text": [
      "image shape (16777216,)\n",
      "unique value [0 1 2 3 4 5 6 7]\n",
      "Start MASKING==================================================\n"
     ]
    },
    {
     "name": "stderr",
     "output_type": "stream",
     "text": [
      "\n",
      "\n",
      " 20%|████████████████▌                                                                  | 4/20 [02:25<09:38, 36.18s/it]"
     ]
    },
    {
     "name": "stdout",
     "output_type": "stream",
     "text": [
      "image shape (16777216,)\n",
      "unique value [0 1 2 3 4 5 6 7]\n",
      "Start MASKING==================================================\n"
     ]
    },
    {
     "name": "stderr",
     "output_type": "stream",
     "text": [
      "\n",
      "\n",
      " 25%|████████████████████▊                                                              | 5/20 [02:58<08:48, 35.22s/it]"
     ]
    },
    {
     "name": "stdout",
     "output_type": "stream",
     "text": [
      "image shape (16777216,)\n",
      "unique value [0 1 2 3 4 5 6 7]\n",
      "Start MASKING==================================================\n"
     ]
    },
    {
     "name": "stderr",
     "output_type": "stream",
     "text": [
      "\n",
      "\n",
      " 30%|████████████████████████▉                                                          | 6/20 [03:35<08:18, 35.60s/it]"
     ]
    },
    {
     "name": "stdout",
     "output_type": "stream",
     "text": [
      "image shape (16777216,)\n",
      "unique value [0 1 2 3 4 5 6 7]\n",
      "Start MASKING==================================================\n"
     ]
    },
    {
     "name": "stderr",
     "output_type": "stream",
     "text": [
      "\n",
      "\n",
      " 35%|█████████████████████████████                                                      | 7/20 [04:14<07:55, 36.57s/it]"
     ]
    },
    {
     "name": "stdout",
     "output_type": "stream",
     "text": [
      "image shape (16777216,)\n",
      "unique value [0 1 2 3 4 5 6 7]\n",
      "Start MASKING==================================================\n"
     ]
    },
    {
     "name": "stderr",
     "output_type": "stream",
     "text": [
      "\n",
      "\n",
      " 40%|█████████████████████████████████▏                                                 | 8/20 [04:48<07:09, 35.83s/it]"
     ]
    },
    {
     "name": "stdout",
     "output_type": "stream",
     "text": [
      "image shape (16777216,)\n",
      "unique value [0 1 2 3 4 5 6 7]\n",
      "Start MASKING==================================================\n"
     ]
    },
    {
     "name": "stderr",
     "output_type": "stream",
     "text": [
      "\n",
      "\n",
      " 45%|█████████████████████████████████████▎                                             | 9/20 [05:28<06:48, 37.14s/it]"
     ]
    }
   ],
   "source": [
    "## For Low memory Setting\n",
    "## preprocessing -> pickling -> tfrecord\n",
    "\n",
    "outpath = r\"D:\\segmentiation\\scipy_pickle_test0.pkl\"\n",
    "memory_error_list = []\n",
    "cnt = 0\n",
    "\n",
    "label_encoder = preprocessing.LabelEncoder()\n",
    "class_num=7+1\n",
    "## Making padded image\n",
    "\n",
    "todolist = [i for i in total_list]\n",
    "\n",
    "\n",
    "\n",
    "with open(outpath,\"wb\") as f:\n",
    "    pickler = pickle.Pickler(f)\n",
    "    for  record in tqdm(todolist):\n",
    "\n",
    "\n",
    "        try :\n",
    "\n",
    "            file_name = record['name']\n",
    "            img_fname = record['image']\n",
    "            label_fname = record['label']\n",
    "\n",
    "\n",
    "\n",
    "            # nii load // 이 결과가가 원래 결과랑 같은 지 확인 하자\n",
    "            img = nii_loader(ct_set,img_fname)\n",
    "            lab = nii_loader(ct_set, label_fname)\n",
    "\n",
    "\n",
    "            img = pad3d(img.get_data())\n",
    "            img = image_preprocess(img,new_size=256)\n",
    "\n",
    "            lab = pad3d(lab.get_data())\n",
    "            lab = image_preprocess(lab,new_size=256,mask=True)\n",
    "\n",
    "\n",
    "\n",
    "            print(\"Start MASKING\"+\"=====\"*10)\n",
    "\n",
    "            List = {'filename':file_name,'image': img, 'label':  lab}\n",
    "            pickler.dump(List)\n",
    "\n",
    "            del file_name, img_fname, label_fname, img, lab\n",
    "            \n",
    "            print(\"Dumping\",cnt)\n",
    "            cnt += 1\n",
    "\n",
    "        except MemoryError:\n",
    "            print(\"Memory Error\")\n",
    "            todolist = total_list[cnt:]\n",
    "            break\n",
    "\n",
    "outpath = outpath[:-5] + str(int(outpath[-5]) + 1) + str(\".pkl\")"
   ]
  },
  {
   "cell_type": "code",
   "execution_count": 24,
   "metadata": {},
   "outputs": [
    {
     "name": "stderr",
     "output_type": "stream",
     "text": [
      "\n",
      "\n",
      "\n",
      "  0%|                                                                                           | 0/11 [00:00<?, ?it/s]"
     ]
    },
    {
     "name": "stdout",
     "output_type": "stream",
     "text": [
      "image shape (16777216,)\n",
      "unique value [0 1 2 3 4 5 6 7]\n",
      "Start MASKING==================================================\n",
      "Dumping 9\n"
     ]
    },
    {
     "name": "stderr",
     "output_type": "stream",
     "text": [
      "\n",
      "\n",
      "\n",
      "  9%|███████▌                                                                           | 1/11 [00:33<05:36, 33.69s/it]"
     ]
    },
    {
     "name": "stdout",
     "output_type": "stream",
     "text": [
      "image shape (16777216,)\n",
      "unique value [0 1 2 3 4 5 6 7]\n",
      "Start MASKING==================================================\n",
      "Dumping 10\n"
     ]
    },
    {
     "name": "stderr",
     "output_type": "stream",
     "text": [
      "\n",
      "\n",
      "\n",
      " 18%|███████████████                                                                    | 2/11 [01:09<05:09, 34.40s/it]"
     ]
    },
    {
     "name": "stdout",
     "output_type": "stream",
     "text": [
      "image shape (16777216,)\n",
      "unique value [0 1 2 3 4 5 6 7]\n",
      "Start MASKING==================================================\n",
      "Dumping 11\n"
     ]
    },
    {
     "name": "stderr",
     "output_type": "stream",
     "text": [
      "\n",
      "\n",
      "\n",
      " 27%|██████████████████████▋                                                            | 3/11 [01:42<04:32, 34.00s/it]"
     ]
    },
    {
     "name": "stdout",
     "output_type": "stream",
     "text": [
      "image shape (16777216,)\n",
      "unique value [0 1 2 3 4 5 6 7]\n",
      "Start MASKING==================================================\n",
      "Dumping 12\n"
     ]
    },
    {
     "name": "stderr",
     "output_type": "stream",
     "text": [
      "\n",
      "\n",
      "\n",
      " 36%|██████████████████████████████▏                                                    | 4/11 [02:20<04:04, 34.98s/it]"
     ]
    },
    {
     "name": "stdout",
     "output_type": "stream",
     "text": [
      "image shape (16777216,)\n",
      "unique value [0 1 2 3 4 5 6 7]\n",
      "Start MASKING==================================================\n",
      "Dumping 13\n"
     ]
    },
    {
     "name": "stderr",
     "output_type": "stream",
     "text": [
      "\n",
      "\n",
      "\n",
      " 45%|█████████████████████████████████████▋                                             | 5/11 [03:02<03:43, 37.31s/it]"
     ]
    },
    {
     "name": "stdout",
     "output_type": "stream",
     "text": [
      "image shape (16777216,)\n",
      "unique value [0 1 2 3 4 5 6 7]\n",
      "Start MASKING==================================================\n",
      "Dumping 14\n"
     ]
    },
    {
     "name": "stderr",
     "output_type": "stream",
     "text": [
      "\n",
      "\n",
      "\n",
      " 55%|█████████████████████████████████████████████▎                                     | 6/11 [03:42<03:09, 37.98s/it]"
     ]
    },
    {
     "name": "stdout",
     "output_type": "stream",
     "text": [
      "image shape (16777216,)\n",
      "unique value [0 1 2 3 4 5 6 7]\n",
      "Start MASKING==================================================\n",
      "Dumping 15\n"
     ]
    },
    {
     "name": "stderr",
     "output_type": "stream",
     "text": [
      "\n",
      "\n",
      "\n",
      " 64%|████████████████████████████████████████████████████▊                              | 7/11 [04:23<02:36, 39.03s/it]"
     ]
    },
    {
     "name": "stdout",
     "output_type": "stream",
     "text": [
      "image shape (16777216,)\n",
      "unique value [0 1 2 3 4 5 6 7]\n",
      "Start MASKING==================================================\n",
      "Dumping 16\n"
     ]
    },
    {
     "name": "stderr",
     "output_type": "stream",
     "text": [
      "\n",
      "\n",
      "\n",
      " 73%|████████████████████████████████████████████████████████████▎                      | 8/11 [05:03<01:57, 39.21s/it]"
     ]
    },
    {
     "name": "stdout",
     "output_type": "stream",
     "text": [
      "image shape (16777216,)\n",
      "unique value [0 1 2 3 4 5 6 7]\n",
      "Start MASKING==================================================\n",
      "Dumping 17\n"
     ]
    },
    {
     "name": "stderr",
     "output_type": "stream",
     "text": [
      "\n",
      "\n",
      "\n",
      " 82%|███████████████████████████████████████████████████████████████████▉               | 9/11 [05:36<01:14, 37.45s/it]"
     ]
    },
    {
     "name": "stdout",
     "output_type": "stream",
     "text": [
      "Memory Error\n"
     ]
    },
    {
     "ename": "ValueError",
     "evalue": "invalid literal for int() with base 10: '.'",
     "output_type": "error",
     "traceback": [
      "\u001b[1;31m---------------------------------------------------------------------------\u001b[0m",
      "\u001b[1;31mValueError\u001b[0m                                Traceback (most recent call last)",
      "\u001b[1;32m<ipython-input-24-115999b7992e>\u001b[0m in \u001b[0;36m<module>\u001b[1;34m()\u001b[0m\n\u001b[0;32m     40\u001b[0m             \u001b[1;32mbreak\u001b[0m\u001b[1;33m\u001b[0m\u001b[0m\n\u001b[0;32m     41\u001b[0m \u001b[1;33m\u001b[0m\u001b[0m\n\u001b[1;32m---> 42\u001b[1;33m \u001b[0moutpath\u001b[0m \u001b[1;33m=\u001b[0m \u001b[0moutpath\u001b[0m\u001b[1;33m[\u001b[0m\u001b[1;33m:\u001b[0m\u001b[1;33m-\u001b[0m\u001b[1;36m4\u001b[0m\u001b[1;33m]\u001b[0m \u001b[1;33m+\u001b[0m \u001b[0mstr\u001b[0m\u001b[1;33m(\u001b[0m\u001b[0mint\u001b[0m\u001b[1;33m(\u001b[0m\u001b[0moutpath\u001b[0m\u001b[1;33m[\u001b[0m\u001b[1;33m-\u001b[0m\u001b[1;36m4\u001b[0m\u001b[1;33m]\u001b[0m\u001b[1;33m)\u001b[0m \u001b[1;33m+\u001b[0m \u001b[1;36m1\u001b[0m\u001b[1;33m)\u001b[0m \u001b[1;33m+\u001b[0m \u001b[0mstr\u001b[0m\u001b[1;33m(\u001b[0m\u001b[1;34m\".pkl\"\u001b[0m\u001b[1;33m)\u001b[0m\u001b[1;33m\u001b[0m\u001b[0m\n\u001b[0m",
      "\u001b[1;31mValueError\u001b[0m: invalid literal for int() with base 10: '.'"
     ]
    }
   ],
   "source": [
    "with open(outpath,\"wb\") as f:\n",
    "    pickler = pickle.Pickler(f)\n",
    "    for  record in tqdm(todolist):\n",
    "\n",
    "\n",
    "        try :\n",
    "\n",
    "            file_name = record['name']\n",
    "            img_fname = record['image']\n",
    "            label_fname = record['label']\n",
    "\n",
    "\n",
    "\n",
    "            # nii load // 이 결과가가 원래 결과랑 같은 지 확인 하자\n",
    "            img = nii_loader(ct_set,img_fname)\n",
    "            lab = nii_loader(ct_set, label_fname)\n",
    "\n",
    "\n",
    "            img = pad3d(img.get_data())\n",
    "            img = image_preprocess(img,new_size=256)\n",
    "\n",
    "            lab = pad3d(lab.get_data())\n",
    "            lab = image_preprocess(lab,new_size=256,mask=True)\n",
    "\n",
    "\n",
    "\n",
    "            print(\"Start MASKING\"+\"=====\"*10)\n",
    "\n",
    "            List = {'filename':file_name,'image': img, 'label':  lab}\n",
    "            pickler.dump(List)\n",
    "\n",
    "            del file_name, img_fname, label_fname, img, lab\n",
    "            \n",
    "            print(\"Dumping\",cnt)\n",
    "            cnt += 1\n",
    "\n",
    "        except MemoryError:\n",
    "            print(\"Memory Error\")\n",
    "            todolist = total_list[cnt:]\n",
    "            break\n",
    "\n",
    "outpath = outpath[:-4] + str(int(outpath[-5]) + 1) + str(\".pkl\")"
   ]
  },
  {
   "cell_type": "code",
   "execution_count": 67,
   "metadata": {},
   "outputs": [
    {
     "name": "stderr",
     "output_type": "stream",
     "text": [
      "\n",
      "\n",
      "\n",
      "\n",
      "  0%|                                                                                            | 0/2 [00:00<?, ?it/s]"
     ]
    },
    {
     "name": "stdout",
     "output_type": "stream",
     "text": [
      "image shape (16777216,)\n",
      "unique value [0 1 2 3 4 5 6 7]\n",
      "Start MASKING==================================================\n",
      "Dumping 18\n"
     ]
    },
    {
     "name": "stderr",
     "output_type": "stream",
     "text": [
      "\n",
      "\n",
      "\n",
      "\n",
      " 50%|██████████████████████████████████████████                                          | 1/2 [00:33<00:33, 33.28s/it]"
     ]
    },
    {
     "name": "stdout",
     "output_type": "stream",
     "text": [
      "image shape (16777216,)\n",
      "unique value [0 1 2 3 4 5 6 7]\n",
      "Start MASKING==================================================\n",
      "Dumping 19\n"
     ]
    },
    {
     "name": "stderr",
     "output_type": "stream",
     "text": [
      "\n",
      "\n",
      "\n",
      "\n",
      "100%|████████████████████████████████████████████████████████████████████████████████████| 2/2 [01:14<00:00, 35.60s/it]\n",
      "\n",
      "\n",
      "\n"
     ]
    }
   ],
   "source": [
    "with open(outpath,\"wb\") as f:\n",
    "    pickler = pickle.Pickler(f)\n",
    "    for  record in tqdm(todolist):\n",
    "\n",
    "        try :\n",
    "\n",
    "            file_name = record['name']\n",
    "            img_fname = record['image']\n",
    "            label_fname = record['label']\n",
    "\n",
    "\n",
    "\n",
    "            # nii load // 이 결과가가 원래 결과랑 같은 지 확인 하자\n",
    "            img = nii_loader(ct_set,img_fname)\n",
    "            lab = nii_loader(ct_set, label_fname)\n",
    "\n",
    "\n",
    "            img = pad3d(img.get_data())\n",
    "            img = image_preprocess(img,new_size=256)\n",
    "\n",
    "            lab = pad3d(lab.get_data())\n",
    "            lab = image_preprocess(lab,new_size=256,mask=True)\n",
    "\n",
    "\n",
    "\n",
    "            print(\"Start MASKING\"+\"=====\"*10)\n",
    "\n",
    "            List = {'filename':file_name,'image': img, 'label':  lab}\n",
    "            pickler.dump(List)\n",
    "\n",
    "            del file_name, img_fname, label_fname, img, lab\n",
    "            \n",
    "            print(\"Dumping\",cnt)\n",
    "            cnt += 1\n",
    "\n",
    "        except MemoryError:\n",
    "            print(\"Memory Error\")\n",
    "            todolist = total_list[cnt:]\n",
    "            break\n",
    "\n",
    "outpath = outpath[:-4] + str(int(outpath[-4]) + 1) + str(\".pkl\")"
   ]
  },
  {
   "cell_type": "code",
   "execution_count": 78,
   "metadata": {},
   "outputs": [
    {
     "name": "stdout",
     "output_type": "stream",
     "text": [
      "0\n",
      "dict_keys(['filename', 'image', 'label'])\n",
      "(256, 256, 256, 1)\n",
      "img shape: (256, 256, 256, 1), img_raw shape: 134217728\n",
      "annotation_ shape: (256, 256, 256, 8), annotation_raw shape: 536870912\n",
      "1\n",
      "dict_keys(['filename', 'image', 'label'])\n",
      "(256, 256, 256, 1)\n",
      "img shape: (256, 256, 256, 1), img_raw shape: 134217728\n",
      "annotation_ shape: (256, 256, 256, 8), annotation_raw shape: 536870912\n",
      "2\n",
      "dict_keys(['filename', 'image', 'label'])\n",
      "(256, 256, 256, 1)\n",
      "img shape: (256, 256, 256, 1), img_raw shape: 134217728\n",
      "annotation_ shape: (256, 256, 256, 8), annotation_raw shape: 536870912\n",
      "3\n",
      "dict_keys(['filename', 'image', 'label'])\n",
      "(256, 256, 256, 1)\n",
      "img shape: (256, 256, 256, 1), img_raw shape: 134217728\n",
      "annotation_ shape: (256, 256, 256, 8), annotation_raw shape: 536870912\n",
      "4\n",
      "dict_keys(['filename', 'image', 'label'])\n",
      "(256, 256, 256, 1)\n",
      "img shape: (256, 256, 256, 1), img_raw shape: 134217728\n",
      "annotation_ shape: (256, 256, 256, 8), annotation_raw shape: 536870912\n",
      "5\n",
      "dict_keys(['filename', 'image', 'label'])\n",
      "(256, 256, 256, 1)\n",
      "img shape: (256, 256, 256, 1), img_raw shape: 134217728\n",
      "annotation_ shape: (256, 256, 256, 8), annotation_raw shape: 536870912\n",
      "6\n",
      "dict_keys(['filename', 'image', 'label'])\n",
      "(256, 256, 256, 1)\n",
      "img shape: (256, 256, 256, 1), img_raw shape: 134217728\n",
      "annotation_ shape: (256, 256, 256, 8), annotation_raw shape: 536870912\n",
      "7\n",
      "dict_keys(['filename', 'image', 'label'])\n",
      "(256, 256, 256, 1)\n",
      "img shape: (256, 256, 256, 1), img_raw shape: 134217728\n",
      "annotation_ shape: (256, 256, 256, 8), annotation_raw shape: 536870912\n",
      "8\n",
      "dict_keys(['filename', 'image', 'label'])\n",
      "(256, 256, 256, 1)\n",
      "img shape: (256, 256, 256, 1), img_raw shape: 134217728\n",
      "annotation_ shape: (256, 256, 256, 8), annotation_raw shape: 536870912\n",
      "pickle generator created\n",
      "0\n",
      "dict_keys(['filename', 'image', 'label'])\n",
      "(256, 256, 256, 1)\n",
      "img shape: (256, 256, 256, 1), img_raw shape: 134217728\n",
      "annotation_ shape: (256, 256, 256, 8), annotation_raw shape: 536870912\n",
      "1\n",
      "dict_keys(['filename', 'image', 'label'])\n",
      "(256, 256, 256, 1)\n",
      "img shape: (256, 256, 256, 1), img_raw shape: 134217728\n",
      "annotation_ shape: (256, 256, 256, 8), annotation_raw shape: 536870912\n",
      "2\n",
      "dict_keys(['filename', 'image', 'label'])\n",
      "(256, 256, 256, 1)\n",
      "img shape: (256, 256, 256, 1), img_raw shape: 134217728\n",
      "annotation_ shape: (256, 256, 256, 8), annotation_raw shape: 536870912\n",
      "3\n",
      "dict_keys(['filename', 'image', 'label'])\n",
      "(256, 256, 256, 1)\n",
      "img shape: (256, 256, 256, 1), img_raw shape: 134217728\n",
      "annotation_ shape: (256, 256, 256, 8), annotation_raw shape: 536870912\n",
      "4\n",
      "dict_keys(['filename', 'image', 'label'])\n",
      "(256, 256, 256, 1)\n",
      "img shape: (256, 256, 256, 1), img_raw shape: 134217728\n",
      "annotation_ shape: (256, 256, 256, 8), annotation_raw shape: 536870912\n",
      "5\n",
      "dict_keys(['filename', 'image', 'label'])\n",
      "(256, 256, 256, 1)\n",
      "img shape: (256, 256, 256, 1), img_raw shape: 134217728\n",
      "annotation_ shape: (256, 256, 256, 8), annotation_raw shape: 536870912\n",
      "6\n",
      "dict_keys(['filename', 'image', 'label'])\n",
      "(256, 256, 256, 1)\n",
      "img shape: (256, 256, 256, 1), img_raw shape: 134217728\n",
      "annotation_ shape: (256, 256, 256, 8), annotation_raw shape: 536870912\n",
      "7\n",
      "dict_keys(['filename', 'image', 'label'])\n",
      "(256, 256, 256, 1)\n",
      "img shape: (256, 256, 256, 1), img_raw shape: 134217728\n",
      "annotation_ shape: (256, 256, 256, 8), annotation_raw shape: 536870912\n",
      "8\n",
      "dict_keys(['filename', 'image', 'label'])\n",
      "(256, 256, 256, 1)\n",
      "img shape: (256, 256, 256, 1), img_raw shape: 134217728\n",
      "annotation_ shape: (256, 256, 256, 8), annotation_raw shape: 536870912\n",
      "pickle generator created\n",
      "0\n",
      "dict_keys(['filename', 'image', 'label'])\n",
      "(256, 256, 256, 1)\n",
      "img shape: (256, 256, 256, 1), img_raw shape: 134217728\n",
      "annotation_ shape: (256, 256, 256, 8), annotation_raw shape: 536870912\n",
      "1\n",
      "dict_keys(['filename', 'image', 'label'])\n",
      "(256, 256, 256, 1)\n",
      "img shape: (256, 256, 256, 1), img_raw shape: 134217728\n",
      "annotation_ shape: (256, 256, 256, 8), annotation_raw shape: 536870912\n",
      "pickle generator created\n"
     ]
    }
   ],
   "source": [
    "pkl_itr1 = pickle_iter(r'D:\\segmentiation\\scipy_pickle_test0.pkl')\n",
    "pkl_itr2 = pickle_iter(r'D:\\segmentiation\\scipy_pickle_test1.pkl')\n",
    "pkl_itr3 = pickle_iter(r'D:\\segmentiation\\scipy_pickle_test2.pkl')\n",
    "\n",
    "pkl_itr_list = [pkl_itr1, pkl_itr2, pkl_itr3]\n",
    "\n",
    "tfrecords_filename = r\"D:\\segmentiation\\scipy_tfrecord_compression.tfrecord\"\n",
    "write_image_annotation_pairs_to_tfrecord_from_listitr(pkl_itr_list, tfrecords_filename)\n"
   ]
  }
 ],
 "metadata": {
  "kernelspec": {
   "display_name": "Python 3",
   "language": "python",
   "name": "python3"
  },
  "language_info": {
   "codemirror_mode": {
    "name": "ipython",
    "version": 3
   },
   "file_extension": ".py",
   "mimetype": "text/x-python",
   "name": "python",
   "nbconvert_exporter": "python",
   "pygments_lexer": "ipython3",
   "version": "3.5.6"
  }
 },
 "nbformat": 4,
 "nbformat_minor": 2
}
