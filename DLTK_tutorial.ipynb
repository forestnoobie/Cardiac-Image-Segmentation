{
 "cells": [
  {
   "cell_type": "code",
   "execution_count": 49,
   "metadata": {},
   "outputs": [],
   "source": [
    "import SimpleITK as sitk\n",
    "import os\n",
    "import tensorflow as tf\n",
    "import pandas as pd\n",
    "import time\n",
    "import nibabel as nib\n",
    "\n",
    "from matplotlib import pyplot as plt\n",
    "from dltk.io.augmentation import *\n",
    "from dltk.io.preprocessing import *\n",
    "\n",
    "%matplotlib inline"
   ]
  },
  {
   "cell_type": "code",
   "execution_count": 3,
   "metadata": {},
   "outputs": [],
   "source": [
    "class Timer(object):\n",
    "    \n",
    "    def __init__(self,name):\n",
    "        self.name = name\n",
    "    \n",
    "    def __enter__(self):\n",
    "        self.t = time.time()\n",
    "    \n",
    "    def __exit__(self, *args, **kwargs):\n",
    "        print(\"{} took {} seconds\".format(\n",
    "        self.name, time.time() - self.t))"
   ]
  },
  {
   "cell_type": "code",
   "execution_count": 4,
   "metadata": {},
   "outputs": [],
   "source": [
    "batch_size = 5\n",
    "iterations = 100\n",
    "\n",
    "reader_params = {'n_example': 1,\n",
    "                'example_size': [128,224,224],\n",
    "                'extract_examples': True}\n",
    "\n",
    "reader_example_shapes = {'feautres': {'x': tf.float32},\n",
    "                        'label': {'y' : tf.int32} }\n",
    "\n",
    "reader_example_dtypes = {'features': {'x': tf.float32},\n",
    "                        'labe;s': {'y': tf.int32}}"
   ]
  },
  {
   "cell_type": "markdown",
   "metadata": {},
   "source": [
    "## Reading Data with DLTK"
   ]
  },
  {
   "cell_type": "code",
   "execution_count": 5,
   "metadata": {},
   "outputs": [],
   "source": [
    "import SimpleITK as sitk\n",
    "import os\n",
    "from dltk.io.augmentation import *\n",
    "from dltk.io.preprocessing import *\n",
    "import tensorflow as tf\n"
   ]
  },
  {
   "cell_type": "code",
   "execution_count": 6,
   "metadata": {},
   "outputs": [],
   "source": [
    "root = 'D:\\segmentiation/'\n",
    "ct_set = os.path.join(root,'ct_train_test/ct_train/')\n",
    "mr_set = os.path.join(root,'mr_train_test/mr_train/')\n",
    "\n",
    "name_list = []\n",
    "filenames = os.listdir(ct_set)\n",
    "\n",
    "for i in filenames:\n",
    "    if i[:13] not in name_list:\n",
    "        name_list.append(i[:13])\n",
    "        \n",
    "total_list = []\n",
    "for i in name_list:\n",
    "    temp_name = i\n",
    "    temp_image = i+'_image.nii'\n",
    "    temp_label = i+'_label.nii'\n",
    "    total_list.append({'name' : temp_name,'image':temp_image,'label':temp_label})"
   ]
  },
  {
   "cell_type": "markdown",
   "metadata": {},
   "source": [
    "* Reader Function을 이용해서 파일들을 읽어 온다\n",
    "* read_fn(file_references, mode, params=None)\n",
    "* file_refrences : 파일을 읽기 위한 array 같은 변수\n",
    "\n",
    "\n"
   ]
  },
  {
   "cell_type": "code",
   "execution_count": 59,
   "metadata": {},
   "outputs": [],
   "source": [
    "## Making Read_fn\n",
    "\n",
    "data_path = ct_set\n",
    "\n",
    "def read_fn(file_reference, mode, params=None):\n",
    "    \n",
    "    \n",
    "    ## file_refrences를 파일 path로 일단 생각하자\n",
    "    \n",
    "    for file_dict in file_reference:\n",
    "        \n",
    "        file_name = file_dict['name']\n",
    "        file_image = file_dict['image']\n",
    "        file_label = file_dict['label']\n",
    "        \n",
    "        \n",
    "        ## 이미지 데이터를 로드하는 함수 인듯?\n",
    "        temp_path =os.path.join(data_path,file_image)\n",
    "        temp_file = os.listdir(temp_path)\n",
    "        t1_fn = os.path.join(temp_path,temp_file[0])\n",
    "        \n",
    "        ## Read nii -> image\n",
    "        sitk_t1 = sitk.ReadImage(t1_fn)\n",
    "        t1 = sitk.GetArrayFromImage(sitk_t1)\n",
    "        \n",
    "        ## whitening , 평균 0, 표준편차 1로 만들자\n",
    "        t1 = whitening(t1)\n",
    "        \n",
    "        # 4D Tensor with a dummy dimension for channels\n",
    "        # ex (363, 512, 512) --> (362, 512, 512, 1)\n",
    "        t1 = t1[...,np.newaxis]\n",
    "        \n",
    "        \n",
    "        ## prdeict mode 일 때는 label이 없다! 따라서 label 없는 값을 yield!\n",
    "        if mode == tf.estimator.ModeKeys.PREDICT:\n",
    "            yield{'features': {'x': t1},\n",
    "                 'metadata':{\n",
    "                     'subject_id': subgject_id,\n",
    "                     'sitk': sitk_t1\n",
    "                 }}\n",
    "            \n",
    "            \n",
    "        ## Labels:\n",
    "        ## 이 친구들은 원핫 인코더로 안해주나!??!\n",
    "        ## Label 재혁이 코드 넣기\n",
    "        \n",
    "                ## 이미지 데이터를 로드하는 함수 인듯?\n",
    "        temp_path =os.path.join(data_path,file_label)\n",
    "        temp_file = os.listdir(temp_path)\n",
    "        lbl_path = os.path.join(temp_path,temp_file[0])\n",
    "        \n",
    "        \n",
    "        lbl_path = os.path.join(data_path,file_label)\n",
    "        lbl = sitk.GetArrayFromImage(sitk.ReadImage(Label)).astype(np.int32)\n",
    "        \n",
    "        lbl = whitening(lbl)\n",
    "        lbl = lbl[..., np.newaxis]\n",
    "        y = lbl\n",
    "        \n",
    "        if mode == tf.estimator.ModeKeys.TRAIN:\n",
    "            \n",
    "            # Insert augmentation here\n",
    "            pass\n",
    "        \n",
    "#         if params['extract_examples']:\n",
    "#             images = extract_random_example_array(\n",
    "#                 t1,\n",
    "#                 example_size=params['example_size'],\n",
    "#                 n_examples=params['n_examples'])\n",
    "            \n",
    "#             # Loop the extracted image patches and yield\n",
    "#             for e in range(params['n_examples']):\n",
    "#                 yield {'features': {'x': images[e].astype(np.float32)},\n",
    "#                        'labels': {'y': y.astype(np.int32)},\n",
    "#                        'metadata': {\n",
    "#                            'subject_id': subject_id,\n",
    "#                            'sitk': sitk_t1}}\n",
    "        \n",
    "    \n",
    "        ## Batch 1 이라고 할 때\n",
    "#         else:\n",
    "        yield {'features' : {'x': t1},\n",
    "                'labels':{'y' : y}}\n",
    "        "
   ]
  },
  {
   "cell_type": "markdown",
   "metadata": {},
   "source": [
    "## Using a custom read_fn with TensorFlow"
   ]
  },
  {
   "cell_type": "code",
   "execution_count": 8,
   "metadata": {},
   "outputs": [],
   "source": [
    "\n",
    "## 데이터 타입, 사이즈 와 같은 하이퍼파라미터를 선언해주자\n",
    "reader_example_shapes = {'features': {'x': reader_params['example_size'] + [1,]},\n",
    "                         'labels': {'y': []}}\n",
    "\n",
    "reader_params = {'n_examples': 1,\n",
    "                 'example_size': [256, 256, 256],\n",
    "                 'extract_examples': True}\n",
    "\n",
    "reader_example_dtypes = {'features': {'x': tf.float32},\n",
    "                         'labels': {'y': tf.int32}}\n",
    "\n",
    "reader_example_dtypes = {'features': {'x': tf.float32},\n",
    "                        'labels': {'y': tf.int32}}\n",
    "\n",
    "from dltk.io.abstract_reader import Reader\n",
    "reader = Reader(read_fn=read_fn,\n",
    "               dtypes=reader_example_dtypes)\n"
   ]
  },
  {
   "cell_type": "code",
   "execution_count": 9,
   "metadata": {},
   "outputs": [],
   "source": [
    "# Now, get the input function and queue initialisation hook to use in a `tf.Session` or \n",
    "# with `tf.Estimator`. `shuffle_cache_size` defines the capacity of the queue.\n",
    "\n",
    "# tf.Session 과 tf.Estimator를 사용하기 위해 input_fn과 quene initialisation을 사용하자\n",
    "\n",
    "input_fn, qinit_hook = reader.get_inputs(total_list,\n",
    "                                        tf.estimator.ModeKeys.TRAIN,\n",
    "                                        example_shapes=reader_example_shapes,\n",
    "                                        batch_size=1,\n",
    "                                        shuffle_cache_size=1,\n",
    "                                        params=reader_params)\n",
    "\n",
    "\n",
    "features, labels = input_fn()"
   ]
  },
  {
   "cell_type": "markdown",
   "metadata": {},
   "source": [
    "## Building a model Function"
   ]
  },
  {
   "cell_type": "code",
   "execution_count": 15,
   "metadata": {},
   "outputs": [],
   "source": [
    "\n",
    "import SimpleITK as sitk\n",
    "import tensorflow as tf\n",
    "import os\n",
    "\n",
    "from dltk.io.augmentation import *\n",
    "from dltk.io.preprocessing import *\n",
    "\n",
    "tf.logging.set_verbosity(tf.logging.ERROR)\n",
    "\n",
    "# Generate a simple toy dataset\n",
    "im_width = 256\n",
    "im_height = 256\n",
    "num_imgs = 200\n",
    "\n",
    "def create_test_image(width, height, num_objs=12, rad_max=30):\n",
    "    '''Return a noisy 2D image with `num_objs' circles and a 2D mask image.'''\n",
    "    image = np.zeros((width, height))\n",
    "\n",
    "    for i in range(num_objs):\n",
    "        x = np.random.randint(rad_max, width - rad_max)\n",
    "        y = np.random.randint(rad_max, height - rad_max)\n",
    "        rad = np.random.randint(10, rad_max)\n",
    "        \n",
    "        spy, spx = np.ogrid[-x:width - x, -y:height - y]\n",
    "        circle = (spx * spx + spy * spy) <= rad * rad\n",
    "        image[circle] = np.random.random() * 0.5 + 0.5\n",
    "\n",
    "    norm = np.random.uniform(0, 0.25, size=image.shape)\n",
    "\n",
    "    return np.maximum(image, norm), (image > 0).astype(np.int32) \n",
    "\n",
    "# Note, that the read_fn does not rely on the `file_references` in this case and \n",
    "# just ignores it. Other than that, we create a similar `read_fn` as in \n",
    "# `dltk/examples/tutorials/01_Reading_data.ipynb`:\n",
    "def read_fn(file_references, mode, params=None):\n",
    "    \n",
    "    im, mask = create_test_image(im_width,im_height)\n",
    "    \n",
    "    yield {'features': {'x': im[np.newaxis, :, :, np.newaxis]},\n",
    "           'labels': {'y': mask[np.newaxis]}}"
   ]
  },
  {
   "cell_type": "markdown",
   "metadata": {},
   "source": [
    "Building plotting  hooks for jupyter notebook"
   ]
  },
  {
   "cell_type": "code",
   "execution_count": 16,
   "metadata": {},
   "outputs": [],
   "source": [
    "from matplotlib import pyplot as plt\n",
    "from IPython import display\n",
    "\n",
    "%matplotlib inline\n",
    "\n",
    "\n",
    "class NotebookLoggingHook(tf.train.SessionRunHook):\n",
    "    def __init__(self, fetches):\n",
    "        self.fetches = fetches\n",
    "        self.loss = []\n",
    "        \n",
    "    def before_run(self, run_context):\n",
    "        # Add the tensors to fetch to the session\n",
    "        return tf.train.SessionRunArgs(self.fetches)\n",
    "    \n",
    "    def after_run(self, run_context, run_values):\n",
    "        # Extract the results of the fetched tensors\n",
    "        fetch_dict = run_values.results\n",
    "        \n",
    "        # Assume to have {'loss': scalar, 'input': img, 'output': img, 'truth': img}\n",
    "        self.loss.append(fetch_dict['loss'])\n",
    "        \n",
    "        # Plot stuff using `matplotlib`\n",
    "        f, axarr = plt.subplots(2, 2, figsize=(16,8))\n",
    "        axarr[0,0].imshow(np.squeeze(fetch_dict['x'][0,0,:,:,0]), cmap='gray')\n",
    "        axarr[0,0].set_title('Input: x')\n",
    "        axarr[0,0].axis('off')\n",
    "\n",
    "        axarr[0,1].plot(self.loss)\n",
    "        axarr[0,1].set_title('Crossentropy loss')\n",
    "        axarr[0,1].set_yscale('log')\n",
    "        axarr[0,1].axis('on')\n",
    "\n",
    "        axarr[1,0].imshow(np.squeeze(fetch_dict['y_'][0,0,:,:]), cmap='gray', vmin=0, vmax=1)\n",
    "        axarr[1,0].set_title('Prediction: y_')\n",
    "        axarr[1,0].axis('off')\n",
    "\n",
    "        axarr[1,1].imshow(np.squeeze(fetch_dict['y'][0,0,:,:]), cmap='gray', vmin=0, vmax=1)\n",
    "        axarr[1,1].set_title('Truth: y')\n",
    "        axarr[1,1].axis('off')\n",
    "\n",
    "        display.clear_output(wait=True)\n",
    "        display.display(plt.gcf())\n",
    "        plt.close(f)"
   ]
  },
  {
   "cell_type": "markdown",
   "metadata": {},
   "source": [
    "Building a model_fn"
   ]
  },
  {
   "cell_type": "code",
   "execution_count": 39,
   "metadata": {},
   "outputs": [],
   "source": [
    "# Create a `NotebookLoggingHook`\n",
    "nl_hook = NotebookLoggingHook(None)\n",
    "hooks = [nl_hook]\n",
    "\n",
    "\n",
    "## Model function 만들기 \n",
    "# 인자 : Features, labels,mode, params\n",
    "def model_fn(features, labels, mode, params):\n",
    "    \n",
    "     # 인풋을 넣으면 자동으로 트레인을 할 수 있도록 틀을 짜놓고\n",
    "     # 모델은 바꾸면서 낄 수 있도록\n",
    "#     residual_fcn_3d(inputs,\n",
    "#                     num_classes,\n",
    "#                     num_res_units=1,\n",
    "#                     filters=(16, 32, 64, 128),\n",
    "#                     strides=((1, 1, 1), (2, 2, 2), (2, 2, 2), (2, 2, 2)),\n",
    "#                     mode=tf.estimator.ModeKeys.EVAL,\n",
    "#                     use_bias=False,\n",
    "#                     activation=tf.nn.relu6,\n",
    "#                     kernel_initializer=tf.initializers.variance_scaling(distribution='uniform'),\n",
    "#                     bias_initializer=tf.zeros_initializer(),\n",
    "#                     kernel_regularizer=None,\n",
    "#                     bias_regularizer=None)\n",
    "    # 예시로 모델 하나 불러오기\n",
    "    from dltk.networks.segmentation.fcn import residual_fcn_3d\n",
    "    \n",
    "    ### 왜 Strides 가 (1,2,2) 일까...\n",
    "    ### Z 축으로 이동할 때는 한 칸씩 들어 간다는 뜻인가\n",
    "    net_output_ops = residual_fcn_3d(features['x'], 2, num_res_units=1, filters=(16, 32, 64),\n",
    "                                    strides=((1, 1, 1), (1, 2, 2),  (1, 2, 2)), mode = mode)\n",
    "    \n",
    "    if mode == tf.estimator.ModeKeys.PREDICT:\n",
    "        return tf.estimator.EstimatorSpec(\n",
    "            mode=mode,\n",
    "            predictions=net_output_ops,\n",
    "            export_outputs={'out':tf.estimator.export.PredictOutput(net_output_ops)})\n",
    "    \n",
    "    ## sparse soft max???\n",
    "    loss = tf.losses.sparse_softmax_cross_entropy(labels['y'],\n",
    "                                                 net_output_ops['logits'])\n",
    "    ## global step ??\n",
    "    global_step = tf.train.get_global_step()\n",
    "    optimizer = tf.train.AdamOptimizer(learning_rate=params[\"learning_rate\"],\n",
    "                                      epsilon=1e-5)\n",
    "    \n",
    "    update_ops = tf.get_collection(tf.GraphKeys.UPDATE_OPS)\n",
    "    with tf.control_dependencies(update_ops):\n",
    "        train_op = optimizer.minimize(loss, global_step)\n",
    "    \n",
    "    ## 노트북에 플랏팅하기\n",
    "    \n",
    "    my_notebook_fetches = {}\n",
    "    my_notebook_fetches['loss'] = loss\n",
    "    my_notebook_fetches['x'] = features['x']\n",
    "    my_notebook_fetches['y'] = labels['y']\n",
    "    my_notebook_fetches['y_'] = net_output_ops['y_']\n",
    "    nl_hook.fetches = my_notebook_fetches\n",
    "\n",
    "    \n",
    "    return tf.estimator.EstimatorSpec(mode=mode,\n",
    "                                     predictions=net_output_ops,\n",
    "                                     loss=loss,\n",
    "                                     train_op=train_op,\n",
    "                                     eval_metric_ops=None)\n",
    "    \n",
    "    "
   ]
  },
  {
   "cell_type": "markdown",
   "metadata": {},
   "source": [
    "### input_fn + model_fn 해서 트레이닝 해보자!"
   ]
  },
  {
   "cell_type": "code",
   "execution_count": 40,
   "metadata": {},
   "outputs": [],
   "source": [
    "from dltk.io.abstract_reader import Reader\n",
    "\n",
    "# Set up a data reader to handle the file i/o. \n",
    "reader_example_shapes = {'features': {'x': [1, im_width, im_height, 1]},\n",
    "                         'labels': {'y': [1, im_width, im_height]}}\n",
    "\n",
    "reader = Reader(read_fn, {'features': {'x': tf.float32},\n",
    "                          'labels': {'y': tf.int32}})\n",
    "\n",
    "input_fn, qinit_hook = reader.get_inputs(file_references=None,\n",
    "                                         mode=tf.estimator.ModeKeys.TRAIN,\n",
    "                                         example_shapes=reader_example_shapes)"
   ]
  },
  {
   "cell_type": "code",
   "execution_count": 41,
   "metadata": {},
   "outputs": [],
   "source": [
    "nn = tf.estimator.Estimator(model_fn=model_fn, \n",
    "                            model_dir=None, \n",
    "                            params={\"learning_rate\": 0.001})"
   ]
  },
  {
   "cell_type": "code",
   "execution_count": 43,
   "metadata": {},
   "outputs": [
    {
     "data": {
      "image/png": "[encoded data removed]",
      "text/plain": [
       "<Figure size 1152x576 with 4 Axes>"
      ]
     },
     "metadata": {},
     "output_type": "display_data"
    }
   ],
   "source": [
    "_ = nn.train(input_fn=input_fn, hooks=hooks + [qinit_hook], steps=30)"
   ]
  },
  {
   "cell_type": "markdown",
   "metadata": {},
   "source": [
    "## DLTK Function Test"
   ]
  },
  {
   "cell_type": "code",
   "execution_count": 56,
   "metadata": {},
   "outputs": [],
   "source": [
    "def nii_loader(path,file_name):\n",
    "    file_path =  os.path.join(path,file_name)\n",
    "    fn = os.listdir(file_path)\n",
    "    image = (nib.load(file_path + '/' + fn[0]))\n",
    "    return image\n",
    "\n",
    "\n",
    "data_path = ct_set\n",
    "\n",
    "file_dict = total_list[0]\n",
    "file_name = file_dict['name']\n",
    "file_image = file_dict['image']\n",
    "file_label = file_dict['label']\n",
    "\n",
    "## 이미지 데이터를 로드하는 함수 인듯?\n",
    "temp_path =os.path.join(data_path,file_image)\n",
    "temp_file = os.listdir(temp_path)\n",
    "t1_fn = os.path.join(temp_path,temp_file[0])\n",
    "\n",
    "## Read nii -> image\n",
    "sitk_t1 = sitk.ReadImage(t1_fn)\n",
    "t1 = sitk.GetArrayFromImage(sitk_t1)\n",
    "\n",
    "\n",
    "n1 = nii_loader(data_path,file_image)\n",
    "n1_array = n1.get_data()"
   ]
  },
  {
   "cell_type": "code",
   "execution_count": 55,
   "metadata": {},
   "outputs": [
    {
     "data": {
      "text/plain": [
       "'ct_train_1001_image.nii'"
      ]
     },
     "execution_count": 55,
     "metadata": {},
     "output_type": "execute_result"
    }
   ],
   "source": [
    "file_image"
   ]
  },
  {
   "cell_type": "code",
   "execution_count": 60,
   "metadata": {
    "scrolled": true
   },
   "outputs": [
    {
     "data": {
      "text/plain": [
       "(363, 512, 512)"
      ]
     },
     "execution_count": 60,
     "metadata": {},
     "output_type": "execute_result"
    }
   ],
   "source": [
    "t1.shape"
   ]
  },
  {
   "cell_type": "code",
   "execution_count": 62,
   "metadata": {},
   "outputs": [
    {
     "data": {
      "text/plain": [
       "(512, 512, 363)"
      ]
     },
     "execution_count": 62,
     "metadata": {},
     "output_type": "execute_result"
    }
   ],
   "source": [
    "n1_array.shape"
   ]
  },
  {
   "cell_type": "code",
   "execution_count": 50,
   "metadata": {},
   "outputs": [],
   "source": [
    "n1 = nii_loader(data_path,file_image)\n",
    "n1_array = n1.get_data()"
   ]
  },
  {
   "cell_type": "code",
   "execution_count": 63,
   "metadata": {},
   "outputs": [
    {
     "name": "stderr",
     "output_type": "stream",
     "text": [
      "C:\\Users\\Nakyilkim\\Anaconda3\\lib\\site-packages\\ipykernel_launcher.py:1: DeprecationWarning: elementwise == comparison failed; this will raise an error in the future.\n",
      "  \"\"\"Entry point for launching an IPython kernel.\n"
     ]
    },
    {
     "data": {
      "text/plain": [
       "False"
      ]
     },
     "execution_count": 63,
     "metadata": {},
     "output_type": "execute_result"
    }
   ],
   "source": [
    "n1_array == t1"
   ]
  },
  {
   "cell_type": "code",
   "execution_count": 44,
   "metadata": {},
   "outputs": [
    {
     "data": {
      "text/plain": [
       "[{'name': 'ct_train_1001',\n",
       "  'image': 'ct_train_1001_image.nii',\n",
       "  'label': 'ct_train_1001_label.nii'},\n",
       " {'name': 'ct_train_1002',\n",
       "  'image': 'ct_train_1002_image.nii',\n",
       "  'label': 'ct_train_1002_label.nii'},\n",
       " {'name': 'ct_train_1003',\n",
       "  'image': 'ct_train_1003_image.nii',\n",
       "  'label': 'ct_train_1003_label.nii'},\n",
       " {'name': 'ct_train_1004',\n",
       "  'image': 'ct_train_1004_image.nii',\n",
       "  'label': 'ct_train_1004_label.nii'},\n",
       " {'name': 'ct_train_1005',\n",
       "  'image': 'ct_train_1005_image.nii',\n",
       "  'label': 'ct_train_1005_label.nii'},\n",
       " {'name': 'ct_train_1006',\n",
       "  'image': 'ct_train_1006_image.nii',\n",
       "  'label': 'ct_train_1006_label.nii'},\n",
       " {'name': 'ct_train_1007',\n",
       "  'image': 'ct_train_1007_image.nii',\n",
       "  'label': 'ct_train_1007_label.nii'},\n",
       " {'name': 'ct_train_1008',\n",
       "  'image': 'ct_train_1008_image.nii',\n",
       "  'label': 'ct_train_1008_label.nii'},\n",
       " {'name': 'ct_train_1009',\n",
       "  'image': 'ct_train_1009_image.nii',\n",
       "  'label': 'ct_train_1009_label.nii'},\n",
       " {'name': 'ct_train_1010',\n",
       "  'image': 'ct_train_1010_image.nii',\n",
       "  'label': 'ct_train_1010_label.nii'},\n",
       " {'name': 'ct_train_1011',\n",
       "  'image': 'ct_train_1011_image.nii',\n",
       "  'label': 'ct_train_1011_label.nii'},\n",
       " {'name': 'ct_train_1012',\n",
       "  'image': 'ct_train_1012_image.nii',\n",
       "  'label': 'ct_train_1012_label.nii'},\n",
       " {'name': 'ct_train_1013',\n",
       "  'image': 'ct_train_1013_image.nii',\n",
       "  'label': 'ct_train_1013_label.nii'},\n",
       " {'name': 'ct_train_1014',\n",
       "  'image': 'ct_train_1014_image.nii',\n",
       "  'label': 'ct_train_1014_label.nii'},\n",
       " {'name': 'ct_train_1015',\n",
       "  'image': 'ct_train_1015_image.nii',\n",
       "  'label': 'ct_train_1015_label.nii'},\n",
       " {'name': 'ct_train_1016',\n",
       "  'image': 'ct_train_1016_image.nii',\n",
       "  'label': 'ct_train_1016_label.nii'},\n",
       " {'name': 'ct_train_1017',\n",
       "  'image': 'ct_train_1017_image.nii',\n",
       "  'label': 'ct_train_1017_label.nii'},\n",
       " {'name': 'ct_train_1018',\n",
       "  'image': 'ct_train_1018_image.nii',\n",
       "  'label': 'ct_train_1018_label.nii'},\n",
       " {'name': 'ct_train_1019',\n",
       "  'image': 'ct_train_1019_image.nii',\n",
       "  'label': 'ct_train_1019_label.nii'},\n",
       " {'name': 'ct_train_1020',\n",
       "  'image': 'ct_train_1020_image.nii',\n",
       "  'label': 'ct_train_1020_label.nii'}]"
      ]
     },
     "execution_count": 44,
     "metadata": {},
     "output_type": "execute_result"
    }
   ],
   "source": [
    "total_list"
   ]
  },
  {
   "cell_type": "markdown",
   "metadata": {},
   "source": [
    "### label Encoder 고치기"
   ]
  },
  {
   "cell_type": "code",
   "execution_count": 119,
   "metadata": {},
   "outputs": [],
   "source": [
    "### Check 8 mr_file\n",
    "\n",
    "root = 'D:\\segmentiation/'\n",
    "ct_set = os.path.join(root,'ct_train_test/ct_train/')\n",
    "mr_set = os.path.join(root,'mr_train_test/mr_train/')\n",
    "filenames_ct = os.listdir(ct_set)\n",
    "filenames_mr = os.listdir(mr_set)\n"
   ]
  },
  {
   "cell_type": "code",
   "execution_count": 122,
   "metadata": {},
   "outputs": [],
   "source": [
    "filepath = os.path.join(mr_set,filenames_mr[8])\n"
   ]
  },
  {
   "cell_type": "code",
   "execution_count": 123,
   "metadata": {},
   "outputs": [
    {
     "data": {
      "text/plain": [
       "'D:\\\\segmentiation/mr_train_test/mr_train/mr_train_1005_image.nii'"
      ]
     },
     "execution_count": 123,
     "metadata": {},
     "output_type": "execute_result"
    }
   ],
   "source": [
    "filepath"
   ]
  },
  {
   "cell_type": "code",
   "execution_count": 129,
   "metadata": {},
   "outputs": [],
   "source": [
    "name_list = []\n",
    "for i in filenames_mr:\n",
    "    if i[:13] not in name_list:\n",
    "        name_list.append(i[:13])\n",
    "        \n",
    "total_list = []\n",
    "for i in name_list:\n",
    "    temp_name = i\n",
    "    temp_image = i+'_image.nii'\n",
    "    temp_label = i+'_label.nii'\n",
    "    total_list.append({'name' : temp_name,'image':temp_image,'label':temp_label})"
   ]
  },
  {
   "cell_type": "code",
   "execution_count": 133,
   "metadata": {},
   "outputs": [],
   "source": [
    "filepath = os.path.join(mr_set,total_list[8]['label'])\n",
    "lbl_fn = os.listdir(filepath)\n",
    "lbl = sitk.GetArrayFromImage(sitk.ReadImage(os.path.join(filepath,lbl_fn[0])))\n"
   ]
  },
  {
   "cell_type": "code",
   "execution_count": 135,
   "metadata": {},
   "outputs": [
    {
     "data": {
      "text/plain": [
       "array([  0, 205, 420, 500, 550, 600, 820, 850], dtype=uint16)"
      ]
     },
     "execution_count": 135,
     "metadata": {},
     "output_type": "execute_result"
    }
   ],
   "source": [
    "np.unique(lbl)"
   ]
  },
  {
   "cell_type": "code",
   "execution_count": 136,
   "metadata": {},
   "outputs": [
    {
     "data": {
      "text/plain": [
       "array([  0, 205, 420, 421, 500, 550, 600, 820, 850], dtype=uint16)"
      ]
     },
     "execution_count": 136,
     "metadata": {},
     "output_type": "execute_result"
    }
   ],
   "source": [
    "filepath = os.path.join(mr_set,total_list[9]['label'])\n",
    "lbl_fn = os.listdir(filepath)\n",
    "lbl = sitk.GetArrayFromImage(sitk.ReadImage(os.path.join(filepath,lbl_fn[0])))\n",
    "np.unique(lbl)"
   ]
  },
  {
   "cell_type": "code",
   "execution_count": null,
   "metadata": {},
   "outputs": [],
   "source": []
  },
  {
   "cell_type": "code",
   "execution_count": null,
   "metadata": {},
   "outputs": [],
   "source": []
  },
  {
   "cell_type": "code",
   "execution_count": 83,
   "metadata": {
    "scrolled": true
   },
   "outputs": [],
   "source": [
    "class_type = np.unique(lbl)"
   ]
  },
  {
   "cell_type": "code",
   "execution_count": 84,
   "metadata": {},
   "outputs": [],
   "source": [
    "OHE = OneHotEncoder()"
   ]
  },
  {
   "cell_type": "code",
   "execution_count": 90,
   "metadata": {},
   "outputs": [
    {
     "data": {
      "text/plain": [
       "OneHotEncoder(categorical_features='all', dtype=<class 'numpy.float64'>,\n",
       "       handle_unknown='error', n_values='auto', sparse=True)"
      ]
     },
     "execution_count": 90,
     "metadata": {},
     "output_type": "execute_result"
    }
   ],
   "source": [
    "OHE.fit(class_type.reshape(-1,1))"
   ]
  },
  {
   "cell_type": "code",
   "execution_count": 93,
   "metadata": {},
   "outputs": [
    {
     "data": {
      "text/plain": [
       "array([[1., 0., 0., 0., 0., 0., 0., 0.],\n",
       "       [0., 1., 0., 0., 0., 0., 0., 0.],\n",
       "       [0., 0., 1., 0., 0., 0., 0., 0.],\n",
       "       [0., 0., 0., 1., 0., 0., 0., 0.],\n",
       "       [0., 0., 0., 0., 1., 0., 0., 0.],\n",
       "       [0., 0., 0., 0., 0., 1., 0., 0.],\n",
       "       [0., 0., 0., 0., 0., 0., 1., 0.],\n",
       "       [0., 0., 0., 0., 0., 0., 0., 1.]])"
      ]
     },
     "execution_count": 93,
     "metadata": {},
     "output_type": "execute_result"
    }
   ],
   "source": [
    "OHE.transform(class_type.reshape(-1,1)).toarray()"
   ]
  },
  {
   "cell_type": "code",
   "execution_count": 101,
   "metadata": {},
   "outputs": [
    {
     "data": {
      "text/plain": [
       "array([[0., 0., 1., 0., 0., 0., 0., 0.]])"
      ]
     },
     "execution_count": 101,
     "metadata": {},
     "output_type": "execute_result"
    }
   ],
   "source": [
    "OHE.transform(np.array([[109]])).toarray()"
   ]
  },
  {
   "cell_type": "markdown",
   "metadata": {},
   "source": [
    "### Padding 고치자"
   ]
  },
  {
   "cell_type": "code",
   "execution_count": 142,
   "metadata": {},
   "outputs": [],
   "source": [
    "### Sample Data 만들어서\n",
    "### Padding, Resize 해보자\n",
    "\n",
    "sample_list = [int(i) for i in range(128*128*64)]"
   ]
  },
  {
   "cell_type": "code",
   "execution_count": 144,
   "metadata": {},
   "outputs": [],
   "source": [
    "sample_np = np.array(sample_list).reshape(128,128,64)"
   ]
  },
  {
   "cell_type": "code",
   "execution_count": 150,
   "metadata": {
    "scrolled": true
   },
   "outputs": [],
   "source": [
    "def inspect(numpy):\n",
    "    print(numpy.shape, numpy)"
   ]
  },
  {
   "cell_type": "code",
   "execution_count": 151,
   "metadata": {
    "scrolled": true
   },
   "outputs": [
    {
     "name": "stdout",
     "output_type": "stream",
     "text": [
      "(128, 128, 64) [[[      0       1       2 ...      61      62      63]\n",
      "  [     64      65      66 ...     125     126     127]\n",
      "  [    128     129     130 ...     189     190     191]\n",
      "  ...\n",
      "  [   8000    8001    8002 ...    8061    8062    8063]\n",
      "  [   8064    8065    8066 ...    8125    8126    8127]\n",
      "  [   8128    8129    8130 ...    8189    8190    8191]]\n",
      "\n",
      " [[   8192    8193    8194 ...    8253    8254    8255]\n",
      "  [   8256    8257    8258 ...    8317    8318    8319]\n",
      "  [   8320    8321    8322 ...    8381    8382    8383]\n",
      "  ...\n",
      "  [  16192   16193   16194 ...   16253   16254   16255]\n",
      "  [  16256   16257   16258 ...   16317   16318   16319]\n",
      "  [  16320   16321   16322 ...   16381   16382   16383]]\n",
      "\n",
      " [[  16384   16385   16386 ...   16445   16446   16447]\n",
      "  [  16448   16449   16450 ...   16509   16510   16511]\n",
      "  [  16512   16513   16514 ...   16573   16574   16575]\n",
      "  ...\n",
      "  [  24384   24385   24386 ...   24445   24446   24447]\n",
      "  [  24448   24449   24450 ...   24509   24510   24511]\n",
      "  [  24512   24513   24514 ...   24573   24574   24575]]\n",
      "\n",
      " ...\n",
      "\n",
      " [[1024000 1024001 1024002 ... 1024061 1024062 1024063]\n",
      "  [1024064 1024065 1024066 ... 1024125 1024126 1024127]\n",
      "  [1024128 1024129 1024130 ... 1024189 1024190 1024191]\n",
      "  ...\n",
      "  [1032000 1032001 1032002 ... 1032061 1032062 1032063]\n",
      "  [1032064 1032065 1032066 ... 1032125 1032126 1032127]\n",
      "  [1032128 1032129 1032130 ... 1032189 1032190 1032191]]\n",
      "\n",
      " [[1032192 1032193 1032194 ... 1032253 1032254 1032255]\n",
      "  [1032256 1032257 1032258 ... 1032317 1032318 1032319]\n",
      "  [1032320 1032321 1032322 ... 1032381 1032382 1032383]\n",
      "  ...\n",
      "  [1040192 1040193 1040194 ... 1040253 1040254 1040255]\n",
      "  [1040256 1040257 1040258 ... 1040317 1040318 1040319]\n",
      "  [1040320 1040321 1040322 ... 1040381 1040382 1040383]]\n",
      "\n",
      " [[1040384 1040385 1040386 ... 1040445 1040446 1040447]\n",
      "  [1040448 1040449 1040450 ... 1040509 1040510 1040511]\n",
      "  [1040512 1040513 1040514 ... 1040573 1040574 1040575]\n",
      "  ...\n",
      "  [1048384 1048385 1048386 ... 1048445 1048446 1048447]\n",
      "  [1048448 1048449 1048450 ... 1048509 1048510 1048511]\n",
      "  [1048512 1048513 1048514 ... 1048573 1048574 1048575]]]\n"
     ]
    }
   ],
   "source": [
    "inspect(sample_np)"
   ]
  },
  {
   "cell_type": "code",
   "execution_count": 154,
   "metadata": {},
   "outputs": [],
   "source": [
    "img = np.array([[1,2,3,4,5], [6,7,8,9,10]])\n",
    "padding = 2\n",
    "npad = ((2,2),(2,2))"
   ]
  },
  {
   "cell_type": "code",
   "execution_count": 157,
   "metadata": {},
   "outputs": [
    {
     "data": {
      "text/plain": [
       "array([[ 1,  2,  3,  4,  5],\n",
       "       [ 6,  7,  8,  9, 10]])"
      ]
     },
     "execution_count": 157,
     "metadata": {},
     "output_type": "execute_result"
    }
   ],
   "source": [
    "img"
   ]
  },
  {
   "cell_type": "code",
   "execution_count": null,
   "metadata": {},
   "outputs": [],
   "source": [
    "### img = np.array([[1,2,3,4,5], [6,7,8,9,10]])\n",
    "padding = 2\n",
    "\n",
    "\n",
    "## Axis 0 , Axis 1 순서 대로 인듯\n",
    "## 만약 3차원이였으면 axis = 0 Z 축이 되겠지..\n",
    "## 가장 안쪽만 Pad 해주고 나머지 0 ,0  해야 밑에 해보자\n",
    "npad = ((2,2),(2,2))\n",
    "img_padding = np.pad(img,npad, 'constant', constant_values=(0))\n",
    "plt.imshow(img_padding, cmap ='gray')\n",
    "plt.show()"
   ]
  },
  {
   "cell_type": "markdown",
   "metadata": {},
   "source": [
    "### 3D padding"
   ]
  },
  {
   "cell_type": "code",
   "execution_count": 1,
   "metadata": {},
   "outputs": [
    {
     "ename": "NameError",
     "evalue": "name 'np' is not defined",
     "output_type": "error",
     "traceback": [
      "\u001b[1;31m---------------------------------------------------------------------------\u001b[0m",
      "\u001b[1;31mNameError\u001b[0m                                 Traceback (most recent call last)",
      "\u001b[1;32m<ipython-input-1-290e578dbbfe>\u001b[0m in \u001b[0;36m<module>\u001b[1;34m()\u001b[0m\n\u001b[0;32m      1\u001b[0m \u001b[1;32mfrom\u001b[0m \u001b[0mmpl_toolkits\u001b[0m \u001b[1;32mimport\u001b[0m \u001b[0mmplot3d\u001b[0m\u001b[1;33m\u001b[0m\u001b[0m\n\u001b[0;32m      2\u001b[0m \u001b[1;33m\u001b[0m\u001b[0m\n\u001b[1;32m----> 3\u001b[1;33m img = np.array([[[1,2,3], \n\u001b[0m\u001b[0;32m      4\u001b[0m                 \u001b[1;33m[\u001b[0m\u001b[1;36m15\u001b[0m\u001b[1;33m,\u001b[0m\u001b[1;36m16\u001b[0m\u001b[1;33m,\u001b[0m\u001b[1;36m17\u001b[0m\u001b[1;33m]\u001b[0m\u001b[1;33m,\u001b[0m\u001b[1;33m\u001b[0m\u001b[0m\n\u001b[0;32m      5\u001b[0m                 [18,19,20]]\n",
      "\u001b[1;31mNameError\u001b[0m: name 'np' is not defined"
     ]
    }
   ],
   "source": [
    "from mpl_toolkits import mplot3d\n",
    "\n",
    "img = np.array([[[1,2,3], \n",
    "                [15,16,17],\n",
    "                [18,19,20]]\n",
    "               ]\n",
    "              )\n",
    "\n",
    "\n",
    "npad = ((1,1),(0,0),(0,0))\n",
    "img_padding = np.pad(img,npad, 'constant', constant_values=(0))\n",
    "\n",
    "fig = plt.figure()\n",
    "ax = plt.axes(projection='3d')\n",
    "ax.plot(img_padding)\n",
    "# plt.imshow(img_padding, cmap ='gray')\n",
    "# plt.show()"
   ]
  },
  {
   "cell_type": "code",
   "execution_count": 188,
   "metadata": {},
   "outputs": [
    {
     "data": {
      "text/plain": [
       "array([[ 1,  4,  7],\n",
       "       [12, 15, 18]])"
      ]
     },
     "execution_count": 188,
     "metadata": {},
     "output_type": "execute_result"
    }
   ],
   "source": [
    "img[:,:,0]"
   ]
  },
  {
   "cell_type": "code",
   "execution_count": 189,
   "metadata": {},
   "outputs": [
    {
     "data": {
      "text/plain": [
       "array([[[ 1,  2,  3],\n",
       "        [ 4,  5,  6],\n",
       "        [ 7,  8,  9]],\n",
       "\n",
       "       [[12, 13, 14],\n",
       "        [15, 16, 17],\n",
       "        [18, 19, 20]]])"
      ]
     },
     "execution_count": 189,
     "metadata": {},
     "output_type": "execute_result"
    }
   ],
   "source": [
    "img"
   ]
  },
  {
   "cell_type": "code",
   "execution_count": 173,
   "metadata": {},
   "outputs": [
    {
     "data": {
      "text/plain": [
       "(2, 3, 3)"
      ]
     },
     "execution_count": 173,
     "metadata": {},
     "output_type": "execute_result"
    }
   ],
   "source": [
    "img."
   ]
  },
  {
   "cell_type": "markdown",
   "metadata": {},
   "source": [
    "#### img_padding\n"
   ]
  },
  {
   "cell_type": "code",
   "execution_count": 17,
   "metadata": {},
   "outputs": [
    {
     "data": {
      "text/plain": [
       "array([[0.66666667, 1.        , 1.33333333],\n",
       "       [0.66666667, 1.        , 1.33333333]])"
      ]
     },
     "execution_count": 17,
     "metadata": {},
     "output_type": "execute_result"
    }
   ],
   "source": [
    "img = np.array([[1,2,3,4,5], [6,7,8,9,10]])"
   ]
  },
  {
   "cell_type": "code",
   "execution_count": 18,
   "metadata": {},
   "outputs": [
    {
     "data": {
      "text/plain": [
       "array([[0.66666667, 0.33333333, 2.        ],\n",
       "       [0.66666667, 0.33333333, 2.        ]])"
      ]
     },
     "execution_count": 18,
     "metadata": {},
     "output_type": "execute_result"
    }
   ],
   "source": [
    "np.mean(tmp_array2, axis = 2)"
   ]
  },
  {
   "cell_type": "code",
   "execution_count": null,
   "metadata": {},
   "outputs": [],
   "source": []
  }
 ],
 "metadata": {
  "kernelspec": {
   "display_name": "Python 3",
   "language": "python",
   "name": "python3"
  },
  "language_info": {
   "codemirror_mode": {
    "name": "ipython",
    "version": 3
   },
   "file_extension": ".py",
   "mimetype": "text/x-python",
   "name": "python",
   "nbconvert_exporter": "python",
   "pygments_lexer": "ipython3",
   "version": "3.6.5"
  }
 },
 "nbformat": 4,
 "nbformat_minor": 2
}
